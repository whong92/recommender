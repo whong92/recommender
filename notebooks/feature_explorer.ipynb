{
 "cells": [
  {
   "cell_type": "code",
   "execution_count": 1,
   "metadata": {},
   "outputs": [
    {
     "name": "stderr",
     "output_type": "stream",
     "text": [
      "Using TensorFlow backend.\n"
     ]
    }
   ],
   "source": [
    "import os, sys\n",
    "os.sys.path.append('..')\n",
    "from recommender.utils.ItemMetadata import ExplicitDataFromCSV\n",
    "from recommender.utils.eval_utils import compute_auc, compute_ap\n",
    "#from recommender.recommender.recommenderMF import RecommenderMF\n",
    "from recommender.recommender.recommenderALS import RecommenderALS\n",
    "import pandas as pd\n",
    "import numpy as np\n",
    "import matplotlib.pyplot as plt"
   ]
  },
  {
   "cell_type": "code",
   "execution_count": 2,
   "metadata": {},
   "outputs": [],
   "source": [
    "data_folder = 'D:\\\\PycharmProjects\\\\recommender\\\\data\\\\ml-latest-small'\n",
    "ratings_csv = os.path.join(data_folder, 'ratings_sanitized.csv')\n",
    "user_map_csv = os.path.join(data_folder, 'user_map.csv')\n",
    "item_map_csv = os.path.join(data_folder, 'item_map.csv')\n",
    "md_csv = os.path.join(data_folder, 'metadata.csv')\n",
    "stats_csv = os.path.join(data_folder, 'stats.csv')\n",
    "df_train = os.path.join(data_folder, 'ratings_train.csv')\n",
    "df_test = os.path.join(data_folder, 'ratings_test.csv')\n",
    "exp_data = ExplicitDataFromCSV(True,\n",
    "                        ratings_csv=ratings_csv,\n",
    "                        user_map_csv=user_map_csv,\n",
    "                        item_map_csv=item_map_csv,\n",
    "                        md_csv=md_csv,\n",
    "                        stats_csv=stats_csv,\n",
    "                        ratings_train_csv=df_train,\n",
    "                        ratings_test_csv=df_test\n",
    "                        )"
   ]
  },
  {
   "cell_type": "code",
   "execution_count": 4,
   "metadata": {},
   "outputs": [],
   "source": [
    "model_folder = 'D:\\\\PycharmProjects\\\\recommender\\\\models'\n",
    "model_path = os.path.join(model_folder, 'ALS_2020-02-07.22-44-24')\n",
    "rmf = RecommenderALS(mode='predict', model_path=model_path)"
   ]
  },
  {
   "cell_type": "code",
   "execution_count": 5,
   "metadata": {},
   "outputs": [],
   "source": [
    "# model_path = 'D:/PycharmProjects/recommender/recommender/models/model/07201914185949/'\n",
    "# rmf = RecommenderMF(mode='predict', model_path=model_path)"
   ]
  },
  {
   "cell_type": "code",
   "execution_count": 6,
   "metadata": {},
   "outputs": [],
   "source": [
    "F = rmf.predict(np.zeros(shape=(exp_data.M), dtype=int),np.arange(exp_data.M))"
   ]
  },
  {
   "cell_type": "code",
   "execution_count": 7,
   "metadata": {},
   "outputs": [],
   "source": [
    "D = exp_data.stats.merge(exp_data.md_df, left_index=True, right_on='item_cat', how='inner')\n",
    "D = D.merge(pd.DataFrame({'features': [f for f in F['q']]}), left_index=True, right_index=True)"
   ]
  },
  {
   "cell_type": "code",
   "execution_count": 8,
   "metadata": {},
   "outputs": [
    {
     "data": {
      "text/html": [
       "<div>\n",
       "<style scoped>\n",
       "    .dataframe tbody tr th:only-of-type {\n",
       "        vertical-align: middle;\n",
       "    }\n",
       "\n",
       "    .dataframe tbody tr th {\n",
       "        vertical-align: top;\n",
       "    }\n",
       "\n",
       "    .dataframe thead th {\n",
       "        text-align: right;\n",
       "    }\n",
       "</style>\n",
       "<table border=\"1\" class=\"dataframe\">\n",
       "  <thead>\n",
       "    <tr style=\"text-align: right;\">\n",
       "      <th></th>\n",
       "      <th>user</th>\n",
       "      <th>title</th>\n",
       "      <th>genres</th>\n",
       "      <th>features</th>\n",
       "    </tr>\n",
       "    <tr>\n",
       "      <th>item_cat</th>\n",
       "      <th></th>\n",
       "      <th></th>\n",
       "      <th></th>\n",
       "      <th></th>\n",
       "    </tr>\n",
       "  </thead>\n",
       "  <tbody>\n",
       "    <tr>\n",
       "      <th>0</th>\n",
       "      <td>215</td>\n",
       "      <td>Toy Story (1995)</td>\n",
       "      <td>Adventure|Animation|Children|Comedy|Fantasy</td>\n",
       "      <td>[0.8801038732641481, -0.4948153429947722, -0.0...</td>\n",
       "    </tr>\n",
       "    <tr>\n",
       "      <th>1</th>\n",
       "      <td>110</td>\n",
       "      <td>Jumanji (1995)</td>\n",
       "      <td>Adventure|Children|Fantasy</td>\n",
       "      <td>[1.176932674209176, -0.6232892934668358, -1.06...</td>\n",
       "    </tr>\n",
       "    <tr>\n",
       "      <th>2</th>\n",
       "      <td>52</td>\n",
       "      <td>Grumpier Old Men (1995)</td>\n",
       "      <td>Comedy|Romance</td>\n",
       "      <td>[0.9968068394541449, -0.284737536158248, -1.18...</td>\n",
       "    </tr>\n",
       "    <tr>\n",
       "      <th>3</th>\n",
       "      <td>7</td>\n",
       "      <td>Waiting to Exhale (1995)</td>\n",
       "      <td>Comedy|Drama|Romance</td>\n",
       "      <td>[-0.8267885855747708, -0.4995954871384445, -0....</td>\n",
       "    </tr>\n",
       "    <tr>\n",
       "      <th>4</th>\n",
       "      <td>49</td>\n",
       "      <td>Father of the Bride Part II (1995)</td>\n",
       "      <td>Comedy</td>\n",
       "      <td>[1.3802381587834933, -1.035058890465378, -1.90...</td>\n",
       "    </tr>\n",
       "  </tbody>\n",
       "</table>\n",
       "</div>"
      ],
      "text/plain": [
       "          user                               title  \\\n",
       "item_cat                                             \n",
       "0          215                    Toy Story (1995)   \n",
       "1          110                      Jumanji (1995)   \n",
       "2           52             Grumpier Old Men (1995)   \n",
       "3            7            Waiting to Exhale (1995)   \n",
       "4           49  Father of the Bride Part II (1995)   \n",
       "\n",
       "                                               genres  \\\n",
       "item_cat                                                \n",
       "0         Adventure|Animation|Children|Comedy|Fantasy   \n",
       "1                          Adventure|Children|Fantasy   \n",
       "2                                      Comedy|Romance   \n",
       "3                                Comedy|Drama|Romance   \n",
       "4                                              Comedy   \n",
       "\n",
       "                                                   features  \n",
       "item_cat                                                     \n",
       "0         [0.8801038732641481, -0.4948153429947722, -0.0...  \n",
       "1         [1.176932674209176, -0.6232892934668358, -1.06...  \n",
       "2         [0.9968068394541449, -0.284737536158248, -1.18...  \n",
       "3         [-0.8267885855747708, -0.4995954871384445, -0....  \n",
       "4         [1.3802381587834933, -1.035058890465378, -1.90...  "
      ]
     },
     "execution_count": 8,
     "metadata": {},
     "output_type": "execute_result"
    }
   ],
   "source": [
    "D.head()"
   ]
  },
  {
   "cell_type": "code",
   "execution_count": 9,
   "metadata": {},
   "outputs": [],
   "source": [
    "Dviz = D[D.user>50]"
   ]
  },
  {
   "cell_type": "code",
   "execution_count": 10,
   "metadata": {},
   "outputs": [
    {
     "data": {
      "text/html": [
       "<div>\n",
       "<style scoped>\n",
       "    .dataframe tbody tr th:only-of-type {\n",
       "        vertical-align: middle;\n",
       "    }\n",
       "\n",
       "    .dataframe tbody tr th {\n",
       "        vertical-align: top;\n",
       "    }\n",
       "\n",
       "    .dataframe thead th {\n",
       "        text-align: right;\n",
       "    }\n",
       "</style>\n",
       "<table border=\"1\" class=\"dataframe\">\n",
       "  <thead>\n",
       "    <tr style=\"text-align: right;\">\n",
       "      <th></th>\n",
       "      <th>user</th>\n",
       "      <th>title</th>\n",
       "      <th>genres</th>\n",
       "      <th>features</th>\n",
       "    </tr>\n",
       "    <tr>\n",
       "      <th>item_cat</th>\n",
       "      <th></th>\n",
       "      <th></th>\n",
       "      <th></th>\n",
       "      <th></th>\n",
       "    </tr>\n",
       "  </thead>\n",
       "  <tbody>\n",
       "    <tr>\n",
       "      <th>0</th>\n",
       "      <td>215</td>\n",
       "      <td>Toy Story (1995)</td>\n",
       "      <td>Adventure|Animation|Children|Comedy|Fantasy</td>\n",
       "      <td>[0.8801038732641481, -0.4948153429947722, -0.0...</td>\n",
       "    </tr>\n",
       "    <tr>\n",
       "      <th>1</th>\n",
       "      <td>110</td>\n",
       "      <td>Jumanji (1995)</td>\n",
       "      <td>Adventure|Children|Fantasy</td>\n",
       "      <td>[1.176932674209176, -0.6232892934668358, -1.06...</td>\n",
       "    </tr>\n",
       "    <tr>\n",
       "      <th>2</th>\n",
       "      <td>52</td>\n",
       "      <td>Grumpier Old Men (1995)</td>\n",
       "      <td>Comedy|Romance</td>\n",
       "      <td>[0.9968068394541449, -0.284737536158248, -1.18...</td>\n",
       "    </tr>\n",
       "    <tr>\n",
       "      <th>5</th>\n",
       "      <td>102</td>\n",
       "      <td>Heat (1995)</td>\n",
       "      <td>Action|Crime|Thriller</td>\n",
       "      <td>[0.5701320871838308, -0.10660025590028122, -0....</td>\n",
       "    </tr>\n",
       "    <tr>\n",
       "      <th>6</th>\n",
       "      <td>54</td>\n",
       "      <td>Sabrina (1995)</td>\n",
       "      <td>Comedy|Romance</td>\n",
       "      <td>[1.2463545535250025, -0.8306962429927667, -0.7...</td>\n",
       "    </tr>\n",
       "    <tr>\n",
       "      <th>...</th>\n",
       "      <td>...</td>\n",
       "      <td>...</td>\n",
       "      <td>...</td>\n",
       "      <td>...</td>\n",
       "    </tr>\n",
       "    <tr>\n",
       "      <th>8287</th>\n",
       "      <td>54</td>\n",
       "      <td>Wolf of Wall Street, The (2013)</td>\n",
       "      <td>Comedy|Crime|Drama</td>\n",
       "      <td>[0.2860427625891534, -0.22323284730362597, -0....</td>\n",
       "    </tr>\n",
       "    <tr>\n",
       "      <th>8354</th>\n",
       "      <td>52</td>\n",
       "      <td>Grand Budapest Hotel, The (2014)</td>\n",
       "      <td>Comedy|Drama</td>\n",
       "      <td>[0.16839920949665943, -0.5376144913726314, -1....</td>\n",
       "    </tr>\n",
       "    <tr>\n",
       "      <th>8358</th>\n",
       "      <td>73</td>\n",
       "      <td>Interstellar (2014)</td>\n",
       "      <td>Sci-Fi|IMAX</td>\n",
       "      <td>[0.5622666750655997, -0.5039904187257512, -0.7...</td>\n",
       "    </tr>\n",
       "    <tr>\n",
       "      <th>8457</th>\n",
       "      <td>59</td>\n",
       "      <td>Guardians of the Galaxy (2014)</td>\n",
       "      <td>Action|Adventure|Sci-Fi</td>\n",
       "      <td>[0.31985611392576524, -0.17677387279313933, -0...</td>\n",
       "    </tr>\n",
       "    <tr>\n",
       "      <th>8673</th>\n",
       "      <td>54</td>\n",
       "      <td>Deadpool (2016)</td>\n",
       "      <td>Action|Adventure|Comedy|Sci-Fi</td>\n",
       "      <td>[0.5605650861075205, -0.10255980324430206, -0....</td>\n",
       "    </tr>\n",
       "  </tbody>\n",
       "</table>\n",
       "<p>436 rows × 4 columns</p>\n",
       "</div>"
      ],
      "text/plain": [
       "          user                             title  \\\n",
       "item_cat                                           \n",
       "0          215                  Toy Story (1995)   \n",
       "1          110                    Jumanji (1995)   \n",
       "2           52           Grumpier Old Men (1995)   \n",
       "5          102                       Heat (1995)   \n",
       "6           54                    Sabrina (1995)   \n",
       "...        ...                               ...   \n",
       "8287        54   Wolf of Wall Street, The (2013)   \n",
       "8354        52  Grand Budapest Hotel, The (2014)   \n",
       "8358        73               Interstellar (2014)   \n",
       "8457        59    Guardians of the Galaxy (2014)   \n",
       "8673        54                   Deadpool (2016)   \n",
       "\n",
       "                                               genres  \\\n",
       "item_cat                                                \n",
       "0         Adventure|Animation|Children|Comedy|Fantasy   \n",
       "1                          Adventure|Children|Fantasy   \n",
       "2                                      Comedy|Romance   \n",
       "5                               Action|Crime|Thriller   \n",
       "6                                      Comedy|Romance   \n",
       "...                                               ...   \n",
       "8287                               Comedy|Crime|Drama   \n",
       "8354                                     Comedy|Drama   \n",
       "8358                                      Sci-Fi|IMAX   \n",
       "8457                          Action|Adventure|Sci-Fi   \n",
       "8673                   Action|Adventure|Comedy|Sci-Fi   \n",
       "\n",
       "                                                   features  \n",
       "item_cat                                                     \n",
       "0         [0.8801038732641481, -0.4948153429947722, -0.0...  \n",
       "1         [1.176932674209176, -0.6232892934668358, -1.06...  \n",
       "2         [0.9968068394541449, -0.284737536158248, -1.18...  \n",
       "5         [0.5701320871838308, -0.10660025590028122, -0....  \n",
       "6         [1.2463545535250025, -0.8306962429927667, -0.7...  \n",
       "...                                                     ...  \n",
       "8287      [0.2860427625891534, -0.22323284730362597, -0....  \n",
       "8354      [0.16839920949665943, -0.5376144913726314, -1....  \n",
       "8358      [0.5622666750655997, -0.5039904187257512, -0.7...  \n",
       "8457      [0.31985611392576524, -0.17677387279313933, -0...  \n",
       "8673      [0.5605650861075205, -0.10255980324430206, -0....  \n",
       "\n",
       "[436 rows x 4 columns]"
      ]
     },
     "execution_count": 10,
     "metadata": {},
     "output_type": "execute_result"
    }
   ],
   "source": [
    "Dviz"
   ]
  },
  {
   "cell_type": "code",
   "execution_count": 11,
   "metadata": {},
   "outputs": [
    {
     "data": {
      "text/plain": [
       "(436, 2)"
      ]
     },
     "execution_count": 11,
     "metadata": {},
     "output_type": "execute_result"
    }
   ],
   "source": [
    "from sklearn.manifold import TSNE\n",
    "tsne = TSNE(n_iter=15000, metric=\"cosine\")\n",
    "Q = np.array([f for f in Dviz['features']])\n",
    "Q_emb = tsne.fit_transform(Q)\n",
    "Q_emb.shape"
   ]
  },
  {
   "cell_type": "code",
   "execution_count": 14,
   "metadata": {},
   "outputs": [
    {
     "data": {
      "text/html": [
       "        <script type=\"text/javascript\">\n",
       "        window.PlotlyConfig = {MathJaxConfig: 'local'};\n",
       "        if (window.MathJax) {MathJax.Hub.Config({SVG: {font: \"STIX-Web\"}});}\n",
       "        if (typeof require !== 'undefined') {\n",
       "        require.undef(\"plotly\");\n",
       "        requirejs.config({\n",
       "            paths: {\n",
       "                'plotly': ['https://cdn.plot.ly/plotly-latest.min']\n",
       "            }\n",
       "        });\n",
       "        require(['plotly'], function(Plotly) {\n",
       "            window._Plotly = Plotly;\n",
       "        });\n",
       "        }\n",
       "        </script>\n",
       "        "
      ]
     },
     "metadata": {},
     "output_type": "display_data"
    }
   ],
   "source": [
    "import plotly\n",
    "import plotly.offline as py\n",
    "import plotly.graph_objs as go\n",
    "plotly.offline.init_notebook_mode(connected=True)"
   ]
  },
  {
   "cell_type": "code",
   "execution_count": 15,
   "metadata": {},
   "outputs": [],
   "source": [
    "trace = go.Scatter(x=Q_emb[:,0], y=Q_emb[:,1], text=Dviz['title'], mode='markers')"
   ]
  },
  {
   "cell_type": "code",
   "execution_count": 16,
   "metadata": {},
   "outputs": [
    {
     "name": "stdout",
     "output_type": "stream",
     "text": [
      "caculated embedding shape (436, 2)\n"
     ]
    }
   ],
   "source": [
    "Dviz.set_index(np.arange(len(Dviz)), inplace=True)\n",
    "query_ids = np.array([f for f in Dviz.loc[Dviz.title.str.startswith('Star Wars')].index])\n",
    "#query_ids = np.array([f for f in Dviz.loc[Dviz.genres.map(lambda p: 'Horror' in p.split('|'))].index])\n",
    "query_emb = Q_emb[query_ids]\n",
    "query_titles = Dviz.loc[query_ids]['title']\n",
    "trace2 = go.Scatter(x=query_emb[:,0], y=query_emb[:,1], text=query_titles, mode='markers')\n",
    "print('caculated embedding shape', Q_emb.shape)"
   ]
  },
  {
   "cell_type": "code",
   "execution_count": 17,
   "metadata": {},
   "outputs": [
    {
     "data": {
      "application/vnd.plotly.v1+json": {
       "config": {
        "linkText": "Export to plot.ly",
        "plotlyServerURL": "https://plot.ly",
        "showLink": false
       },
       "data": [
        {
         "mode": "markers",
         "text": [
          "Toy Story (1995)",
          "Jumanji (1995)",
          "Grumpier Old Men (1995)",
          "Heat (1995)",
          "Sabrina (1995)",
          "GoldenEye (1995)",
          "American President, The (1995)",
          "Casino (1995)",
          "Sense and Sensibility (1995)",
          "Ace Ventura: When Nature Calls (1995)",
          "Get Shorty (1995)",
          "Leaving Las Vegas (1995)",
          "Twelve Monkeys (a.k.a. 12 Monkeys) (1995)",
          "Babe (1995)",
          "Dead Man Walking (1995)",
          "Clueless (1995)",
          "Seven (a.k.a. Se7en) (1995)",
          "Pocahontas (1995)",
          "Usual Suspects, The (1995)",
          "Mr. Holland's Opus (1995)",
          "From Dusk Till Dawn (1996)",
          "Broken Arrow (1996)",
          "Happy Gilmore (1996)",
          "Braveheart (1995)",
          "Taxi Driver (1976)",
          "Birdcage, The (1996)",
          "Bad Boys (1995)",
          "Apollo 13 (1995)",
          "Batman Forever (1995)",
          "Casper (1995)",
          "Congo (1995)",
          "Crimson Tide (1995)",
          "Desperado (1995)",
          "Die Hard: With a Vengeance (1995)",
          "First Knight (1995)",
          "Johnny Mnemonic (1995)",
          "Judge Dredd (1995)",
          "Net, The (1995)",
          "Waterworld (1995)",
          "Clerks (1994)",
          "Disclosure (1994)",
          "Dumb & Dumber (Dumb and Dumber) (1994)",
          "Ed Wood (1994)",
          "Interview with the Vampire: The Vampire Chronicles (1994)",
          "Star Wars: Episode IV - A New Hope (1977)",
          "Legends of the Fall (1994)",
          "Natural Born Killers (1994)",
          "Outbreak (1995)",
          "Léon: The Professional (a.k.a. The Professional) (Léon) (1994)",
          "Pulp Fiction (1994)",
          "Quiz Show (1994)",
          "Stargate (1994)",
          "Santa Clause, The (1994)",
          "Shawshank Redemption, The (1994)",
          "Star Trek: Generations (1994)",
          "What's Eating Gilbert Grape (1993)",
          "While You Were Sleeping (1995)",
          "Ace Ventura: Pet Detective (1994)",
          "Clear and Present Danger (1994)",
          "Client, The (1994)",
          "Crow, The (1994)",
          "Forrest Gump (1994)",
          "Four Weddings and a Funeral (1994)",
          "Lion King, The (1994)",
          "Mask, The (1994)",
          "Maverick (1994)",
          "Naked Gun 33 1/3: The Final Insult (1994)",
          "Speed (1994)",
          "True Lies (1994)",
          "Addams Family Values (1993)",
          "Beverly Hills Cop III (1994)",
          "City Slickers II: The Legend of Curly's Gold (1994)",
          "Cliffhanger (1993)",
          "Coneheads (1993)",
          "Dave (1993)",
          "Demolition Man (1993)",
          "Firm, The (1993)",
          "Fugitive, The (1993)",
          "Hot Shots! Part Deux (1993)",
          "In the Line of Fire (1993)",
          "Jurassic Park (1993)",
          "Last Action Hero (1993)",
          "Mrs. Doubtfire (1993)",
          "Philadelphia (1993)",
          "Piano, The (1993)",
          "Robin Hood: Men in Tights (1993)",
          "Schindler's List (1993)",
          "Sleepless in Seattle (1993)",
          "Blade Runner (1982)",
          "Nightmare Before Christmas, The (1993)",
          "Three Musketeers, The (1993)",
          "Tombstone (1993)",
          "True Romance (1993)",
          "Home Alone (1990)",
          "Ghost (1990)",
          "Aladdin (1992)",
          "Terminator 2: Judgment Day (1991)",
          "Dances with Wolves (1990)",
          "Batman (1989)",
          "Silence of the Lambs, The (1991)",
          "Snow White and the Seven Dwarfs (1937)",
          "Beauty and the Beast (1991)",
          "Pinocchio (1940)",
          "Pretty Woman (1990)",
          "Fargo (1996)",
          "Mission: Impossible (1996)",
          "Dragonheart (1996)",
          "Space Jam (1996)",
          "Truth About Cats & Dogs, The (1996)",
          "Rock, The (1996)",
          "Twister (1996)",
          "Dr. Strangelove or: How I Learned to Stop Worrying and Love the Bomb (1964)",
          "Trainspotting (1996)",
          "Independence Day (a.k.a. ID4) (1996)",
          "Cable Guy, The (1996)",
          "Eraser (1996)",
          "Nutty Professor, The (1996)",
          "Godfather, The (1972)",
          "Vertigo (1958)",
          "Rear Window (1954)",
          "North by Northwest (1959)",
          "Casablanca (1942)",
          "Wizard of Oz, The (1939)",
          "Citizen Kane (1941)",
          "2001: A Space Odyssey (1968)",
          "It's a Wonderful Life (1946)",
          "Mary Poppins (1964)",
          "Sound of Music, The (1965)",
          "Die Hard (1988)",
          "Willy Wonka & the Chocolate Factory (1971)",
          "Fish Called Wanda, A (1988)",
          "Monty Python's Life of Brian (1979)",
          "Reservoir Dogs (1992)",
          "Platoon (1986)",
          "E.T. the Extra-Terrestrial (1982)",
          "Top Gun (1986)",
          "Abyss, The (1989)",
          "Monty Python and the Holy Grail (1975)",
          "Wallace & Gromit: The Wrong Trousers (1993)",
          "One Flew Over the Cuckoo's Nest (1975)",
          "Star Wars: Episode V - The Empire Strikes Back (1980)",
          "Princess Bride, The (1987)",
          "Raiders of the Lost Ark (Indiana Jones and the Raiders of the Lost Ark) (1981)",
          "Brazil (1985)",
          "Aliens (1986)",
          "Good, the Bad and the Ugly, The (Buono, il brutto, il cattivo, Il) (1966)",
          "12 Angry Men (1957)",
          "Clockwork Orange, A (1971)",
          "To Kill a Mockingbird (1962)",
          "Apocalypse Now (1979)",
          "Star Wars: Episode VI - Return of the Jedi (1983)",
          "Goodfellas (1990)",
          "Alien (1979)",
          "Army of Darkness (1993)",
          "Psycho (1960)",
          "Blues Brothers, The (1980)",
          "Godfather: Part II, The (1974)",
          "Full Metal Jacket (1987)",
          "Amadeus (1984)",
          "Annie Hall (1977)",
          "Sting, The (1973)",
          "Terminator, The (1984)",
          "Dead Poets Society (1989)",
          "Graduate, The (1967)",
          "Chinatown (1974)",
          "Shining, The (1980)",
          "Stand by Me (1986)",
          "Groundhog Day (1993)",
          "Back to the Future (1985)",
          "Cool Hand Luke (1967)",
          "Young Frankenstein (1974)",
          "Fantasia (1940)",
          "This Is Spinal Tap (1984)",
          "Indiana Jones and the Last Crusade (1989)",
          "Field of Dreams (1989)",
          "Butch Cassidy and the Sundance Kid (1969)",
          "When Harry Met Sally... (1989)",
          "Star Trek: First Contact (1996)",
          "Die Hard 2 (1990)",
          "Star Trek II: The Wrath of Khan (1982)",
          "Batman Returns (1992)",
          "Grease (1978)",
          "Jaws (1975)",
          "Mars Attacks! (1996)",
          "Jerry Maguire (1996)",
          "Raising Arizona (1987)",
          "Scream (1996)",
          "Donnie Brasco (1997)",
          "Liar Liar (1997)",
          "Grosse Pointe Blank (1997)",
          "Austin Powers: International Man of Mystery (1997)",
          "Fifth Element, The (1997)",
          "Lost World: Jurassic Park, The (1997)",
          "Con Air (1997)",
          "Face/Off (1997)",
          "Men in Black (a.k.a. MIB) (1997)",
          "Contact (1997)",
          "Air Force One (1997)",
          "Hunt for Red October, The (1990)",
          "L.A. Confidential (1997)",
          "Game, The (1997)",
          "Chasing Amy (1997)",
          "Full Monty, The (1997)",
          "The Devil's Advocate (1997)",
          "Gattaca (1997)",
          "Starship Troopers (1997)",
          "Truman Show, The (1998)",
          "Good Will Hunting (1997)",
          "Titanic (1997)",
          "Big Lebowski, The (1998)",
          "Wedding Singer, The (1998)",
          "As Good as It Gets (1997)",
          "Armageddon (1998)",
          "There's Something About Mary (1998)",
          "Rocky (1976)",
          "Rain Man (1988)",
          "Breakfast Club, The (1985)",
          "Exorcist, The (1973)",
          "Lethal Weapon (1987)",
          "Goonies, The (1985)",
          "Mask of Zorro, The (1998)",
          "Back to the Future Part II (1989)",
          "Back to the Future Part III (1990)",
          "Saving Private Ryan (1998)",
          "Honey, I Shrunk the Kids (1989)",
          "Jungle Book, The (1967)",
          "Lady and the Tramp (1955)",
          "Little Mermaid, The (1989)",
          "Splash (1984)",
          "Indiana Jones and the Temple of Doom (1984)",
          "Blade (1998)",
          "Beetlejuice (1988)",
          "Untouchables, The (1987)",
          "Few Good Men, A (1992)",
          "Edward Scissorhands (1990)",
          "My Cousin Vinny (1992)",
          "Pleasantville (1998)",
          "Life Is Beautiful (La Vita è bella) (1997)",
          "American History X (1998)",
          "Enemy of the State (1998)",
          "Bug's Life, A (1998)",
          "Rushmore (1998)",
          "Shakespeare in Love (1998)",
          "Romancing the Stone (1984)",
          "Crocodile Dundee (1986)",
          "Office Space (1999)",
          "Planet of the Apes (1968)",
          "Lock, Stock & Two Smoking Barrels (1998)",
          "Matrix, The (1999)",
          "10 Things I Hate About You (1999)",
          "Election (1999)",
          "Mummy, The (1999)",
          "Star Wars: Episode I - The Phantom Menace (1999)",
          "Superman (1978)",
          "Rocky Horror Picture Show, The (1975)",
          "Notting Hill (1999)",
          "Austin Powers: The Spy Who Shagged Me (1999)",
          "Run Lola Run (Lola rennt) (1998)",
          "Arachnophobia (1990)",
          "South Park: Bigger, Longer and Uncut (1999)",
          "Wild Wild West (1999)",
          "American Pie (1999)",
          "Blair Witch Project, The (1999)",
          "Eyes Wide Shut (1999)",
          "Ghostbusters (a.k.a. Ghost Busters) (1984)",
          "Sixth Sense, The (1999)",
          "Airplane! (1980)",
          "Big (1988)",
          "Christmas Story, A (1983)",
          "American Beauty (1999)",
          "Total Recall (1990)",
          "Ferris Bueller's Day Off (1986)",
          "Goldfinger (1964)",
          "Fight Club (1999)",
          "RoboCop (1987)",
          "Who Framed Roger Rabbit? (1988)",
          "Being John Malkovich (1999)",
          "Spaceballs (1987)",
          "Dogma (1999)",
          "Sleepy Hollow (1999)",
          "Toy Story 2 (1999)",
          "Green Mile, The (1999)",
          "Magnolia (1999)",
          "Galaxy Quest (1999)",
          "Wayne's World (1992)",
          "Erin Brockovich (2000)",
          "Animal House (1978)",
          "Close Encounters of the Third Kind (1977)",
          "High Fidelity (2000)",
          "Hook (1991)",
          "Predator (1987)",
          "American Psycho (2000)",
          "Caddyshack (1980)",
          "Gladiator (2000)",
          "Mission: Impossible II (2000)",
          "Blazing Saddles (1974)",
          "Gone in 60 Seconds (2000)",
          "Chicken Run (2000)",
          "Patriot, The (2000)",
          "X-Men (2000)",
          "Almost Famous (2000)",
          "Best in Show (2000)",
          "Meet the Parents (2000)",
          "Requiem for a Dream (2000)",
          "Charlie's Angels (2000)",
          "Unbreakable (2000)",
          "Crouching Tiger, Hidden Dragon (Wo hu cang long) (2000)",
          "Snatch (2000)",
          "What Women Want (2000)",
          "Cast Away (2000)",
          "Miss Congeniality (2000)",
          "O Brother, Where Art Thou? (2000)",
          "Traffic (2000)",
          "Memento (2000)",
          "Blow (2001)",
          "Bridget Jones's Diary (2001)",
          "Scarface (1983)",
          "Shrek (2001)",
          "Moulin Rouge (2001)",
          "A.I. Artificial Intelligence (2001)",
          "Legally Blonde (2001)",
          "Others, The (2001)",
          "Training Day (2001)",
          "Zoolander (2001)",
          "Mulholland Drive (2001)",
          "Donnie Darko (2001)",
          "Monsters, Inc. (2001)",
          "Harry Potter and the Sorcerer's Stone (a.k.a. Harry Potter and the Philosopher's Stone) (2001)",
          "Ocean's Eleven (2001)",
          "Amelie (Fabuleux destin d'Amélie Poulain, Le) (2001)",
          "Royal Tenenbaums, The (2001)",
          "Lord of the Rings: The Fellowship of the Ring, The (2001)",
          "Beautiful Mind, A (2001)",
          "Ice Age (2002)",
          "My Big Fat Greek Wedding (2002)",
          "Spider-Man (2002)",
          "Star Wars: Episode II - Attack of the Clones (2002)",
          "Bourne Identity, The (2002)",
          "Minority Report (2002)",
          "Men in Black II (a.k.a. MIIB) (a.k.a. MIB 2) (2002)",
          "Austin Powers in Goldmember (2002)",
          "Signs (2002)",
          "Spirited Away (Sen to Chihiro no kamikakushi) (2001)",
          "Bowling for Columbine (2002)",
          "Harry Potter and the Chamber of Secrets (2002)",
          "Lord of the Rings: The Two Towers, The (2002)",
          "Gangs of New York (2002)",
          "Catch Me If You Can (2002)",
          "City of God (Cidade de Deus) (2002)",
          "X2: X-Men United (2003)",
          "Matrix Reloaded, The (2003)",
          "Bruce Almighty (2003)",
          "Finding Nemo (2003)",
          "Italian Job, The (2003)",
          "28 Days Later (2002)",
          "Pirates of the Caribbean: The Curse of the Black Pearl (2003)",
          "Lost in Translation (2003)",
          "School of Rock (2003)",
          "Mystic River (2003)",
          "Kill Bill: Vol. 1 (2003)",
          "Matrix Revolutions, The (2003)",
          "Love Actually (2003)",
          "Last Samurai, The (2003)",
          "Big Fish (2003)",
          "Lord of the Rings: The Return of the King, The (2003)",
          "Eternal Sunshine of the Spotless Mind (2004)",
          "Kill Bill: Vol. 2 (2004)",
          "Shrek 2 (2004)",
          "Harry Potter and the Prisoner of Azkaban (2004)",
          "Spider-Man 2 (2004)",
          "Anchorman: The Legend of Ron Burgundy (2004)",
          "I, Robot (2004)",
          "Bourne Supremacy, The (2004)",
          "Shaun of the Dead (2004)",
          "Incredibles, The (2004)",
          "Million Dollar Baby (2004)",
          "Charlie and the Chocolate Factory (2005)",
          "Sin City (2005)",
          "Star Wars: Episode III - Revenge of the Sith (2005)",
          "Mr. & Mrs. Smith (2005)",
          "Batman Begins (2005)",
          "Wedding Crashers (2005)",
          "40-Year-Old Virgin, The (2005)",
          "Harry Potter and the Goblet of Fire (2005)",
          "Chronicles of Narnia: The Lion, the Witch and the Wardrobe, The (2005)",
          "V for Vendetta (2006)",
          "X-Men: The Last Stand (2006)",
          "Pirates of the Caribbean: Dead Man's Chest (2006)",
          "Little Miss Sunshine (2006)",
          "Borat: Cultural Learnings of America for Make Benefit Glorious Nation of Kazakhstan (2006)",
          "Pan's Labyrinth (Laberinto del fauno, El) (2006)",
          "Departed, The (2006)",
          "Children of Men (2006)",
          "Prestige, The (2006)",
          "Casino Royale (2006)",
          "Blood Diamond (2006)",
          "Ratatouille (2007)",
          "Hot Fuzz (2007)",
          "300 (2007)",
          "Knocked Up (2007)",
          "Pirates of the Caribbean: At World's End (2007)",
          "Harry Potter and the Order of the Phoenix (2007)",
          "Bourne Ultimatum, The (2007)",
          "Superbad (2007)",
          "No Country for Old Men (2007)",
          "I Am Legend (2007)",
          "Juno (2007)",
          "Dark Knight, The (2008)",
          "Iron Man (2008)",
          "Kung Fu Panda (2008)",
          "WALL·E (2008)",
          "Slumdog Millionaire (2008)",
          "Inglourious Basterds (2009)",
          "Star Trek (2009)",
          "Up (2009)",
          "Hangover, The (2009)",
          "Harry Potter and the Half-Blood Prince (2009)",
          "District 9 (2009)",
          "Zombieland (2009)",
          "Avatar (2009)",
          "Sherlock Holmes (2009)",
          "Shutter Island (2010)",
          "How to Train Your Dragon (2010)",
          "Toy Story 3 (2010)",
          "Inception (2010)",
          "Social Network, The (2010)",
          "King's Speech, The (2010)",
          "Avengers, The (2012)",
          "The Hunger Games (2012)",
          "Dark Knight Rises, The (2012)",
          "Django Unchained (2012)",
          "Wolf of Wall Street, The (2013)",
          "Grand Budapest Hotel, The (2014)",
          "Interstellar (2014)",
          "Guardians of the Galaxy (2014)",
          "Deadpool (2016)"
         ],
         "type": "scatter",
         "x": [
          8.343152046203613,
          15.508755683898926,
          21.24282455444336,
          5.1136016845703125,
          21.47924041748047,
          10.282005310058594,
          20.26980972290039,
          4.086398124694824,
          7.708523273468018,
          14.557783126831055,
          7.516706943511963,
          7.126573085784912,
          6.920673847198486,
          13.06837272644043,
          8.181538581848145,
          17.222509384155273,
          6.4158782958984375,
          18.323165893554688,
          6.068028450012207,
          16.395448684692383,
          7.383176803588867,
          16.49315071105957,
          13.778977394104004,
          6.414706707000732,
          4.279379844665527,
          15.033123016357422,
          15.598289489746094,
          7.95999813079834,
          13.670406341552734,
          18.149995803833008,
          15.987256050109863,
          11.982349395751953,
          13.188767433166504,
          9.937881469726562,
          17.48724365234375,
          16.828636169433594,
          13.911828994750977,
          14.445845603942871,
          12.461732864379883,
          10.55137825012207,
          18.627779006958008,
          11.389764785766602,
          6.306025505065918,
          13.175771713256836,
          7.1519341468811035,
          17.491743087768555,
          6.448934078216553,
          12.7542724609375,
          5.684956073760986,
          6.409201145172119,
          6.687663555145264,
          10.680624961853027,
          17.572940826416016,
          7.728328704833984,
          13.776947021484375,
          8.100078582763672,
          19.107507705688477,
          12.296735763549805,
          15.116219520568848,
          20.82111167907715,
          17.150300979614258,
          7.442080974578857,
          14.143301963806152,
          10.02082347869873,
          11.547078132629395,
          16.212337493896484,
          13.304534912109375,
          8.608928680419922,
          12.24811840057373,
          16.341083526611328,
          17.99309730529785,
          18.562856674194336,
          14.504210472106934,
          16.45070457458496,
          19.4681396484375,
          14.1405668258667,
          8.350790023803711,
          7.949406623840332,
          16.155855178833008,
          7.61407995223999,
          8.746621131896973,
          14.896830558776855,
          11.522336959838867,
          9.596593856811523,
          21.28487205505371,
          14.437966346740723,
          6.673401355743408,
          16.59914779663086,
          2.1401448249816895,
          15.288397789001465,
          17.398277282714844,
          15.690132141113281,
          4.68074369430542,
          12.282379150390625,
          15.886451721191406,
          10.680414199829102,
          7.225170135498047,
          8.904671669006348,
          8.88318157196045,
          7.248856067657471,
          19.7692813873291,
          12.63227367401123,
          17.30999183654785,
          13.83456802368164,
          5.729413032531738,
          9.173192024230957,
          15.279802322387695,
          16.981935501098633,
          20.85451316833496,
          11.491803169250488,
          13.477953910827637,
          0.4246287941932678,
          4.378279685974121,
          8.689038276672363,
          17.066225051879883,
          15.458980560302734,
          14.920374870300293,
          3.1735494136810303,
          -3.9133965969085693,
          0.26802411675453186,
          -5.247727394104004,
          -1.1108342409133911,
          -1.8831028938293457,
          -1.56785249710083,
          2.591116189956665,
          -3.2121739387512207,
          17.05455207824707,
          16.892467498779297,
          6.250856399536133,
          13.51019287109375,
          8.869126319885254,
          0.6965783834457397,
          0.6102054119110107,
          4.391932487487793,
          4.07275915145874,
          7.556605339050293,
          4.995906829833984,
          -0.12149546295404434,
          0.5812390446662903,
          1.6695648431777954,
          4.081389427185059,
          4.07143497467041,
          3.376035213470459,
          -5.606865882873535,
          2.0661661624908447,
          3.698451280593872,
          -3.3229939937591553,
          0.5172175765037537,
          -3.2401044368743896,
          0.25231292843818665,
          6.989869594573975,
          1.2707648277282715,
          2.4216418266296387,
          5.38673734664917,
          -2.164510488510132,
          -0.2744028568267822,
          0.994472324848175,
          -0.37773290276527405,
          -3.2607312202453613,
          -2.660125970840454,
          -1.0012024641036987,
          4.304632663726807,
          3.3447682857513428,
          -1.382430076599121,
          -3.9065024852752686,
          1.743087649345398,
          2.122663736343384,
          3.124516487121582,
          3.603044271469116,
          -1.128758192062378,
          -2.141223669052124,
          6.469742774963379,
          -0.38342368602752686,
          3.9526185989379883,
          7.4079484939575195,
          6.782115936279297,
          6.358750820159912,
          11.742573738098145,
          8.046392440795898,
          11.143282890319824,
          11.947768211364746,
          4.981103420257568,
          0.6055083870887756,
          11.862548828125,
          11.820574760437012,
          0.0801769271492958,
          15.128423690795898,
          -4.394175052642822,
          15.503396987915039,
          1.7788007259368896,
          4.735532283782959,
          5.478567123413086,
          11.401673316955566,
          12.026070594787598,
          9.673678398132324,
          5.006326675415039,
          7.1336212158203125,
          11.08303165435791,
          4.354981422424316,
          -2.7398602962493896,
          3.437483072280884,
          7.8005571365356445,
          6.967116832733154,
          5.722428321838379,
          0.8905209302902222,
          10.23974323272705,
          -0.4407338500022888,
          2.7616708278656006,
          3.708414077758789,
          0.6343674659729004,
          6.774951457977295,
          3.8383569717407227,
          6.531282901763916,
          2.4082953929901123,
          1.4332060813903809,
          0.8436455130577087,
          -1.8451892137527466,
          -0.383145272731781,
          3.917804479598999,
          3.3492531776428223,
          9.823086738586426,
          9.203179359436035,
          6.221022129058838,
          3.7150394916534424,
          7.814766883850098,
          2.916303873062134,
          3.4050676822662354,
          6.300028324127197,
          4.745316982269287,
          6.474946022033691,
          10.684943199157715,
          3.9886860847473145,
          -4.571615695953369,
          7.998886585235596,
          0.21546193957328796,
          5.771262168884277,
          5.126668930053711,
          0.040815066546201706,
          1.0769578218460083,
          4.424618244171143,
          2.7304739952087402,
          1.8176709413528442,
          4.614773273468018,
          0.5210632085800171,
          1.9608927965164185,
          3.1230337619781494,
          2.0760085582733154,
          0.8959037661552429,
          3.487917900085449,
          7.516316890716553,
          2.123818874359131,
          5.510288715362549,
          2.422914743423462,
          10.887287139892578,
          0.8466048240661621,
          5.847617149353027,
          2.820012331008911,
          -2.3120415210723877,
          10.117033004760742,
          3.550370931625366,
          10.081841468811035,
          3.234558343887329,
          -0.5433160066604614,
          -1.9211952686309814,
          1.4574304819107056,
          2.6055800914764404,
          2.339519500732422,
          5.246115207672119,
          2.9873862266540527,
          1.4915484189987183,
          6.372726917266846,
          -0.5223861932754517,
          3.6142964363098145,
          2.7947628498077393,
          5.0204620361328125,
          2.9289989471435547,
          -1.8216763734817505,
          1.202010154724121,
          5.0688347816467285,
          4.8793110847473145,
          -1.2357267141342163,
          1.3952140808105469,
          -0.14092783629894257,
          3.8600306510925293,
          2.775635004043579,
          3.6378581523895264,
          0.1051771342754364,
          1.0665318965911865,
          -1.7793843746185303,
          4.939619064331055,
          6.114884376525879,
          -1.655564546585083,
          7.118279933929443,
          2.0692543983459473,
          6.0153117179870605,
          3.29075288772583,
          8.487095832824707,
          -1.9083232879638672,
          6.791362762451172,
          2.0896949768066406,
          -0.8411580324172974,
          0.5082387328147888,
          -1.9535768032073975,
          -11.890539169311523,
          7.4531683921813965,
          7.054746627807617,
          1.4207080602645874,
          -0.05435946211218834,
          -22.776256561279297,
          -11.619714736938477,
          -22.4637508392334,
          -0.4309479594230652,
          -1.3580164909362793,
          0.6592715978622437,
          -3.5716283321380615,
          -20.927350997924805,
          -2.547832727432251,
          -7.918315410614014,
          -6.69370698928833,
          7.954126834869385,
          -20.705402374267578,
          -6.92254114151001,
          -2.7875516414642334,
          -22.327795028686523,
          -2.910644054412842,
          -12.82275676727295,
          -9.893904685974121,
          -8.556708335876465,
          -12.46303653717041,
          -10.865405082702637,
          -3.771278142929077,
          -7.722874164581299,
          -10.771467208862305,
          -18.35076141357422,
          -21.49745750427246,
          0.27112364768981934,
          -0.8758639693260193,
          -12.851969718933105,
          -0.9710736274719238,
          -24.046051025390625,
          -17.081024169921875,
          -21.604150772094727,
          -13.317586898803711,
          -18.884641647338867,
          -15.179888725280762,
          -8.531259536743164,
          -20.50899314880371,
          -14.703986167907715,
          -20.766212463378906,
          8.004002571105957,
          -13.895855903625488,
          -23.45087242126465,
          -11.471458435058594,
          -23.855588912963867,
          -16.516611099243164,
          -13.921675682067871,
          -18.21319580078125,
          -23.562639236450195,
          -19.64650535583496,
          -13.314035415649414,
          -20.73633575439453,
          -19.478515625,
          -21.269208908081055,
          -22.060983657836914,
          -8.995185852050781,
          -13.48207950592041,
          -13.18014144897461,
          -17.6097412109375,
          -16.885547637939453,
          -14.69301700592041,
          -21.55731201171875,
          -22.650270462036133,
          -22.217605590820312,
          -18.886505126953125,
          -14.408186912536621,
          -21.163673400878906,
          -24.707609176635742,
          -16.673282623291016,
          -15.740182876586914,
          -22.174718856811523,
          -15.644240379333496,
          -22.5550537109375,
          -18.36266326904297,
          -24.434900283813477,
          -24.704341888427734,
          -18.683462142944336,
          -24.9136905670166,
          -22.464679718017578,
          -21.46265411376953,
          -17.624204635620117,
          -20.535873413085938,
          -13.9306058883667,
          -20.258188247680664,
          -18.610244750976562,
          -20.52446937561035,
          -23.495515823364258,
          -18.9218692779541,
          -20.84522819519043,
          -18.11412239074707,
          -23.915729522705078,
          -24.621545791625977,
          -24.052322387695312,
          -16.024755477905273,
          -23.16269874572754,
          -19.328073501586914,
          -21.09332275390625,
          -23.07376480102539,
          -14.074797630310059,
          -19.13481903076172,
          -24.508804321289062,
          -16.718379974365234,
          -20.25403594970703,
          -19.373046875,
          -20.45290184020996,
          -17.74321746826172,
          -22.823665618896484,
          -24.001375198364258,
          -19.93211555480957,
          -19.220788955688477,
          -19.779014587402344,
          -23.670337677001953,
          -19.988601684570312,
          -22.16565704345703,
          -20.697206497192383,
          -15.057392120361328,
          -20.88146209716797,
          -22.386119842529297,
          -22.6655330657959,
          -22.996524810791016,
          -20.56403923034668,
          -21.086227416992188,
          -22.051851272583008,
          -22.92910385131836,
          -21.704801559448242,
          -22.830320358276367,
          -22.488182067871094
         ],
         "y": [
          -13.975893020629883,
          -19.02457618713379,
          -20.80381202697754,
          -16.056013107299805,
          -20.42916488647461,
          -18.720746994018555,
          -18.179115295410156,
          -15.693943977355957,
          -23.45383644104004,
          -19.81415557861328,
          -22.790971755981445,
          -23.154224395751953,
          -14.134446144104004,
          -15.828287124633789,
          -22.286161422729492,
          -17.22553253173828,
          -14.548311233520508,
          -18.67756462097168,
          -12.888195037841797,
          -18.05777359008789,
          4.653065204620361,
          -26.1070556640625,
          -17.306188583374023,
          -15.354619026184082,
          -13.926081657409668,
          -16.421728134155273,
          -24.407142639160156,
          -14.733623504638672,
          -21.510866165161133,
          -19.450143814086914,
          -27.569049835205078,
          -21.514257431030273,
          -24.48406982421875,
          -19.384193420410156,
          -24.9941349029541,
          -26.655208587646484,
          -27.374731063842773,
          -18.193012237548828,
          -22.754776000976562,
          -14.006120681762695,
          -25.42069435119629,
          -16.722068786621094,
          -17.95848274230957,
          -20.330020904541016,
          -12.244750022888184,
          -24.85440444946289,
          -16.555946350097656,
          -19.520050048828125,
          -14.611489295959473,
          -13.736820220947266,
          -21.619970321655273,
          -19.436233520507812,
          -19.34516143798828,
          -13.085820198059082,
          -24.207202911376953,
          -21.531620025634766,
          -17.74358558654785,
          -16.441797256469727,
          -22.935474395751953,
          -20.037708282470703,
          -22.997194290161133,
          -14.127799034118652,
          -15.463237762451172,
          -15.687887191772461,
          -17.463245391845703,
          -22.854883193969727,
          -23.900842666625977,
          -16.72077178955078,
          -18.521392822265625,
          -16.888137817382812,
          -27.163007736206055,
          -27.161022186279297,
          -25.02290153503418,
          -27.190263748168945,
          -17.998186111450195,
          -26.09276008605957,
          -18.437414169311523,
          -15.599759101867676,
          -25.227262496948242,
          -21.43953514099121,
          -13.690717697143555,
          -26.2003116607666,
          -15.982892990112305,
          -22.358959197998047,
          -18.452411651611328,
          -22.174846649169922,
          -12.934287071228027,
          -17.404369354248047,
          3.840926170349121,
          -21.393953323364258,
          -23.414941787719727,
          -23.92046356201172,
          -16.768199920654297,
          -17.503450393676758,
          -17.625635147094727,
          -15.381561279296875,
          -15.216392517089844,
          -17.528629302978516,
          -16.478139877319336,
          -13.366499900817871,
          -19.450069427490234,
          -15.79502010345459,
          -16.65648651123047,
          -16.301212310791016,
          -13.305596351623535,
          -15.062314987182617,
          -26.29898452758789,
          -20.697359085083008,
          -21.14019012451172,
          -19.549654006958008,
          -20.099536895751953,
          5.668365955352783,
          -13.175079345703125,
          -15.30422592163086,
          -19.82749366760254,
          -27.219146728515625,
          -18.708648681640625,
          -5.995462417602539,
          13.94469928741455,
          4.861406326293945,
          14.907386779785156,
          0.5772302746772766,
          3.25844144821167,
          13.277250289916992,
          5.063095569610596,
          16.93922233581543,
          -13.686623573303223,
          -14.15842056274414,
          -10.758150100708008,
          -16.873592376708984,
          -0.3410208821296692,
          2.202998399734497,
          1.097332239151001,
          6.32821798324585,
          -0.42818471789360046,
          3.3349220752716064,
          22.909589767456055,
          0.8182199001312256,
          12.797123908996582,
          4.946292877197266,
          -5.692653656005859,
          -6.551970958709717,
          -3.3298397064208984,
          16.458986282348633,
          1.0403940677642822,
          5.530967712402344,
          11.705846786499023,
          8.13736343383789,
          11.215593338012695,
          1.5053926706314087,
          -10.631620407104492,
          2.5015318393707275,
          2.003474712371826,
          6.524975299835205,
          14.59009075164795,
          11.373465538024902,
          0.9704457521438599,
          10.4839506149292,
          13.88115119934082,
          12.85010051727295,
          11.256416320800781,
          -1.7061994075775146,
          0.22162975370883942,
          1.919539451599121,
          15.546314239501953,
          1.7442277669906616,
          7.941581726074219,
          -0.22804903984069824,
          -1.313031554222107,
          12.564371109008789,
          2.900940179824829,
          14.322321891784668,
          15.760025978088379,
          -2.6845781803131104,
          9.363603591918945,
          8.7745943069458,
          11.676165580749512,
          -20.37921142578125,
          4.895336151123047,
          18.430465698242188,
          19.657875061035156,
          13.97432804107666,
          11.90523624420166,
          -12.741814613342285,
          -13.575446128845215,
          21.95639419555664,
          -12.935005187988281,
          15.809871673583984,
          -12.782816886901855,
          19.23526382446289,
          1.4166690111160278,
          2.4476401805877686,
          17.3895206451416,
          17.11445426940918,
          19.270265579223633,
          -0.6151997447013855,
          19.01069450378418,
          20.006683349609375,
          18.963825225830078,
          15.347525596618652,
          7.5837202072143555,
          2.7635371685028076,
          16.179676055908203,
          20.966611862182617,
          10.13089656829834,
          20.252201080322266,
          3.7423219680786133,
          -5.1569504737854,
          -1.0283704996109009,
          8.213343620300293,
          16.77531623840332,
          0.33686503767967224,
          3.135422945022583,
          9.56247329711914,
          22.888832092285156,
          7.198559284210205,
          4.08063268661499,
          20.280887603759766,
          21.270980834960938,
          24.908775329589844,
          19.304079055786133,
          16.11322021484375,
          3.801795244216919,
          -5.009632587432861,
          18.378149032592773,
          25.57048797607422,
          26.567548751831055,
          15.284934043884277,
          26.066789627075195,
          18.72516441345215,
          19.545442581176758,
          17.935649871826172,
          16.191619873046875,
          17.379053115844727,
          6.817878246307373,
          14.172796249389648,
          12.547463417053223,
          -0.07127607613801956,
          -0.06573493778705597,
          21.00973892211914,
          10.976967811584473,
          20.287506103515625,
          13.743776321411133,
          20.47866439819336,
          23.24929428100586,
          16.552833557128906,
          21.6883544921875,
          23.111644744873047,
          -5.4121012687683105,
          13.481125831604004,
          20.781831741333008,
          4.283990859985352,
          7.009713649749756,
          20.94058609008789,
          19.511205673217773,
          11.937088966369629,
          15.311012268066406,
          16.20858383178711,
          18.242311477661133,
          21.562986373901367,
          21.634418487548828,
          9.890450477600098,
          16.227508544921875,
          15.346086502075195,
          8.011838912963867,
          -1.5253287553787231,
          17.775798797607422,
          18.456161499023438,
          25.341041564941406,
          4.126117706298828,
          22.265714645385742,
          2.4929938316345215,
          20.489538192749023,
          -4.581875801086426,
          22.228845596313477,
          21.564237594604492,
          16.574617385864258,
          14.620014190673828,
          20.343767166137695,
          11.901555061340332,
          4.6958327293396,
          -1.7866301536560059,
          22.760271072387695,
          22.08904457092285,
          22.65797233581543,
          14.292669296264648,
          16.770105361938477,
          21.23417854309082,
          18.038244247436523,
          25.864229202270508,
          22.87310218811035,
          20.68486785888672,
          17.750274658203125,
          -0.6648495197296143,
          21.160432815551758,
          18.982580184936523,
          19.95408058166504,
          6.162851810455322,
          20.576732635498047,
          8.890227317810059,
          17.624954223632812,
          13.545069694519043,
          6.215970993041992,
          -1.3450658321380615,
          21.226776123046875,
          22.717342376708984,
          6.315317153930664,
          9.953222274780273,
          4.887226104736328,
          -2.5874345302581787,
          4.690915584564209,
          14.16286563873291,
          19.148897171020508,
          -0.8653130531311035,
          20.297937393188477,
          4.463680267333984,
          18.7536563873291,
          -5.845507621765137,
          7.169559478759766,
          22.480382919311523,
          0.07809234410524368,
          8.163019180297852,
          20.864913940429688,
          2.321352958679199,
          18.22977066040039,
          -1.1097297668457031,
          -5.516759395599365,
          -5.652407169342041,
          -3.5120813846588135,
          -1.5673463344573975,
          19.968971252441406,
          -6.375820636749268,
          -2.352107286453247,
          -4.349184989929199,
          4.136291027069092,
          -1.408209204673767,
          8.479693412780762,
          -2.746821641921997,
          7.01752233505249,
          2.0521323680877686,
          3.9629220962524414,
          2.9823358058929443,
          -5.453910827636719,
          0.9794406890869141,
          -5.206031799316406,
          -6.474163055419922,
          2.0396385192871094,
          -4.1893086433410645,
          -6.710707664489746,
          21.671279907226562,
          -1.1617389917373657,
          0.7620515823364258,
          -5.507873058319092,
          -2.5950517654418945,
          3.9265542030334473,
          -5.6250319480896,
          0.0715860053896904,
          -1.900723934173584,
          2.1513612270355225,
          -4.806458950042725,
          1.786500334739685,
          -1.577532410621643,
          -1.4359796047210693,
          -2.4212324619293213,
          -6.227089881896973,
          -3.8683416843414307,
          -2.3447189331054688,
          -2.2105932235717773,
          -5.684116363525391,
          -2.4888293743133545,
          1.2629655599594116,
          1.2517192363739014,
          0.4123137593269348,
          -2.8845181465148926,
          -5.958073139190674,
          -1.0047415494918823,
          -1.5030087232589722,
          -2.6107044219970703,
          -3.0805156230926514,
          -1.1537662744522095,
          -5.784083366394043,
          0.039833489805459976,
          -1.3026353120803833,
          -4.823652744293213,
          -3.186581611633301,
          -5.874943256378174,
          -0.43891575932502747,
          -1.8677114248275757,
          -3.5303096771240234,
          -2.620988607406616,
          -7.470135688781738,
          -4.742655277252197,
          -4.024840831756592,
          -6.553063869476318,
          -2.43638014793396,
          -0.6368058323860168,
          -7.079309940338135,
          -3.2794978618621826,
          -4.433713436126709,
          0.3854658305644989,
          -4.035405158996582,
          -6.372951507568359,
          -6.146005153656006,
          -0.9508382081985474,
          1.5342291593551636,
          -4.686124324798584,
          -4.648779392242432,
          -7.26272439956665,
          -9.4468994140625,
          1.5244258642196655,
          -7.446303844451904,
          -4.709875583648682,
          -8.76854133605957,
          -8.869050025939941,
          -8.326287269592285,
          -3.7092955112457275,
          -6.758979797363281,
          -8.61125659942627,
          -10.63776969909668,
          -7.878530979156494,
          -5.751363277435303,
          -10.126053810119629,
          -9.817578315734863,
          -9.717296600341797,
          -7.8355712890625,
          -9.468055725097656,
          -8.24141788482666,
          -10.024185180664062,
          -8.788933753967285,
          -10.727656364440918,
          -10.801673889160156,
          -11.072761535644531,
          -11.121200561523438,
          -11.694995880126953,
          -11.513784408569336,
          -12.066490173339844
         ]
        },
        {
         "mode": "markers",
         "text": [
          "Star Wars: Episode IV - A New Hope (1977)",
          "Star Wars: Episode V - The Empire Strikes Back (1980)",
          "Star Wars: Episode VI - Return of the Jedi (1983)",
          "Star Wars: Episode I - The Phantom Menace (1999)",
          "Star Wars: Episode II - Attack of the Clones (2002)",
          "Star Wars: Episode III - Revenge of the Sith (2005)"
         ],
         "type": "scatter",
         "x": [
          7.1519341468811035,
          4.081389427185059,
          6.989869594573975,
          2.422914743423462,
          -0.8758639693260193,
          -15.740182876586914
         ],
         "y": [
          -12.244750022888184,
          -5.692653656005859,
          -10.631620407104492,
          7.009713649749756,
          8.479693412780762,
          -3.0805156230926514
         ]
        }
       ],
       "layout": {
        "template": {
         "data": {
          "bar": [
           {
            "error_x": {
             "color": "#2a3f5f"
            },
            "error_y": {
             "color": "#2a3f5f"
            },
            "marker": {
             "line": {
              "color": "#E5ECF6",
              "width": 0.5
             }
            },
            "type": "bar"
           }
          ],
          "barpolar": [
           {
            "marker": {
             "line": {
              "color": "#E5ECF6",
              "width": 0.5
             }
            },
            "type": "barpolar"
           }
          ],
          "carpet": [
           {
            "aaxis": {
             "endlinecolor": "#2a3f5f",
             "gridcolor": "white",
             "linecolor": "white",
             "minorgridcolor": "white",
             "startlinecolor": "#2a3f5f"
            },
            "baxis": {
             "endlinecolor": "#2a3f5f",
             "gridcolor": "white",
             "linecolor": "white",
             "minorgridcolor": "white",
             "startlinecolor": "#2a3f5f"
            },
            "type": "carpet"
           }
          ],
          "choropleth": [
           {
            "colorbar": {
             "outlinewidth": 0,
             "ticks": ""
            },
            "type": "choropleth"
           }
          ],
          "contour": [
           {
            "colorbar": {
             "outlinewidth": 0,
             "ticks": ""
            },
            "colorscale": [
             [
              0,
              "#0d0887"
             ],
             [
              0.1111111111111111,
              "#46039f"
             ],
             [
              0.2222222222222222,
              "#7201a8"
             ],
             [
              0.3333333333333333,
              "#9c179e"
             ],
             [
              0.4444444444444444,
              "#bd3786"
             ],
             [
              0.5555555555555556,
              "#d8576b"
             ],
             [
              0.6666666666666666,
              "#ed7953"
             ],
             [
              0.7777777777777778,
              "#fb9f3a"
             ],
             [
              0.8888888888888888,
              "#fdca26"
             ],
             [
              1,
              "#f0f921"
             ]
            ],
            "type": "contour"
           }
          ],
          "contourcarpet": [
           {
            "colorbar": {
             "outlinewidth": 0,
             "ticks": ""
            },
            "type": "contourcarpet"
           }
          ],
          "heatmap": [
           {
            "colorbar": {
             "outlinewidth": 0,
             "ticks": ""
            },
            "colorscale": [
             [
              0,
              "#0d0887"
             ],
             [
              0.1111111111111111,
              "#46039f"
             ],
             [
              0.2222222222222222,
              "#7201a8"
             ],
             [
              0.3333333333333333,
              "#9c179e"
             ],
             [
              0.4444444444444444,
              "#bd3786"
             ],
             [
              0.5555555555555556,
              "#d8576b"
             ],
             [
              0.6666666666666666,
              "#ed7953"
             ],
             [
              0.7777777777777778,
              "#fb9f3a"
             ],
             [
              0.8888888888888888,
              "#fdca26"
             ],
             [
              1,
              "#f0f921"
             ]
            ],
            "type": "heatmap"
           }
          ],
          "heatmapgl": [
           {
            "colorbar": {
             "outlinewidth": 0,
             "ticks": ""
            },
            "colorscale": [
             [
              0,
              "#0d0887"
             ],
             [
              0.1111111111111111,
              "#46039f"
             ],
             [
              0.2222222222222222,
              "#7201a8"
             ],
             [
              0.3333333333333333,
              "#9c179e"
             ],
             [
              0.4444444444444444,
              "#bd3786"
             ],
             [
              0.5555555555555556,
              "#d8576b"
             ],
             [
              0.6666666666666666,
              "#ed7953"
             ],
             [
              0.7777777777777778,
              "#fb9f3a"
             ],
             [
              0.8888888888888888,
              "#fdca26"
             ],
             [
              1,
              "#f0f921"
             ]
            ],
            "type": "heatmapgl"
           }
          ],
          "histogram": [
           {
            "marker": {
             "colorbar": {
              "outlinewidth": 0,
              "ticks": ""
             }
            },
            "type": "histogram"
           }
          ],
          "histogram2d": [
           {
            "colorbar": {
             "outlinewidth": 0,
             "ticks": ""
            },
            "colorscale": [
             [
              0,
              "#0d0887"
             ],
             [
              0.1111111111111111,
              "#46039f"
             ],
             [
              0.2222222222222222,
              "#7201a8"
             ],
             [
              0.3333333333333333,
              "#9c179e"
             ],
             [
              0.4444444444444444,
              "#bd3786"
             ],
             [
              0.5555555555555556,
              "#d8576b"
             ],
             [
              0.6666666666666666,
              "#ed7953"
             ],
             [
              0.7777777777777778,
              "#fb9f3a"
             ],
             [
              0.8888888888888888,
              "#fdca26"
             ],
             [
              1,
              "#f0f921"
             ]
            ],
            "type": "histogram2d"
           }
          ],
          "histogram2dcontour": [
           {
            "colorbar": {
             "outlinewidth": 0,
             "ticks": ""
            },
            "colorscale": [
             [
              0,
              "#0d0887"
             ],
             [
              0.1111111111111111,
              "#46039f"
             ],
             [
              0.2222222222222222,
              "#7201a8"
             ],
             [
              0.3333333333333333,
              "#9c179e"
             ],
             [
              0.4444444444444444,
              "#bd3786"
             ],
             [
              0.5555555555555556,
              "#d8576b"
             ],
             [
              0.6666666666666666,
              "#ed7953"
             ],
             [
              0.7777777777777778,
              "#fb9f3a"
             ],
             [
              0.8888888888888888,
              "#fdca26"
             ],
             [
              1,
              "#f0f921"
             ]
            ],
            "type": "histogram2dcontour"
           }
          ],
          "mesh3d": [
           {
            "colorbar": {
             "outlinewidth": 0,
             "ticks": ""
            },
            "type": "mesh3d"
           }
          ],
          "parcoords": [
           {
            "line": {
             "colorbar": {
              "outlinewidth": 0,
              "ticks": ""
             }
            },
            "type": "parcoords"
           }
          ],
          "pie": [
           {
            "automargin": true,
            "type": "pie"
           }
          ],
          "scatter": [
           {
            "marker": {
             "colorbar": {
              "outlinewidth": 0,
              "ticks": ""
             }
            },
            "type": "scatter"
           }
          ],
          "scatter3d": [
           {
            "line": {
             "colorbar": {
              "outlinewidth": 0,
              "ticks": ""
             }
            },
            "marker": {
             "colorbar": {
              "outlinewidth": 0,
              "ticks": ""
             }
            },
            "type": "scatter3d"
           }
          ],
          "scattercarpet": [
           {
            "marker": {
             "colorbar": {
              "outlinewidth": 0,
              "ticks": ""
             }
            },
            "type": "scattercarpet"
           }
          ],
          "scattergeo": [
           {
            "marker": {
             "colorbar": {
              "outlinewidth": 0,
              "ticks": ""
             }
            },
            "type": "scattergeo"
           }
          ],
          "scattergl": [
           {
            "marker": {
             "colorbar": {
              "outlinewidth": 0,
              "ticks": ""
             }
            },
            "type": "scattergl"
           }
          ],
          "scattermapbox": [
           {
            "marker": {
             "colorbar": {
              "outlinewidth": 0,
              "ticks": ""
             }
            },
            "type": "scattermapbox"
           }
          ],
          "scatterpolar": [
           {
            "marker": {
             "colorbar": {
              "outlinewidth": 0,
              "ticks": ""
             }
            },
            "type": "scatterpolar"
           }
          ],
          "scatterpolargl": [
           {
            "marker": {
             "colorbar": {
              "outlinewidth": 0,
              "ticks": ""
             }
            },
            "type": "scatterpolargl"
           }
          ],
          "scatterternary": [
           {
            "marker": {
             "colorbar": {
              "outlinewidth": 0,
              "ticks": ""
             }
            },
            "type": "scatterternary"
           }
          ],
          "surface": [
           {
            "colorbar": {
             "outlinewidth": 0,
             "ticks": ""
            },
            "colorscale": [
             [
              0,
              "#0d0887"
             ],
             [
              0.1111111111111111,
              "#46039f"
             ],
             [
              0.2222222222222222,
              "#7201a8"
             ],
             [
              0.3333333333333333,
              "#9c179e"
             ],
             [
              0.4444444444444444,
              "#bd3786"
             ],
             [
              0.5555555555555556,
              "#d8576b"
             ],
             [
              0.6666666666666666,
              "#ed7953"
             ],
             [
              0.7777777777777778,
              "#fb9f3a"
             ],
             [
              0.8888888888888888,
              "#fdca26"
             ],
             [
              1,
              "#f0f921"
             ]
            ],
            "type": "surface"
           }
          ],
          "table": [
           {
            "cells": {
             "fill": {
              "color": "#EBF0F8"
             },
             "line": {
              "color": "white"
             }
            },
            "header": {
             "fill": {
              "color": "#C8D4E3"
             },
             "line": {
              "color": "white"
             }
            },
            "type": "table"
           }
          ]
         },
         "layout": {
          "annotationdefaults": {
           "arrowcolor": "#2a3f5f",
           "arrowhead": 0,
           "arrowwidth": 1
          },
          "coloraxis": {
           "colorbar": {
            "outlinewidth": 0,
            "ticks": ""
           }
          },
          "colorscale": {
           "diverging": [
            [
             0,
             "#8e0152"
            ],
            [
             0.1,
             "#c51b7d"
            ],
            [
             0.2,
             "#de77ae"
            ],
            [
             0.3,
             "#f1b6da"
            ],
            [
             0.4,
             "#fde0ef"
            ],
            [
             0.5,
             "#f7f7f7"
            ],
            [
             0.6,
             "#e6f5d0"
            ],
            [
             0.7,
             "#b8e186"
            ],
            [
             0.8,
             "#7fbc41"
            ],
            [
             0.9,
             "#4d9221"
            ],
            [
             1,
             "#276419"
            ]
           ],
           "sequential": [
            [
             0,
             "#0d0887"
            ],
            [
             0.1111111111111111,
             "#46039f"
            ],
            [
             0.2222222222222222,
             "#7201a8"
            ],
            [
             0.3333333333333333,
             "#9c179e"
            ],
            [
             0.4444444444444444,
             "#bd3786"
            ],
            [
             0.5555555555555556,
             "#d8576b"
            ],
            [
             0.6666666666666666,
             "#ed7953"
            ],
            [
             0.7777777777777778,
             "#fb9f3a"
            ],
            [
             0.8888888888888888,
             "#fdca26"
            ],
            [
             1,
             "#f0f921"
            ]
           ],
           "sequentialminus": [
            [
             0,
             "#0d0887"
            ],
            [
             0.1111111111111111,
             "#46039f"
            ],
            [
             0.2222222222222222,
             "#7201a8"
            ],
            [
             0.3333333333333333,
             "#9c179e"
            ],
            [
             0.4444444444444444,
             "#bd3786"
            ],
            [
             0.5555555555555556,
             "#d8576b"
            ],
            [
             0.6666666666666666,
             "#ed7953"
            ],
            [
             0.7777777777777778,
             "#fb9f3a"
            ],
            [
             0.8888888888888888,
             "#fdca26"
            ],
            [
             1,
             "#f0f921"
            ]
           ]
          },
          "colorway": [
           "#636efa",
           "#EF553B",
           "#00cc96",
           "#ab63fa",
           "#FFA15A",
           "#19d3f3",
           "#FF6692",
           "#B6E880",
           "#FF97FF",
           "#FECB52"
          ],
          "font": {
           "color": "#2a3f5f"
          },
          "geo": {
           "bgcolor": "white",
           "lakecolor": "white",
           "landcolor": "#E5ECF6",
           "showlakes": true,
           "showland": true,
           "subunitcolor": "white"
          },
          "hoverlabel": {
           "align": "left"
          },
          "hovermode": "closest",
          "mapbox": {
           "style": "light"
          },
          "paper_bgcolor": "white",
          "plot_bgcolor": "#E5ECF6",
          "polar": {
           "angularaxis": {
            "gridcolor": "white",
            "linecolor": "white",
            "ticks": ""
           },
           "bgcolor": "#E5ECF6",
           "radialaxis": {
            "gridcolor": "white",
            "linecolor": "white",
            "ticks": ""
           }
          },
          "scene": {
           "xaxis": {
            "backgroundcolor": "#E5ECF6",
            "gridcolor": "white",
            "gridwidth": 2,
            "linecolor": "white",
            "showbackground": true,
            "ticks": "",
            "zerolinecolor": "white"
           },
           "yaxis": {
            "backgroundcolor": "#E5ECF6",
            "gridcolor": "white",
            "gridwidth": 2,
            "linecolor": "white",
            "showbackground": true,
            "ticks": "",
            "zerolinecolor": "white"
           },
           "zaxis": {
            "backgroundcolor": "#E5ECF6",
            "gridcolor": "white",
            "gridwidth": 2,
            "linecolor": "white",
            "showbackground": true,
            "ticks": "",
            "zerolinecolor": "white"
           }
          },
          "shapedefaults": {
           "line": {
            "color": "#2a3f5f"
           }
          },
          "ternary": {
           "aaxis": {
            "gridcolor": "white",
            "linecolor": "white",
            "ticks": ""
           },
           "baxis": {
            "gridcolor": "white",
            "linecolor": "white",
            "ticks": ""
           },
           "bgcolor": "#E5ECF6",
           "caxis": {
            "gridcolor": "white",
            "linecolor": "white",
            "ticks": ""
           }
          },
          "title": {
           "x": 0.05
          },
          "xaxis": {
           "automargin": true,
           "gridcolor": "white",
           "linecolor": "white",
           "ticks": "",
           "title": {
            "standoff": 15
           },
           "zerolinecolor": "white",
           "zerolinewidth": 2
          },
          "yaxis": {
           "automargin": true,
           "gridcolor": "white",
           "linecolor": "white",
           "ticks": "",
           "title": {
            "standoff": 15
           },
           "zerolinecolor": "white",
           "zerolinewidth": 2
          }
         }
        }
       }
      },
      "text/html": [
       "<div>\n",
       "        \n",
       "        \n",
       "            <div id=\"5006cc70-9afa-44f0-9c69-2805bf789a17\" class=\"plotly-graph-div\" style=\"height:525px; width:100%;\"></div>\n",
       "            <script type=\"text/javascript\">\n",
       "                require([\"plotly\"], function(Plotly) {\n",
       "                    window.PLOTLYENV=window.PLOTLYENV || {};\n",
       "                    \n",
       "                if (document.getElementById(\"5006cc70-9afa-44f0-9c69-2805bf789a17\")) {\n",
       "                    Plotly.newPlot(\n",
       "                        '5006cc70-9afa-44f0-9c69-2805bf789a17',\n",
       "                        [{\"mode\": \"markers\", \"text\": [\"Toy Story (1995)\", \"Jumanji (1995)\", \"Grumpier Old Men (1995)\", \"Heat (1995)\", \"Sabrina (1995)\", \"GoldenEye (1995)\", \"American President, The (1995)\", \"Casino (1995)\", \"Sense and Sensibility (1995)\", \"Ace Ventura: When Nature Calls (1995)\", \"Get Shorty (1995)\", \"Leaving Las Vegas (1995)\", \"Twelve Monkeys (a.k.a. 12 Monkeys) (1995)\", \"Babe (1995)\", \"Dead Man Walking (1995)\", \"Clueless (1995)\", \"Seven (a.k.a. Se7en) (1995)\", \"Pocahontas (1995)\", \"Usual Suspects, The (1995)\", \"Mr. Holland's Opus (1995)\", \"From Dusk Till Dawn (1996)\", \"Broken Arrow (1996)\", \"Happy Gilmore (1996)\", \"Braveheart (1995)\", \"Taxi Driver (1976)\", \"Birdcage, The (1996)\", \"Bad Boys (1995)\", \"Apollo 13 (1995)\", \"Batman Forever (1995)\", \"Casper (1995)\", \"Congo (1995)\", \"Crimson Tide (1995)\", \"Desperado (1995)\", \"Die Hard: With a Vengeance (1995)\", \"First Knight (1995)\", \"Johnny Mnemonic (1995)\", \"Judge Dredd (1995)\", \"Net, The (1995)\", \"Waterworld (1995)\", \"Clerks (1994)\", \"Disclosure (1994)\", \"Dumb & Dumber (Dumb and Dumber) (1994)\", \"Ed Wood (1994)\", \"Interview with the Vampire: The Vampire Chronicles (1994)\", \"Star Wars: Episode IV - A New Hope (1977)\", \"Legends of the Fall (1994)\", \"Natural Born Killers (1994)\", \"Outbreak (1995)\", \"L\\u00e9on: The Professional (a.k.a. The Professional) (L\\u00e9on) (1994)\", \"Pulp Fiction (1994)\", \"Quiz Show (1994)\", \"Stargate (1994)\", \"Santa Clause, The (1994)\", \"Shawshank Redemption, The (1994)\", \"Star Trek: Generations (1994)\", \"What's Eating Gilbert Grape (1993)\", \"While You Were Sleeping (1995)\", \"Ace Ventura: Pet Detective (1994)\", \"Clear and Present Danger (1994)\", \"Client, The (1994)\", \"Crow, The (1994)\", \"Forrest Gump (1994)\", \"Four Weddings and a Funeral (1994)\", \"Lion King, The (1994)\", \"Mask, The (1994)\", \"Maverick (1994)\", \"Naked Gun 33 1/3: The Final Insult (1994)\", \"Speed (1994)\", \"True Lies (1994)\", \"Addams Family Values (1993)\", \"Beverly Hills Cop III (1994)\", \"City Slickers II: The Legend of Curly's Gold (1994)\", \"Cliffhanger (1993)\", \"Coneheads (1993)\", \"Dave (1993)\", \"Demolition Man (1993)\", \"Firm, The (1993)\", \"Fugitive, The (1993)\", \"Hot Shots! Part Deux (1993)\", \"In the Line of Fire (1993)\", \"Jurassic Park (1993)\", \"Last Action Hero (1993)\", \"Mrs. Doubtfire (1993)\", \"Philadelphia (1993)\", \"Piano, The (1993)\", \"Robin Hood: Men in Tights (1993)\", \"Schindler's List (1993)\", \"Sleepless in Seattle (1993)\", \"Blade Runner (1982)\", \"Nightmare Before Christmas, The (1993)\", \"Three Musketeers, The (1993)\", \"Tombstone (1993)\", \"True Romance (1993)\", \"Home Alone (1990)\", \"Ghost (1990)\", \"Aladdin (1992)\", \"Terminator 2: Judgment Day (1991)\", \"Dances with Wolves (1990)\", \"Batman (1989)\", \"Silence of the Lambs, The (1991)\", \"Snow White and the Seven Dwarfs (1937)\", \"Beauty and the Beast (1991)\", \"Pinocchio (1940)\", \"Pretty Woman (1990)\", \"Fargo (1996)\", \"Mission: Impossible (1996)\", \"Dragonheart (1996)\", \"Space Jam (1996)\", \"Truth About Cats & Dogs, The (1996)\", \"Rock, The (1996)\", \"Twister (1996)\", \"Dr. Strangelove or: How I Learned to Stop Worrying and Love the Bomb (1964)\", \"Trainspotting (1996)\", \"Independence Day (a.k.a. ID4) (1996)\", \"Cable Guy, The (1996)\", \"Eraser (1996)\", \"Nutty Professor, The (1996)\", \"Godfather, The (1972)\", \"Vertigo (1958)\", \"Rear Window (1954)\", \"North by Northwest (1959)\", \"Casablanca (1942)\", \"Wizard of Oz, The (1939)\", \"Citizen Kane (1941)\", \"2001: A Space Odyssey (1968)\", \"It's a Wonderful Life (1946)\", \"Mary Poppins (1964)\", \"Sound of Music, The (1965)\", \"Die Hard (1988)\", \"Willy Wonka & the Chocolate Factory (1971)\", \"Fish Called Wanda, A (1988)\", \"Monty Python's Life of Brian (1979)\", \"Reservoir Dogs (1992)\", \"Platoon (1986)\", \"E.T. the Extra-Terrestrial (1982)\", \"Top Gun (1986)\", \"Abyss, The (1989)\", \"Monty Python and the Holy Grail (1975)\", \"Wallace & Gromit: The Wrong Trousers (1993)\", \"One Flew Over the Cuckoo's Nest (1975)\", \"Star Wars: Episode V - The Empire Strikes Back (1980)\", \"Princess Bride, The (1987)\", \"Raiders of the Lost Ark (Indiana Jones and the Raiders of the Lost Ark) (1981)\", \"Brazil (1985)\", \"Aliens (1986)\", \"Good, the Bad and the Ugly, The (Buono, il brutto, il cattivo, Il) (1966)\", \"12 Angry Men (1957)\", \"Clockwork Orange, A (1971)\", \"To Kill a Mockingbird (1962)\", \"Apocalypse Now (1979)\", \"Star Wars: Episode VI - Return of the Jedi (1983)\", \"Goodfellas (1990)\", \"Alien (1979)\", \"Army of Darkness (1993)\", \"Psycho (1960)\", \"Blues Brothers, The (1980)\", \"Godfather: Part II, The (1974)\", \"Full Metal Jacket (1987)\", \"Amadeus (1984)\", \"Annie Hall (1977)\", \"Sting, The (1973)\", \"Terminator, The (1984)\", \"Dead Poets Society (1989)\", \"Graduate, The (1967)\", \"Chinatown (1974)\", \"Shining, The (1980)\", \"Stand by Me (1986)\", \"Groundhog Day (1993)\", \"Back to the Future (1985)\", \"Cool Hand Luke (1967)\", \"Young Frankenstein (1974)\", \"Fantasia (1940)\", \"This Is Spinal Tap (1984)\", \"Indiana Jones and the Last Crusade (1989)\", \"Field of Dreams (1989)\", \"Butch Cassidy and the Sundance Kid (1969)\", \"When Harry Met Sally... (1989)\", \"Star Trek: First Contact (1996)\", \"Die Hard 2 (1990)\", \"Star Trek II: The Wrath of Khan (1982)\", \"Batman Returns (1992)\", \"Grease (1978)\", \"Jaws (1975)\", \"Mars Attacks! (1996)\", \"Jerry Maguire (1996)\", \"Raising Arizona (1987)\", \"Scream (1996)\", \"Donnie Brasco (1997)\", \"Liar Liar (1997)\", \"Grosse Pointe Blank (1997)\", \"Austin Powers: International Man of Mystery (1997)\", \"Fifth Element, The (1997)\", \"Lost World: Jurassic Park, The (1997)\", \"Con Air (1997)\", \"Face/Off (1997)\", \"Men in Black (a.k.a. MIB) (1997)\", \"Contact (1997)\", \"Air Force One (1997)\", \"Hunt for Red October, The (1990)\", \"L.A. Confidential (1997)\", \"Game, The (1997)\", \"Chasing Amy (1997)\", \"Full Monty, The (1997)\", \"The Devil's Advocate (1997)\", \"Gattaca (1997)\", \"Starship Troopers (1997)\", \"Truman Show, The (1998)\", \"Good Will Hunting (1997)\", \"Titanic (1997)\", \"Big Lebowski, The (1998)\", \"Wedding Singer, The (1998)\", \"As Good as It Gets (1997)\", \"Armageddon (1998)\", \"There's Something About Mary (1998)\", \"Rocky (1976)\", \"Rain Man (1988)\", \"Breakfast Club, The (1985)\", \"Exorcist, The (1973)\", \"Lethal Weapon (1987)\", \"Goonies, The (1985)\", \"Mask of Zorro, The (1998)\", \"Back to the Future Part II (1989)\", \"Back to the Future Part III (1990)\", \"Saving Private Ryan (1998)\", \"Honey, I Shrunk the Kids (1989)\", \"Jungle Book, The (1967)\", \"Lady and the Tramp (1955)\", \"Little Mermaid, The (1989)\", \"Splash (1984)\", \"Indiana Jones and the Temple of Doom (1984)\", \"Blade (1998)\", \"Beetlejuice (1988)\", \"Untouchables, The (1987)\", \"Few Good Men, A (1992)\", \"Edward Scissorhands (1990)\", \"My Cousin Vinny (1992)\", \"Pleasantville (1998)\", \"Life Is Beautiful (La Vita \\u00e8 bella) (1997)\", \"American History X (1998)\", \"Enemy of the State (1998)\", \"Bug's Life, A (1998)\", \"Rushmore (1998)\", \"Shakespeare in Love (1998)\", \"Romancing the Stone (1984)\", \"Crocodile Dundee (1986)\", \"Office Space (1999)\", \"Planet of the Apes (1968)\", \"Lock, Stock & Two Smoking Barrels (1998)\", \"Matrix, The (1999)\", \"10 Things I Hate About You (1999)\", \"Election (1999)\", \"Mummy, The (1999)\", \"Star Wars: Episode I - The Phantom Menace (1999)\", \"Superman (1978)\", \"Rocky Horror Picture Show, The (1975)\", \"Notting Hill (1999)\", \"Austin Powers: The Spy Who Shagged Me (1999)\", \"Run Lola Run (Lola rennt) (1998)\", \"Arachnophobia (1990)\", \"South Park: Bigger, Longer and Uncut (1999)\", \"Wild Wild West (1999)\", \"American Pie (1999)\", \"Blair Witch Project, The (1999)\", \"Eyes Wide Shut (1999)\", \"Ghostbusters (a.k.a. Ghost Busters) (1984)\", \"Sixth Sense, The (1999)\", \"Airplane! (1980)\", \"Big (1988)\", \"Christmas Story, A (1983)\", \"American Beauty (1999)\", \"Total Recall (1990)\", \"Ferris Bueller's Day Off (1986)\", \"Goldfinger (1964)\", \"Fight Club (1999)\", \"RoboCop (1987)\", \"Who Framed Roger Rabbit? (1988)\", \"Being John Malkovich (1999)\", \"Spaceballs (1987)\", \"Dogma (1999)\", \"Sleepy Hollow (1999)\", \"Toy Story 2 (1999)\", \"Green Mile, The (1999)\", \"Magnolia (1999)\", \"Galaxy Quest (1999)\", \"Wayne's World (1992)\", \"Erin Brockovich (2000)\", \"Animal House (1978)\", \"Close Encounters of the Third Kind (1977)\", \"High Fidelity (2000)\", \"Hook (1991)\", \"Predator (1987)\", \"American Psycho (2000)\", \"Caddyshack (1980)\", \"Gladiator (2000)\", \"Mission: Impossible II (2000)\", \"Blazing Saddles (1974)\", \"Gone in 60 Seconds (2000)\", \"Chicken Run (2000)\", \"Patriot, The (2000)\", \"X-Men (2000)\", \"Almost Famous (2000)\", \"Best in Show (2000)\", \"Meet the Parents (2000)\", \"Requiem for a Dream (2000)\", \"Charlie's Angels (2000)\", \"Unbreakable (2000)\", \"Crouching Tiger, Hidden Dragon (Wo hu cang long) (2000)\", \"Snatch (2000)\", \"What Women Want (2000)\", \"Cast Away (2000)\", \"Miss Congeniality (2000)\", \"O Brother, Where Art Thou? (2000)\", \"Traffic (2000)\", \"Memento (2000)\", \"Blow (2001)\", \"Bridget Jones's Diary (2001)\", \"Scarface (1983)\", \"Shrek (2001)\", \"Moulin Rouge (2001)\", \"A.I. Artificial Intelligence (2001)\", \"Legally Blonde (2001)\", \"Others, The (2001)\", \"Training Day (2001)\", \"Zoolander (2001)\", \"Mulholland Drive (2001)\", \"Donnie Darko (2001)\", \"Monsters, Inc. (2001)\", \"Harry Potter and the Sorcerer's Stone (a.k.a. Harry Potter and the Philosopher's Stone) (2001)\", \"Ocean's Eleven (2001)\", \"Amelie (Fabuleux destin d'Am\\u00e9lie Poulain, Le) (2001)\", \"Royal Tenenbaums, The (2001)\", \"Lord of the Rings: The Fellowship of the Ring, The (2001)\", \"Beautiful Mind, A (2001)\", \"Ice Age (2002)\", \"My Big Fat Greek Wedding (2002)\", \"Spider-Man (2002)\", \"Star Wars: Episode II - Attack of the Clones (2002)\", \"Bourne Identity, The (2002)\", \"Minority Report (2002)\", \"Men in Black II (a.k.a. MIIB) (a.k.a. MIB 2) (2002)\", \"Austin Powers in Goldmember (2002)\", \"Signs (2002)\", \"Spirited Away (Sen to Chihiro no kamikakushi) (2001)\", \"Bowling for Columbine (2002)\", \"Harry Potter and the Chamber of Secrets (2002)\", \"Lord of the Rings: The Two Towers, The (2002)\", \"Gangs of New York (2002)\", \"Catch Me If You Can (2002)\", \"City of God (Cidade de Deus) (2002)\", \"X2: X-Men United (2003)\", \"Matrix Reloaded, The (2003)\", \"Bruce Almighty (2003)\", \"Finding Nemo (2003)\", \"Italian Job, The (2003)\", \"28 Days Later (2002)\", \"Pirates of the Caribbean: The Curse of the Black Pearl (2003)\", \"Lost in Translation (2003)\", \"School of Rock (2003)\", \"Mystic River (2003)\", \"Kill Bill: Vol. 1 (2003)\", \"Matrix Revolutions, The (2003)\", \"Love Actually (2003)\", \"Last Samurai, The (2003)\", \"Big Fish (2003)\", \"Lord of the Rings: The Return of the King, The (2003)\", \"Eternal Sunshine of the Spotless Mind (2004)\", \"Kill Bill: Vol. 2 (2004)\", \"Shrek 2 (2004)\", \"Harry Potter and the Prisoner of Azkaban (2004)\", \"Spider-Man 2 (2004)\", \"Anchorman: The Legend of Ron Burgundy (2004)\", \"I, Robot (2004)\", \"Bourne Supremacy, The (2004)\", \"Shaun of the Dead (2004)\", \"Incredibles, The (2004)\", \"Million Dollar Baby (2004)\", \"Charlie and the Chocolate Factory (2005)\", \"Sin City (2005)\", \"Star Wars: Episode III - Revenge of the Sith (2005)\", \"Mr. & Mrs. Smith (2005)\", \"Batman Begins (2005)\", \"Wedding Crashers (2005)\", \"40-Year-Old Virgin, The (2005)\", \"Harry Potter and the Goblet of Fire (2005)\", \"Chronicles of Narnia: The Lion, the Witch and the Wardrobe, The (2005)\", \"V for Vendetta (2006)\", \"X-Men: The Last Stand (2006)\", \"Pirates of the Caribbean: Dead Man's Chest (2006)\", \"Little Miss Sunshine (2006)\", \"Borat: Cultural Learnings of America for Make Benefit Glorious Nation of Kazakhstan (2006)\", \"Pan's Labyrinth (Laberinto del fauno, El) (2006)\", \"Departed, The (2006)\", \"Children of Men (2006)\", \"Prestige, The (2006)\", \"Casino Royale (2006)\", \"Blood Diamond (2006)\", \"Ratatouille (2007)\", \"Hot Fuzz (2007)\", \"300 (2007)\", \"Knocked Up (2007)\", \"Pirates of the Caribbean: At World's End (2007)\", \"Harry Potter and the Order of the Phoenix (2007)\", \"Bourne Ultimatum, The (2007)\", \"Superbad (2007)\", \"No Country for Old Men (2007)\", \"I Am Legend (2007)\", \"Juno (2007)\", \"Dark Knight, The (2008)\", \"Iron Man (2008)\", \"Kung Fu Panda (2008)\", \"WALL\\u00b7E (2008)\", \"Slumdog Millionaire (2008)\", \"Inglourious Basterds (2009)\", \"Star Trek (2009)\", \"Up (2009)\", \"Hangover, The (2009)\", \"Harry Potter and the Half-Blood Prince (2009)\", \"District 9 (2009)\", \"Zombieland (2009)\", \"Avatar (2009)\", \"Sherlock Holmes (2009)\", \"Shutter Island (2010)\", \"How to Train Your Dragon (2010)\", \"Toy Story 3 (2010)\", \"Inception (2010)\", \"Social Network, The (2010)\", \"King's Speech, The (2010)\", \"Avengers, The (2012)\", \"The Hunger Games (2012)\", \"Dark Knight Rises, The (2012)\", \"Django Unchained (2012)\", \"Wolf of Wall Street, The (2013)\", \"Grand Budapest Hotel, The (2014)\", \"Interstellar (2014)\", \"Guardians of the Galaxy (2014)\", \"Deadpool (2016)\"], \"type\": \"scatter\", \"x\": [8.343152046203613, 15.508755683898926, 21.24282455444336, 5.1136016845703125, 21.47924041748047, 10.282005310058594, 20.26980972290039, 4.086398124694824, 7.708523273468018, 14.557783126831055, 7.516706943511963, 7.126573085784912, 6.920673847198486, 13.06837272644043, 8.181538581848145, 17.222509384155273, 6.4158782958984375, 18.323165893554688, 6.068028450012207, 16.395448684692383, 7.383176803588867, 16.49315071105957, 13.778977394104004, 6.414706707000732, 4.279379844665527, 15.033123016357422, 15.598289489746094, 7.95999813079834, 13.670406341552734, 18.149995803833008, 15.987256050109863, 11.982349395751953, 13.188767433166504, 9.937881469726562, 17.48724365234375, 16.828636169433594, 13.911828994750977, 14.445845603942871, 12.461732864379883, 10.55137825012207, 18.627779006958008, 11.389764785766602, 6.306025505065918, 13.175771713256836, 7.1519341468811035, 17.491743087768555, 6.448934078216553, 12.7542724609375, 5.684956073760986, 6.409201145172119, 6.687663555145264, 10.680624961853027, 17.572940826416016, 7.728328704833984, 13.776947021484375, 8.100078582763672, 19.107507705688477, 12.296735763549805, 15.116219520568848, 20.82111167907715, 17.150300979614258, 7.442080974578857, 14.143301963806152, 10.02082347869873, 11.547078132629395, 16.212337493896484, 13.304534912109375, 8.608928680419922, 12.24811840057373, 16.341083526611328, 17.99309730529785, 18.562856674194336, 14.504210472106934, 16.45070457458496, 19.4681396484375, 14.1405668258667, 8.350790023803711, 7.949406623840332, 16.155855178833008, 7.61407995223999, 8.746621131896973, 14.896830558776855, 11.522336959838867, 9.596593856811523, 21.28487205505371, 14.437966346740723, 6.673401355743408, 16.59914779663086, 2.1401448249816895, 15.288397789001465, 17.398277282714844, 15.690132141113281, 4.68074369430542, 12.282379150390625, 15.886451721191406, 10.680414199829102, 7.225170135498047, 8.904671669006348, 8.88318157196045, 7.248856067657471, 19.7692813873291, 12.63227367401123, 17.30999183654785, 13.83456802368164, 5.729413032531738, 9.173192024230957, 15.279802322387695, 16.981935501098633, 20.85451316833496, 11.491803169250488, 13.477953910827637, 0.4246287941932678, 4.378279685974121, 8.689038276672363, 17.066225051879883, 15.458980560302734, 14.920374870300293, 3.1735494136810303, -3.9133965969085693, 0.26802411675453186, -5.247727394104004, -1.1108342409133911, -1.8831028938293457, -1.56785249710083, 2.591116189956665, -3.2121739387512207, 17.05455207824707, 16.892467498779297, 6.250856399536133, 13.51019287109375, 8.869126319885254, 0.6965783834457397, 0.6102054119110107, 4.391932487487793, 4.07275915145874, 7.556605339050293, 4.995906829833984, -0.12149546295404434, 0.5812390446662903, 1.6695648431777954, 4.081389427185059, 4.07143497467041, 3.376035213470459, -5.606865882873535, 2.0661661624908447, 3.698451280593872, -3.3229939937591553, 0.5172175765037537, -3.2401044368743896, 0.25231292843818665, 6.989869594573975, 1.2707648277282715, 2.4216418266296387, 5.38673734664917, -2.164510488510132, -0.2744028568267822, 0.994472324848175, -0.37773290276527405, -3.2607312202453613, -2.660125970840454, -1.0012024641036987, 4.304632663726807, 3.3447682857513428, -1.382430076599121, -3.9065024852752686, 1.743087649345398, 2.122663736343384, 3.124516487121582, 3.603044271469116, -1.128758192062378, -2.141223669052124, 6.469742774963379, -0.38342368602752686, 3.9526185989379883, 7.4079484939575195, 6.782115936279297, 6.358750820159912, 11.742573738098145, 8.046392440795898, 11.143282890319824, 11.947768211364746, 4.981103420257568, 0.6055083870887756, 11.862548828125, 11.820574760437012, 0.0801769271492958, 15.128423690795898, -4.394175052642822, 15.503396987915039, 1.7788007259368896, 4.735532283782959, 5.478567123413086, 11.401673316955566, 12.026070594787598, 9.673678398132324, 5.006326675415039, 7.1336212158203125, 11.08303165435791, 4.354981422424316, -2.7398602962493896, 3.437483072280884, 7.8005571365356445, 6.967116832733154, 5.722428321838379, 0.8905209302902222, 10.23974323272705, -0.4407338500022888, 2.7616708278656006, 3.708414077758789, 0.6343674659729004, 6.774951457977295, 3.8383569717407227, 6.531282901763916, 2.4082953929901123, 1.4332060813903809, 0.8436455130577087, -1.8451892137527466, -0.383145272731781, 3.917804479598999, 3.3492531776428223, 9.823086738586426, 9.203179359436035, 6.221022129058838, 3.7150394916534424, 7.814766883850098, 2.916303873062134, 3.4050676822662354, 6.300028324127197, 4.745316982269287, 6.474946022033691, 10.684943199157715, 3.9886860847473145, -4.571615695953369, 7.998886585235596, 0.21546193957328796, 5.771262168884277, 5.126668930053711, 0.040815066546201706, 1.0769578218460083, 4.424618244171143, 2.7304739952087402, 1.8176709413528442, 4.614773273468018, 0.5210632085800171, 1.9608927965164185, 3.1230337619781494, 2.0760085582733154, 0.8959037661552429, 3.487917900085449, 7.516316890716553, 2.123818874359131, 5.510288715362549, 2.422914743423462, 10.887287139892578, 0.8466048240661621, 5.847617149353027, 2.820012331008911, -2.3120415210723877, 10.117033004760742, 3.550370931625366, 10.081841468811035, 3.234558343887329, -0.5433160066604614, -1.9211952686309814, 1.4574304819107056, 2.6055800914764404, 2.339519500732422, 5.246115207672119, 2.9873862266540527, 1.4915484189987183, 6.372726917266846, -0.5223861932754517, 3.6142964363098145, 2.7947628498077393, 5.0204620361328125, 2.9289989471435547, -1.8216763734817505, 1.202010154724121, 5.0688347816467285, 4.8793110847473145, -1.2357267141342163, 1.3952140808105469, -0.14092783629894257, 3.8600306510925293, 2.775635004043579, 3.6378581523895264, 0.1051771342754364, 1.0665318965911865, -1.7793843746185303, 4.939619064331055, 6.114884376525879, -1.655564546585083, 7.118279933929443, 2.0692543983459473, 6.0153117179870605, 3.29075288772583, 8.487095832824707, -1.9083232879638672, 6.791362762451172, 2.0896949768066406, -0.8411580324172974, 0.5082387328147888, -1.9535768032073975, -11.890539169311523, 7.4531683921813965, 7.054746627807617, 1.4207080602645874, -0.05435946211218834, -22.776256561279297, -11.619714736938477, -22.4637508392334, -0.4309479594230652, -1.3580164909362793, 0.6592715978622437, -3.5716283321380615, -20.927350997924805, -2.547832727432251, -7.918315410614014, -6.69370698928833, 7.954126834869385, -20.705402374267578, -6.92254114151001, -2.7875516414642334, -22.327795028686523, -2.910644054412842, -12.82275676727295, -9.893904685974121, -8.556708335876465, -12.46303653717041, -10.865405082702637, -3.771278142929077, -7.722874164581299, -10.771467208862305, -18.35076141357422, -21.49745750427246, 0.27112364768981934, -0.8758639693260193, -12.851969718933105, -0.9710736274719238, -24.046051025390625, -17.081024169921875, -21.604150772094727, -13.317586898803711, -18.884641647338867, -15.179888725280762, -8.531259536743164, -20.50899314880371, -14.703986167907715, -20.766212463378906, 8.004002571105957, -13.895855903625488, -23.45087242126465, -11.471458435058594, -23.855588912963867, -16.516611099243164, -13.921675682067871, -18.21319580078125, -23.562639236450195, -19.64650535583496, -13.314035415649414, -20.73633575439453, -19.478515625, -21.269208908081055, -22.060983657836914, -8.995185852050781, -13.48207950592041, -13.18014144897461, -17.6097412109375, -16.885547637939453, -14.69301700592041, -21.55731201171875, -22.650270462036133, -22.217605590820312, -18.886505126953125, -14.408186912536621, -21.163673400878906, -24.707609176635742, -16.673282623291016, -15.740182876586914, -22.174718856811523, -15.644240379333496, -22.5550537109375, -18.36266326904297, -24.434900283813477, -24.704341888427734, -18.683462142944336, -24.9136905670166, -22.464679718017578, -21.46265411376953, -17.624204635620117, -20.535873413085938, -13.9306058883667, -20.258188247680664, -18.610244750976562, -20.52446937561035, -23.495515823364258, -18.9218692779541, -20.84522819519043, -18.11412239074707, -23.915729522705078, -24.621545791625977, -24.052322387695312, -16.024755477905273, -23.16269874572754, -19.328073501586914, -21.09332275390625, -23.07376480102539, -14.074797630310059, -19.13481903076172, -24.508804321289062, -16.718379974365234, -20.25403594970703, -19.373046875, -20.45290184020996, -17.74321746826172, -22.823665618896484, -24.001375198364258, -19.93211555480957, -19.220788955688477, -19.779014587402344, -23.670337677001953, -19.988601684570312, -22.16565704345703, -20.697206497192383, -15.057392120361328, -20.88146209716797, -22.386119842529297, -22.6655330657959, -22.996524810791016, -20.56403923034668, -21.086227416992188, -22.051851272583008, -22.92910385131836, -21.704801559448242, -22.830320358276367, -22.488182067871094], \"y\": [-13.975893020629883, -19.02457618713379, -20.80381202697754, -16.056013107299805, -20.42916488647461, -18.720746994018555, -18.179115295410156, -15.693943977355957, -23.45383644104004, -19.81415557861328, -22.790971755981445, -23.154224395751953, -14.134446144104004, -15.828287124633789, -22.286161422729492, -17.22553253173828, -14.548311233520508, -18.67756462097168, -12.888195037841797, -18.05777359008789, 4.653065204620361, -26.1070556640625, -17.306188583374023, -15.354619026184082, -13.926081657409668, -16.421728134155273, -24.407142639160156, -14.733623504638672, -21.510866165161133, -19.450143814086914, -27.569049835205078, -21.514257431030273, -24.48406982421875, -19.384193420410156, -24.9941349029541, -26.655208587646484, -27.374731063842773, -18.193012237548828, -22.754776000976562, -14.006120681762695, -25.42069435119629, -16.722068786621094, -17.95848274230957, -20.330020904541016, -12.244750022888184, -24.85440444946289, -16.555946350097656, -19.520050048828125, -14.611489295959473, -13.736820220947266, -21.619970321655273, -19.436233520507812, -19.34516143798828, -13.085820198059082, -24.207202911376953, -21.531620025634766, -17.74358558654785, -16.441797256469727, -22.935474395751953, -20.037708282470703, -22.997194290161133, -14.127799034118652, -15.463237762451172, -15.687887191772461, -17.463245391845703, -22.854883193969727, -23.900842666625977, -16.72077178955078, -18.521392822265625, -16.888137817382812, -27.163007736206055, -27.161022186279297, -25.02290153503418, -27.190263748168945, -17.998186111450195, -26.09276008605957, -18.437414169311523, -15.599759101867676, -25.227262496948242, -21.43953514099121, -13.690717697143555, -26.2003116607666, -15.982892990112305, -22.358959197998047, -18.452411651611328, -22.174846649169922, -12.934287071228027, -17.404369354248047, 3.840926170349121, -21.393953323364258, -23.414941787719727, -23.92046356201172, -16.768199920654297, -17.503450393676758, -17.625635147094727, -15.381561279296875, -15.216392517089844, -17.528629302978516, -16.478139877319336, -13.366499900817871, -19.450069427490234, -15.79502010345459, -16.65648651123047, -16.301212310791016, -13.305596351623535, -15.062314987182617, -26.29898452758789, -20.697359085083008, -21.14019012451172, -19.549654006958008, -20.099536895751953, 5.668365955352783, -13.175079345703125, -15.30422592163086, -19.82749366760254, -27.219146728515625, -18.708648681640625, -5.995462417602539, 13.94469928741455, 4.861406326293945, 14.907386779785156, 0.5772302746772766, 3.25844144821167, 13.277250289916992, 5.063095569610596, 16.93922233581543, -13.686623573303223, -14.15842056274414, -10.758150100708008, -16.873592376708984, -0.3410208821296692, 2.202998399734497, 1.097332239151001, 6.32821798324585, -0.42818471789360046, 3.3349220752716064, 22.909589767456055, 0.8182199001312256, 12.797123908996582, 4.946292877197266, -5.692653656005859, -6.551970958709717, -3.3298397064208984, 16.458986282348633, 1.0403940677642822, 5.530967712402344, 11.705846786499023, 8.13736343383789, 11.215593338012695, 1.5053926706314087, -10.631620407104492, 2.5015318393707275, 2.003474712371826, 6.524975299835205, 14.59009075164795, 11.373465538024902, 0.9704457521438599, 10.4839506149292, 13.88115119934082, 12.85010051727295, 11.256416320800781, -1.7061994075775146, 0.22162975370883942, 1.919539451599121, 15.546314239501953, 1.7442277669906616, 7.941581726074219, -0.22804903984069824, -1.313031554222107, 12.564371109008789, 2.900940179824829, 14.322321891784668, 15.760025978088379, -2.6845781803131104, 9.363603591918945, 8.7745943069458, 11.676165580749512, -20.37921142578125, 4.895336151123047, 18.430465698242188, 19.657875061035156, 13.97432804107666, 11.90523624420166, -12.741814613342285, -13.575446128845215, 21.95639419555664, -12.935005187988281, 15.809871673583984, -12.782816886901855, 19.23526382446289, 1.4166690111160278, 2.4476401805877686, 17.3895206451416, 17.11445426940918, 19.270265579223633, -0.6151997447013855, 19.01069450378418, 20.006683349609375, 18.963825225830078, 15.347525596618652, 7.5837202072143555, 2.7635371685028076, 16.179676055908203, 20.966611862182617, 10.13089656829834, 20.252201080322266, 3.7423219680786133, -5.1569504737854, -1.0283704996109009, 8.213343620300293, 16.77531623840332, 0.33686503767967224, 3.135422945022583, 9.56247329711914, 22.888832092285156, 7.198559284210205, 4.08063268661499, 20.280887603759766, 21.270980834960938, 24.908775329589844, 19.304079055786133, 16.11322021484375, 3.801795244216919, -5.009632587432861, 18.378149032592773, 25.57048797607422, 26.567548751831055, 15.284934043884277, 26.066789627075195, 18.72516441345215, 19.545442581176758, 17.935649871826172, 16.191619873046875, 17.379053115844727, 6.817878246307373, 14.172796249389648, 12.547463417053223, -0.07127607613801956, -0.06573493778705597, 21.00973892211914, 10.976967811584473, 20.287506103515625, 13.743776321411133, 20.47866439819336, 23.24929428100586, 16.552833557128906, 21.6883544921875, 23.111644744873047, -5.4121012687683105, 13.481125831604004, 20.781831741333008, 4.283990859985352, 7.009713649749756, 20.94058609008789, 19.511205673217773, 11.937088966369629, 15.311012268066406, 16.20858383178711, 18.242311477661133, 21.562986373901367, 21.634418487548828, 9.890450477600098, 16.227508544921875, 15.346086502075195, 8.011838912963867, -1.5253287553787231, 17.775798797607422, 18.456161499023438, 25.341041564941406, 4.126117706298828, 22.265714645385742, 2.4929938316345215, 20.489538192749023, -4.581875801086426, 22.228845596313477, 21.564237594604492, 16.574617385864258, 14.620014190673828, 20.343767166137695, 11.901555061340332, 4.6958327293396, -1.7866301536560059, 22.760271072387695, 22.08904457092285, 22.65797233581543, 14.292669296264648, 16.770105361938477, 21.23417854309082, 18.038244247436523, 25.864229202270508, 22.87310218811035, 20.68486785888672, 17.750274658203125, -0.6648495197296143, 21.160432815551758, 18.982580184936523, 19.95408058166504, 6.162851810455322, 20.576732635498047, 8.890227317810059, 17.624954223632812, 13.545069694519043, 6.215970993041992, -1.3450658321380615, 21.226776123046875, 22.717342376708984, 6.315317153930664, 9.953222274780273, 4.887226104736328, -2.5874345302581787, 4.690915584564209, 14.16286563873291, 19.148897171020508, -0.8653130531311035, 20.297937393188477, 4.463680267333984, 18.7536563873291, -5.845507621765137, 7.169559478759766, 22.480382919311523, 0.07809234410524368, 8.163019180297852, 20.864913940429688, 2.321352958679199, 18.22977066040039, -1.1097297668457031, -5.516759395599365, -5.652407169342041, -3.5120813846588135, -1.5673463344573975, 19.968971252441406, -6.375820636749268, -2.352107286453247, -4.349184989929199, 4.136291027069092, -1.408209204673767, 8.479693412780762, -2.746821641921997, 7.01752233505249, 2.0521323680877686, 3.9629220962524414, 2.9823358058929443, -5.453910827636719, 0.9794406890869141, -5.206031799316406, -6.474163055419922, 2.0396385192871094, -4.1893086433410645, -6.710707664489746, 21.671279907226562, -1.1617389917373657, 0.7620515823364258, -5.507873058319092, -2.5950517654418945, 3.9265542030334473, -5.6250319480896, 0.0715860053896904, -1.900723934173584, 2.1513612270355225, -4.806458950042725, 1.786500334739685, -1.577532410621643, -1.4359796047210693, -2.4212324619293213, -6.227089881896973, -3.8683416843414307, -2.3447189331054688, -2.2105932235717773, -5.684116363525391, -2.4888293743133545, 1.2629655599594116, 1.2517192363739014, 0.4123137593269348, -2.8845181465148926, -5.958073139190674, -1.0047415494918823, -1.5030087232589722, -2.6107044219970703, -3.0805156230926514, -1.1537662744522095, -5.784083366394043, 0.039833489805459976, -1.3026353120803833, -4.823652744293213, -3.186581611633301, -5.874943256378174, -0.43891575932502747, -1.8677114248275757, -3.5303096771240234, -2.620988607406616, -7.470135688781738, -4.742655277252197, -4.024840831756592, -6.553063869476318, -2.43638014793396, -0.6368058323860168, -7.079309940338135, -3.2794978618621826, -4.433713436126709, 0.3854658305644989, -4.035405158996582, -6.372951507568359, -6.146005153656006, -0.9508382081985474, 1.5342291593551636, -4.686124324798584, -4.648779392242432, -7.26272439956665, -9.4468994140625, 1.5244258642196655, -7.446303844451904, -4.709875583648682, -8.76854133605957, -8.869050025939941, -8.326287269592285, -3.7092955112457275, -6.758979797363281, -8.61125659942627, -10.63776969909668, -7.878530979156494, -5.751363277435303, -10.126053810119629, -9.817578315734863, -9.717296600341797, -7.8355712890625, -9.468055725097656, -8.24141788482666, -10.024185180664062, -8.788933753967285, -10.727656364440918, -10.801673889160156, -11.072761535644531, -11.121200561523438, -11.694995880126953, -11.513784408569336, -12.066490173339844]}, {\"mode\": \"markers\", \"text\": [\"Star Wars: Episode IV - A New Hope (1977)\", \"Star Wars: Episode V - The Empire Strikes Back (1980)\", \"Star Wars: Episode VI - Return of the Jedi (1983)\", \"Star Wars: Episode I - The Phantom Menace (1999)\", \"Star Wars: Episode II - Attack of the Clones (2002)\", \"Star Wars: Episode III - Revenge of the Sith (2005)\"], \"type\": \"scatter\", \"x\": [7.1519341468811035, 4.081389427185059, 6.989869594573975, 2.422914743423462, -0.8758639693260193, -15.740182876586914], \"y\": [-12.244750022888184, -5.692653656005859, -10.631620407104492, 7.009713649749756, 8.479693412780762, -3.0805156230926514]}],\n",
       "                        {\"template\": {\"data\": {\"bar\": [{\"error_x\": {\"color\": \"#2a3f5f\"}, \"error_y\": {\"color\": \"#2a3f5f\"}, \"marker\": {\"line\": {\"color\": \"#E5ECF6\", \"width\": 0.5}}, \"type\": \"bar\"}], \"barpolar\": [{\"marker\": {\"line\": {\"color\": \"#E5ECF6\", \"width\": 0.5}}, \"type\": \"barpolar\"}], \"carpet\": [{\"aaxis\": {\"endlinecolor\": \"#2a3f5f\", \"gridcolor\": \"white\", \"linecolor\": \"white\", \"minorgridcolor\": \"white\", \"startlinecolor\": \"#2a3f5f\"}, \"baxis\": {\"endlinecolor\": \"#2a3f5f\", \"gridcolor\": \"white\", \"linecolor\": \"white\", \"minorgridcolor\": \"white\", \"startlinecolor\": \"#2a3f5f\"}, \"type\": \"carpet\"}], \"choropleth\": [{\"colorbar\": {\"outlinewidth\": 0, \"ticks\": \"\"}, \"type\": \"choropleth\"}], \"contour\": [{\"colorbar\": {\"outlinewidth\": 0, \"ticks\": \"\"}, \"colorscale\": [[0.0, \"#0d0887\"], [0.1111111111111111, \"#46039f\"], [0.2222222222222222, \"#7201a8\"], [0.3333333333333333, \"#9c179e\"], [0.4444444444444444, \"#bd3786\"], [0.5555555555555556, \"#d8576b\"], [0.6666666666666666, \"#ed7953\"], [0.7777777777777778, \"#fb9f3a\"], [0.8888888888888888, \"#fdca26\"], [1.0, \"#f0f921\"]], \"type\": \"contour\"}], \"contourcarpet\": [{\"colorbar\": {\"outlinewidth\": 0, \"ticks\": \"\"}, \"type\": \"contourcarpet\"}], \"heatmap\": [{\"colorbar\": {\"outlinewidth\": 0, \"ticks\": \"\"}, \"colorscale\": [[0.0, \"#0d0887\"], [0.1111111111111111, \"#46039f\"], [0.2222222222222222, \"#7201a8\"], [0.3333333333333333, \"#9c179e\"], [0.4444444444444444, \"#bd3786\"], [0.5555555555555556, \"#d8576b\"], [0.6666666666666666, \"#ed7953\"], [0.7777777777777778, \"#fb9f3a\"], [0.8888888888888888, \"#fdca26\"], [1.0, \"#f0f921\"]], \"type\": \"heatmap\"}], \"heatmapgl\": [{\"colorbar\": {\"outlinewidth\": 0, \"ticks\": \"\"}, \"colorscale\": [[0.0, \"#0d0887\"], [0.1111111111111111, \"#46039f\"], [0.2222222222222222, \"#7201a8\"], [0.3333333333333333, \"#9c179e\"], [0.4444444444444444, \"#bd3786\"], [0.5555555555555556, \"#d8576b\"], [0.6666666666666666, \"#ed7953\"], [0.7777777777777778, \"#fb9f3a\"], [0.8888888888888888, \"#fdca26\"], [1.0, \"#f0f921\"]], \"type\": \"heatmapgl\"}], \"histogram\": [{\"marker\": {\"colorbar\": {\"outlinewidth\": 0, \"ticks\": \"\"}}, \"type\": \"histogram\"}], \"histogram2d\": [{\"colorbar\": {\"outlinewidth\": 0, \"ticks\": \"\"}, \"colorscale\": [[0.0, \"#0d0887\"], [0.1111111111111111, \"#46039f\"], [0.2222222222222222, \"#7201a8\"], [0.3333333333333333, \"#9c179e\"], [0.4444444444444444, \"#bd3786\"], [0.5555555555555556, \"#d8576b\"], [0.6666666666666666, \"#ed7953\"], [0.7777777777777778, \"#fb9f3a\"], [0.8888888888888888, \"#fdca26\"], [1.0, \"#f0f921\"]], \"type\": \"histogram2d\"}], \"histogram2dcontour\": [{\"colorbar\": {\"outlinewidth\": 0, \"ticks\": \"\"}, \"colorscale\": [[0.0, \"#0d0887\"], [0.1111111111111111, \"#46039f\"], [0.2222222222222222, \"#7201a8\"], [0.3333333333333333, \"#9c179e\"], [0.4444444444444444, \"#bd3786\"], [0.5555555555555556, \"#d8576b\"], [0.6666666666666666, \"#ed7953\"], [0.7777777777777778, \"#fb9f3a\"], [0.8888888888888888, \"#fdca26\"], [1.0, \"#f0f921\"]], \"type\": \"histogram2dcontour\"}], \"mesh3d\": [{\"colorbar\": {\"outlinewidth\": 0, \"ticks\": \"\"}, \"type\": \"mesh3d\"}], \"parcoords\": [{\"line\": {\"colorbar\": {\"outlinewidth\": 0, \"ticks\": \"\"}}, \"type\": \"parcoords\"}], \"pie\": [{\"automargin\": true, \"type\": \"pie\"}], \"scatter\": [{\"marker\": {\"colorbar\": {\"outlinewidth\": 0, \"ticks\": \"\"}}, \"type\": \"scatter\"}], \"scatter3d\": [{\"line\": {\"colorbar\": {\"outlinewidth\": 0, \"ticks\": \"\"}}, \"marker\": {\"colorbar\": {\"outlinewidth\": 0, \"ticks\": \"\"}}, \"type\": \"scatter3d\"}], \"scattercarpet\": [{\"marker\": {\"colorbar\": {\"outlinewidth\": 0, \"ticks\": \"\"}}, \"type\": \"scattercarpet\"}], \"scattergeo\": [{\"marker\": {\"colorbar\": {\"outlinewidth\": 0, \"ticks\": \"\"}}, \"type\": \"scattergeo\"}], \"scattergl\": [{\"marker\": {\"colorbar\": {\"outlinewidth\": 0, \"ticks\": \"\"}}, \"type\": \"scattergl\"}], \"scattermapbox\": [{\"marker\": {\"colorbar\": {\"outlinewidth\": 0, \"ticks\": \"\"}}, \"type\": \"scattermapbox\"}], \"scatterpolar\": [{\"marker\": {\"colorbar\": {\"outlinewidth\": 0, \"ticks\": \"\"}}, \"type\": \"scatterpolar\"}], \"scatterpolargl\": [{\"marker\": {\"colorbar\": {\"outlinewidth\": 0, \"ticks\": \"\"}}, \"type\": \"scatterpolargl\"}], \"scatterternary\": [{\"marker\": {\"colorbar\": {\"outlinewidth\": 0, \"ticks\": \"\"}}, \"type\": \"scatterternary\"}], \"surface\": [{\"colorbar\": {\"outlinewidth\": 0, \"ticks\": \"\"}, \"colorscale\": [[0.0, \"#0d0887\"], [0.1111111111111111, \"#46039f\"], [0.2222222222222222, \"#7201a8\"], [0.3333333333333333, \"#9c179e\"], [0.4444444444444444, \"#bd3786\"], [0.5555555555555556, \"#d8576b\"], [0.6666666666666666, \"#ed7953\"], [0.7777777777777778, \"#fb9f3a\"], [0.8888888888888888, \"#fdca26\"], [1.0, \"#f0f921\"]], \"type\": \"surface\"}], \"table\": [{\"cells\": {\"fill\": {\"color\": \"#EBF0F8\"}, \"line\": {\"color\": \"white\"}}, \"header\": {\"fill\": {\"color\": \"#C8D4E3\"}, \"line\": {\"color\": \"white\"}}, \"type\": \"table\"}]}, \"layout\": {\"annotationdefaults\": {\"arrowcolor\": \"#2a3f5f\", \"arrowhead\": 0, \"arrowwidth\": 1}, \"coloraxis\": {\"colorbar\": {\"outlinewidth\": 0, \"ticks\": \"\"}}, \"colorscale\": {\"diverging\": [[0, \"#8e0152\"], [0.1, \"#c51b7d\"], [0.2, \"#de77ae\"], [0.3, \"#f1b6da\"], [0.4, \"#fde0ef\"], [0.5, \"#f7f7f7\"], [0.6, \"#e6f5d0\"], [0.7, \"#b8e186\"], [0.8, \"#7fbc41\"], [0.9, \"#4d9221\"], [1, \"#276419\"]], \"sequential\": [[0.0, \"#0d0887\"], [0.1111111111111111, \"#46039f\"], [0.2222222222222222, \"#7201a8\"], [0.3333333333333333, \"#9c179e\"], [0.4444444444444444, \"#bd3786\"], [0.5555555555555556, \"#d8576b\"], [0.6666666666666666, \"#ed7953\"], [0.7777777777777778, \"#fb9f3a\"], [0.8888888888888888, \"#fdca26\"], [1.0, \"#f0f921\"]], \"sequentialminus\": [[0.0, \"#0d0887\"], [0.1111111111111111, \"#46039f\"], [0.2222222222222222, \"#7201a8\"], [0.3333333333333333, \"#9c179e\"], [0.4444444444444444, \"#bd3786\"], [0.5555555555555556, \"#d8576b\"], [0.6666666666666666, \"#ed7953\"], [0.7777777777777778, \"#fb9f3a\"], [0.8888888888888888, \"#fdca26\"], [1.0, \"#f0f921\"]]}, \"colorway\": [\"#636efa\", \"#EF553B\", \"#00cc96\", \"#ab63fa\", \"#FFA15A\", \"#19d3f3\", \"#FF6692\", \"#B6E880\", \"#FF97FF\", \"#FECB52\"], \"font\": {\"color\": \"#2a3f5f\"}, \"geo\": {\"bgcolor\": \"white\", \"lakecolor\": \"white\", \"landcolor\": \"#E5ECF6\", \"showlakes\": true, \"showland\": true, \"subunitcolor\": \"white\"}, \"hoverlabel\": {\"align\": \"left\"}, \"hovermode\": \"closest\", \"mapbox\": {\"style\": \"light\"}, \"paper_bgcolor\": \"white\", \"plot_bgcolor\": \"#E5ECF6\", \"polar\": {\"angularaxis\": {\"gridcolor\": \"white\", \"linecolor\": \"white\", \"ticks\": \"\"}, \"bgcolor\": \"#E5ECF6\", \"radialaxis\": {\"gridcolor\": \"white\", \"linecolor\": \"white\", \"ticks\": \"\"}}, \"scene\": {\"xaxis\": {\"backgroundcolor\": \"#E5ECF6\", \"gridcolor\": \"white\", \"gridwidth\": 2, \"linecolor\": \"white\", \"showbackground\": true, \"ticks\": \"\", \"zerolinecolor\": \"white\"}, \"yaxis\": {\"backgroundcolor\": \"#E5ECF6\", \"gridcolor\": \"white\", \"gridwidth\": 2, \"linecolor\": \"white\", \"showbackground\": true, \"ticks\": \"\", \"zerolinecolor\": \"white\"}, \"zaxis\": {\"backgroundcolor\": \"#E5ECF6\", \"gridcolor\": \"white\", \"gridwidth\": 2, \"linecolor\": \"white\", \"showbackground\": true, \"ticks\": \"\", \"zerolinecolor\": \"white\"}}, \"shapedefaults\": {\"line\": {\"color\": \"#2a3f5f\"}}, \"ternary\": {\"aaxis\": {\"gridcolor\": \"white\", \"linecolor\": \"white\", \"ticks\": \"\"}, \"baxis\": {\"gridcolor\": \"white\", \"linecolor\": \"white\", \"ticks\": \"\"}, \"bgcolor\": \"#E5ECF6\", \"caxis\": {\"gridcolor\": \"white\", \"linecolor\": \"white\", \"ticks\": \"\"}}, \"title\": {\"x\": 0.05}, \"xaxis\": {\"automargin\": true, \"gridcolor\": \"white\", \"linecolor\": \"white\", \"ticks\": \"\", \"title\": {\"standoff\": 15}, \"zerolinecolor\": \"white\", \"zerolinewidth\": 2}, \"yaxis\": {\"automargin\": true, \"gridcolor\": \"white\", \"linecolor\": \"white\", \"ticks\": \"\", \"title\": {\"standoff\": 15}, \"zerolinecolor\": \"white\", \"zerolinewidth\": 2}}}},\n",
       "                        {\"responsive\": true}\n",
       "                    ).then(function(){\n",
       "                            \n",
       "var gd = document.getElementById('5006cc70-9afa-44f0-9c69-2805bf789a17');\n",
       "var x = new MutationObserver(function (mutations, observer) {{\n",
       "        var display = window.getComputedStyle(gd).display;\n",
       "        if (!display || display === 'none') {{\n",
       "            console.log([gd, 'removed!']);\n",
       "            Plotly.purge(gd);\n",
       "            observer.disconnect();\n",
       "        }}\n",
       "}});\n",
       "\n",
       "// Listen for the removal of the full notebook cells\n",
       "var notebookContainer = gd.closest('#notebook-container');\n",
       "if (notebookContainer) {{\n",
       "    x.observe(notebookContainer, {childList: true});\n",
       "}}\n",
       "\n",
       "// Listen for the clearing of the current output cell\n",
       "var outputEl = gd.closest('.output');\n",
       "if (outputEl) {{\n",
       "    x.observe(outputEl, {childList: true});\n",
       "}}\n",
       "\n",
       "                        })\n",
       "                };\n",
       "                });\n",
       "            </script>\n",
       "        </div>"
      ]
     },
     "metadata": {},
     "output_type": "display_data"
    }
   ],
   "source": [
    "fig = go.Figure(data=[trace, trace2])\n",
    "py.offline.iplot(fig)"
   ]
  },
  {
   "cell_type": "code",
   "execution_count": null,
   "metadata": {},
   "outputs": [],
   "source": []
  }
 ],
 "metadata": {
  "kernelspec": {
   "display_name": "Python 3",
   "language": "python",
   "name": "python3"
  },
  "language_info": {
   "codemirror_mode": {
    "name": "ipython",
    "version": 3
   },
   "file_extension": ".py",
   "mimetype": "text/x-python",
   "name": "python",
   "nbconvert_exporter": "python",
   "pygments_lexer": "ipython3",
   "version": "3.7.5"
  }
 },
 "nbformat": 4,
 "nbformat_minor": 4
}
