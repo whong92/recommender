{
 "cells": [
  {
   "cell_type": "code",
   "execution_count": 1,
   "metadata": {},
   "outputs": [
    {
     "name": "stderr",
     "output_type": "stream",
     "text": [
      "D:\\python\\Python35\\lib\\site-packages\\numpy\\core\\__init__.py:29: UserWarning: loaded more than 1 DLL from .libs:\n",
      "D:\\python\\Python35\\lib\\site-packages\\numpy\\.libs\\libopenblas.BNVRK7633HSX7YVO2TADGR4A5KEKXJAW.gfortran-win_amd64.dll\n",
      "D:\\python\\Python35\\lib\\site-packages\\numpy\\.libs\\libopenblas.IPBC74C7KURV7CB2PKT5Z5FNR3SIBV4J.gfortran-win_amd64.dll\n",
      "  stacklevel=1)\n",
      "D:\\python\\Python35\\lib\\site-packages\\h5py\\__init__.py:36: FutureWarning: Conversion of the second argument of issubdtype from `float` to `np.floating` is deprecated. In future, it will be treated as `np.float64 == np.dtype(float).type`.\n",
      "  from ._conv import register_converters as _register_converters\n"
     ]
    }
   ],
   "source": [
    "import os, sys\n",
    "os.sys.path.append('..')\n",
    "from recommender.utils import mongodbutils as mdb\n",
    "from recommender.utils.ItemMetadata import ExplicitDataFromCSV\n",
    "from recommender.utils.eval_utils import compute_auc, compute_ap\n",
    "from recommender.recommender.recommenderMF import RecommenderMF\n",
    "import pandas as pd\n",
    "import numpy as np\n",
    "import matplotlib.pyplot as plt"
   ]
  },
  {
   "cell_type": "markdown",
   "metadata": {},
   "source": [
    "## Load the train-val split"
   ]
  },
  {
   "cell_type": "code",
   "execution_count": 2,
   "metadata": {},
   "outputs": [
    {
     "name": "stderr",
     "output_type": "stream",
     "text": [
      "D:\\python\\Python35\\lib\\site-packages\\numpy\\lib\\arraysetops.py:569: FutureWarning: elementwise comparison failed; returning scalar instead, but in the future will perform elementwise comparison\n",
      "  mask |= (ar1 == a)\n"
     ]
    }
   ],
   "source": [
    "df_train = pd.read_csv('D:/PycharmProjects/recommender/data/ml-20m/ratings_train.csv', index_col=0)\n",
    "df_test = pd.read_csv('D:/PycharmProjects/recommender/data/ml-20m/ratings_test.csv', index_col=0)"
   ]
  },
  {
   "cell_type": "markdown",
   "metadata": {},
   "source": [
    "## Load pre-calculated metadata"
   ]
  },
  {
   "cell_type": "code",
   "execution_count": 4,
   "metadata": {},
   "outputs": [],
   "source": [
    "ratings_csv = 'D:/PycharmProjects/recommender/data/ml-20m/ratings_sanitized.csv'\n",
    "user_map_csv = 'D:/PycharmProjects/recommender/data/ml-20m/user_map.csv'\n",
    "item_map_csv = 'D:/PycharmProjects/recommender/data/ml-20m/item_map.csv'\n",
    "md_csv = 'D:/PycharmProjects/recommender/data/ml-20m/metadata.csv'\n",
    "stats_csv = 'D:/PycharmProjects/recommender/data/ml-20m/stats.csv'\n",
    "d = ExplicitDataFromCSV(True, ratings_csv=ratings_csv, user_map_csv=user_map_csv, item_map_csv=item_map_csv, md_csv=md_csv, stats_csv=stats_csv)"
   ]
  },
  {
   "cell_type": "code",
   "execution_count": 20,
   "metadata": {},
   "outputs": [],
   "source": [
    "# ratings_csv = 'D:/PycharmProjects/recommender/data/ml-latest-small/ratings.csv'\n",
    "# movies_csv = 'D:/PycharmProjects/recommender/data/ml-latest-small/movies.csv'\n",
    "# d = ExplicitDataFromCSV(False,\n",
    "#                         ratings_csv=ratings_csv, r_item_col='movieId', r_user_col='userId',\n",
    "#                         r_rating_col='rating',\n",
    "#                         metadata_csv=movies_csv, m_item_col='movieId')\n",
    "# d.save('D:\\\\PycharmProjects\\\\recommender\\\\data\\\\ml-latest-small')"
   ]
  },
  {
   "cell_type": "markdown",
   "metadata": {},
   "source": [
    "## Load model"
   ]
  },
  {
   "cell_type": "code",
   "execution_count": 5,
   "metadata": {},
   "outputs": [
    {
     "name": "stdout",
     "output_type": "stream",
     "text": [
      "INFO:tensorflow:Restoring parameters from D:/PycharmProjects/recommender/recommender/models/model/07201914185949/variables\\variables\n"
     ]
    }
   ],
   "source": [
    "model_path = 'D:/PycharmProjects/recommender/recommender/models/model/07201914185949/'\n",
    "rmf = RecommenderMF(mode='predict', model_path=model_path)"
   ]
  },
  {
   "cell_type": "markdown",
   "metadata": {},
   "source": [
    "Canculate RMSE on model prediction on the test set"
   ]
  },
  {
   "cell_type": "code",
   "execution_count": 6,
   "metadata": {},
   "outputs": [
    {
     "data": {
      "text/plain": [
       "0.8597272462838791"
      ]
     },
     "execution_count": 6,
     "metadata": {},
     "output_type": "execute_result"
    }
   ],
   "source": [
    "F = rmf.predict(np.array(df_test['user']), np.array(df_test['item']))\n",
    "np.sqrt(np.mean(np.power(F['rhat'] - df_test['rating'],2)))"
   ]
  },
  {
   "cell_type": "markdown",
   "metadata": {},
   "source": [
    "## Predict implicit performance\n",
    "Here we model the data as an implicit recommendation problem, which involves only user interaction and not an explicit score. We treat any film rated above 3.0 as an implicit positive rating, and calculate the recommender AP, and FPR based on that.\n",
    "\n",
    "The test set includes the test set used for explicit prediction."
   ]
  },
  {
   "cell_type": "code",
   "execution_count": 9,
   "metadata": {},
   "outputs": [
    {
     "data": {
      "text/html": [
       "<div>\n",
       "<style scoped>\n",
       "    .dataframe tbody tr th:only-of-type {\n",
       "        vertical-align: middle;\n",
       "    }\n",
       "\n",
       "    .dataframe tbody tr th {\n",
       "        vertical-align: top;\n",
       "    }\n",
       "\n",
       "    .dataframe thead th {\n",
       "        text-align: right;\n",
       "    }\n",
       "</style>\n",
       "<table border=\"1\" class=\"dataframe\">\n",
       "  <thead>\n",
       "    <tr style=\"text-align: right;\">\n",
       "      <th></th>\n",
       "      <th>Unnamed: 0.1</th>\n",
       "      <th>Unnamed: 0.1.1</th>\n",
       "      <th>rating</th>\n",
       "      <th>item</th>\n",
       "      <th>user</th>\n",
       "    </tr>\n",
       "  </thead>\n",
       "  <tbody>\n",
       "    <tr>\n",
       "      <th>15596663</th>\n",
       "      <td>15596663</td>\n",
       "      <td>15596663</td>\n",
       "      <td>4.5</td>\n",
       "      <td>220</td>\n",
       "      <td>107860</td>\n",
       "    </tr>\n",
       "    <tr>\n",
       "      <th>12559769</th>\n",
       "      <td>12559769</td>\n",
       "      <td>12559769</td>\n",
       "      <td>3.5</td>\n",
       "      <td>9564</td>\n",
       "      <td>86760</td>\n",
       "    </tr>\n",
       "    <tr>\n",
       "      <th>7492790</th>\n",
       "      <td>7492790</td>\n",
       "      <td>7492790</td>\n",
       "      <td>4.0</td>\n",
       "      <td>730</td>\n",
       "      <td>51701</td>\n",
       "    </tr>\n",
       "    <tr>\n",
       "      <th>3171258</th>\n",
       "      <td>3171258</td>\n",
       "      <td>3171258</td>\n",
       "      <td>4.0</td>\n",
       "      <td>234</td>\n",
       "      <td>21659</td>\n",
       "    </tr>\n",
       "    <tr>\n",
       "      <th>13064687</th>\n",
       "      <td>13064687</td>\n",
       "      <td>13064687</td>\n",
       "      <td>4.5</td>\n",
       "      <td>12002</td>\n",
       "      <td>90203</td>\n",
       "    </tr>\n",
       "  </tbody>\n",
       "</table>\n",
       "</div>"
      ],
      "text/plain": [
       "          Unnamed: 0.1  Unnamed: 0.1.1  rating   item    user\n",
       "15596663      15596663        15596663     4.5    220  107860\n",
       "12559769      12559769        12559769     3.5   9564   86760\n",
       "7492790        7492790         7492790     4.0    730   51701\n",
       "3171258        3171258         3171258     4.0    234   21659\n",
       "13064687      13064687        13064687     4.5  12002   90203"
      ]
     },
     "execution_count": 9,
     "metadata": {},
     "output_type": "execute_result"
    }
   ],
   "source": [
    "df_test_rel = df_test[df_test['rating']>3.0]\n",
    "df_test_rel.head()"
   ]
  },
  {
   "cell_type": "code",
   "execution_count": 10,
   "metadata": {},
   "outputs": [
    {
     "data": {
      "image/png": "[encoded data removed]",
      "text/plain": [
       "<Figure size 432x288 with 1 Axes>"
      ]
     },
     "metadata": {},
     "output_type": "display_data"
    }
   ],
   "source": [
    "plt.hist(df_test_rel['rating'])\n",
    "plt.show()"
   ]
  },
  {
   "cell_type": "markdown",
   "metadata": {},
   "source": [
    "Remove any positive GTs from the train set, so it does not count towards false positives"
   ]
  },
  {
   "cell_type": "code",
   "execution_count": 13,
   "metadata": {},
   "outputs": [
    {
     "name": "stdout",
     "output_type": "stream",
     "text": [
      "Number of films removed from train set: 26744 26676\n"
     ]
    }
   ],
   "source": [
    "# remove train info from testing\n",
    "user = 90000\n",
    "df_test_excl = df_train.loc[df_train.user==user]\n",
    "\n",
    "rec = rmf.recommend(user)[0]\n",
    "rec_filt = pd.DataFrame({'item': rec}, )\n",
    "rec_filt = pd.merge(rec_filt, df_test_excl ,on=\"item\", how=\"outer\",indicator=True)\n",
    "rec_filt = rec_filt.loc[rec_filt._merge=='left_only']['item']\n",
    "print('Number of films removed from train set:', len(rec), len(rec_filt))"
   ]
  },
  {
   "cell_type": "markdown",
   "metadata": {},
   "source": [
    "Visualize P-R curve, and FPR curve"
   ]
  },
  {
   "cell_type": "code",
   "execution_count": 39,
   "metadata": {},
   "outputs": [
    {
     "name": "stdout",
     "output_type": "stream",
     "text": [
      "26676 10\n"
     ]
    },
    {
     "data": {
      "image/png": "[encoded data removed]",
      "text/plain": [
       "<Figure size 1080x432 with 2 Axes>"
      ]
     },
     "metadata": {},
     "output_type": "display_data"
    }
   ],
   "source": [
    "pos = df_test_rel[df_test_rel['user']==user]['item']\n",
    "\n",
    "pos = set(pos)\n",
    "n = len(rec_filt)\n",
    "p = len(pos)\n",
    "\n",
    "print(n, p)\n",
    "\n",
    "f = n - p\n",
    "tp = 0\n",
    "fp = 0\n",
    "prec = []\n",
    "sens = []\n",
    "fpr = []\n",
    "tp_pos = []\n",
    "\n",
    "for i, r in enumerate(rec_filt):\n",
    "    if r in pos:\n",
    "        tp += 1\n",
    "        tp_pos.append(i)\n",
    "    else:\n",
    "        fp += 1\n",
    "    prec.append(tp/(i+1))\n",
    "    sens.append(tp/p)\n",
    "    fpr.append(fp/f)\n",
    "\n",
    "plt.figure(figsize=(15,6))\n",
    "plt.subplot(121)\n",
    "plt.title('Precision - recall')\n",
    "plt.plot(sens, prec, 'o')\n",
    "plt.xlabel('recall')\n",
    "plt.ylabel('precision')\n",
    "plt.grid()\n",
    "plt.subplot(122)\n",
    "plt.title('Recall - FPR')\n",
    "plt.plot(fpr, sens, 'o')\n",
    "plt.plot([0,1], [0,1], 'r:')\n",
    "plt.xlabel('fpr')\n",
    "plt.ylabel('recall')\n",
    "plt.grid()\n",
    "plt.show()"
   ]
  },
  {
   "cell_type": "markdown",
   "metadata": {},
   "source": [
    "Compute the AUC for the PR and FPR curves"
   ]
  },
  {
   "cell_type": "code",
   "execution_count": 40,
   "metadata": {},
   "outputs": [
    {
     "name": "stdout",
     "output_type": "stream",
     "text": [
      "0.0007456994269735135\n",
      "0.7433735843396085\n"
     ]
    }
   ],
   "source": [
    "prec = np.array(prec)\n",
    "sens = np.array(sens)\n",
    "fpr = np.array(fpr)\n",
    "dsens = sens[1:] - sens[:-1]\n",
    "dfpr = fpr[1:] - fpr[:-1]\n",
    "print(np.sum(prec[1:]*dsens))\n",
    "print(np.sum(sens[1:]*dfpr))"
   ]
  },
  {
   "cell_type": "code",
   "execution_count": 41,
   "metadata": {},
   "outputs": [
    {
     "data": {
      "text/plain": [
       "0.7433735843396085"
      ]
     },
     "execution_count": 41,
     "metadata": {},
     "output_type": "execute_result"
    }
   ],
   "source": [
    "compute_auc(rmf, user, df_test_rel, df_train)"
   ]
  },
  {
   "cell_type": "code",
   "execution_count": 42,
   "metadata": {},
   "outputs": [
    {
     "data": {
      "text/plain": [
       "0.0007456994269735135"
      ]
     },
     "execution_count": 42,
     "metadata": {},
     "output_type": "execute_result"
    }
   ],
   "source": [
    "compute_ap(rmf, user, df_test_rel, df_train)"
   ]
  },
  {
   "cell_type": "markdown",
   "metadata": {},
   "source": [
    "## 'Similar to' an item\n",
    "Here we try to look for titles similar to 'Pulp Fiction', with more than 100 users"
   ]
  },
  {
   "cell_type": "code",
   "execution_count": 43,
   "metadata": {},
   "outputs": [
    {
     "name": "stdout",
     "output_type": "stream",
     "text": [
      "                        title                       genres\n",
      "item_cat                                                  \n",
      "293       Pulp Fiction (1994)  Comedy|Crime|Drama|Thriller\n"
     ]
    }
   ],
   "source": [
    "item = d.md_df.loc[d.md_df['title'].map(lambda t: t.startswith('Pulp Fiction'))]\n",
    "print(item)\n",
    "item = item.index[0]"
   ]
  },
  {
   "cell_type": "code",
   "execution_count": 44,
   "metadata": {},
   "outputs": [
    {
     "name": "stdout",
     "output_type": "stream",
     "text": [
      "(26744, 20) (20,)\n"
     ]
    }
   ],
   "source": [
    "a,s = rmf.similar_to(item)"
   ]
  },
  {
   "cell_type": "code",
   "execution_count": 45,
   "metadata": {},
   "outputs": [
    {
     "data": {
      "text/html": [
       "<div>\n",
       "<style scoped>\n",
       "    .dataframe tbody tr th:only-of-type {\n",
       "        vertical-align: middle;\n",
       "    }\n",
       "\n",
       "    .dataframe tbody tr th {\n",
       "        vertical-align: top;\n",
       "    }\n",
       "\n",
       "    .dataframe thead th {\n",
       "        text-align: right;\n",
       "    }\n",
       "</style>\n",
       "<table border=\"1\" class=\"dataframe\">\n",
       "  <thead>\n",
       "    <tr style=\"text-align: right;\">\n",
       "      <th></th>\n",
       "      <th>title</th>\n",
       "      <th>genres</th>\n",
       "      <th>user</th>\n",
       "    </tr>\n",
       "    <tr>\n",
       "      <th>item_cat</th>\n",
       "      <th></th>\n",
       "      <th></th>\n",
       "      <th></th>\n",
       "    </tr>\n",
       "  </thead>\n",
       "  <tbody>\n",
       "    <tr>\n",
       "      <th>24</th>\n",
       "      <td>Leaving Las Vegas (1995)</td>\n",
       "      <td>Drama|Romance</td>\n",
       "      <td>21553</td>\n",
       "    </tr>\n",
       "    <tr>\n",
       "      <th>1188</th>\n",
       "      <td>Alien (1979)</td>\n",
       "      <td>Horror|Sci-Fi</td>\n",
       "      <td>30933</td>\n",
       "    </tr>\n",
       "    <tr>\n",
       "      <th>2606</th>\n",
       "      <td>Run Lola Run (Lola rennt) (1998)</td>\n",
       "      <td>Action|Crime</td>\n",
       "      <td>17029</td>\n",
       "    </tr>\n",
       "    <tr>\n",
       "      <th>505</th>\n",
       "      <td>Piano, The (1993)</td>\n",
       "      <td>Drama|Romance</td>\n",
       "      <td>17068</td>\n",
       "    </tr>\n",
       "    <tr>\n",
       "      <th>2873</th>\n",
       "      <td>Fight Club (1999)</td>\n",
       "      <td>Action|Crime|Drama|Thriller</td>\n",
       "      <td>40106</td>\n",
       "    </tr>\n",
       "    <tr>\n",
       "      <th>537</th>\n",
       "      <td>Blade Runner (1982)</td>\n",
       "      <td>Action|Sci-Fi|Thriller</td>\n",
       "      <td>30526</td>\n",
       "    </tr>\n",
       "    <tr>\n",
       "      <th>84</th>\n",
       "      <td>Angels and Insects (1995)</td>\n",
       "      <td>Drama|Romance</td>\n",
       "      <td>2714</td>\n",
       "    </tr>\n",
       "    <tr>\n",
       "      <th>1187</th>\n",
       "      <td>Goodfellas (1990)</td>\n",
       "      <td>Crime|Drama</td>\n",
       "      <td>26406</td>\n",
       "    </tr>\n",
       "    <tr>\n",
       "      <th>1260</th>\n",
       "      <td>This Is Spinal Tap (1984)</td>\n",
       "      <td>Comedy</td>\n",
       "      <td>16054</td>\n",
       "    </tr>\n",
       "    <tr>\n",
       "      <th>7249</th>\n",
       "      <td>Eternal Sunshine of the Spotless Mind (2004)</td>\n",
       "      <td>Drama|Romance|Sci-Fi</td>\n",
       "      <td>22352</td>\n",
       "    </tr>\n",
       "    <tr>\n",
       "      <th>1868</th>\n",
       "      <td>Midnight Cowboy (1969)</td>\n",
       "      <td>Drama</td>\n",
       "      <td>6302</td>\n",
       "    </tr>\n",
       "    <tr>\n",
       "      <th>1058</th>\n",
       "      <td>Monty Python's Life of Brian (1979)</td>\n",
       "      <td>Comedy</td>\n",
       "      <td>20557</td>\n",
       "    </tr>\n",
       "    <tr>\n",
       "      <th>602</th>\n",
       "      <td>Fargo (1996)</td>\n",
       "      <td>Comedy|Crime|Drama|Thriller</td>\n",
       "      <td>43272</td>\n",
       "    </tr>\n",
       "    <tr>\n",
       "      <th>2772</th>\n",
       "      <td>American Beauty (1999)</td>\n",
       "      <td>Comedy|Drama</td>\n",
       "      <td>44987</td>\n",
       "    </tr>\n",
       "    <tr>\n",
       "      <th>1113</th>\n",
       "      <td>Monty Python and the Holy Grail (1975)</td>\n",
       "      <td>Adventure|Comedy|Fantasy</td>\n",
       "      <td>33024</td>\n",
       "    </tr>\n",
       "    <tr>\n",
       "      <th>316</th>\n",
       "      <td>Shallow Grave (1994)</td>\n",
       "      <td>Comedy|Drama|Thriller</td>\n",
       "      <td>7180</td>\n",
       "    </tr>\n",
       "    <tr>\n",
       "      <th>1201</th>\n",
       "      <td>Once Upon a Time in America (1984)</td>\n",
       "      <td>Crime|Drama</td>\n",
       "      <td>4288</td>\n",
       "    </tr>\n",
       "    <tr>\n",
       "      <th>1067</th>\n",
       "      <td>Reservoir Dogs (1992)</td>\n",
       "      <td>Crime|Mystery|Thriller</td>\n",
       "      <td>27635</td>\n",
       "    </tr>\n",
       "    <tr>\n",
       "      <th>290</th>\n",
       "      <td>Léon: The Professional (a.k.a. The Professiona...</td>\n",
       "      <td>Action|Crime|Drama|Thriller</td>\n",
       "      <td>25804</td>\n",
       "    </tr>\n",
       "    <tr>\n",
       "      <th>46</th>\n",
       "      <td>Seven (a.k.a. Se7en) (1995)</td>\n",
       "      <td>Mystery|Thriller</td>\n",
       "      <td>43249</td>\n",
       "    </tr>\n",
       "    <tr>\n",
       "      <th>1206</th>\n",
       "      <td>Boot, Das (Boat, The) (1981)</td>\n",
       "      <td>Action|Drama|War</td>\n",
       "      <td>13612</td>\n",
       "    </tr>\n",
       "    <tr>\n",
       "      <th>1057</th>\n",
       "      <td>Fish Called Wanda, A (1988)</td>\n",
       "      <td>Comedy|Crime</td>\n",
       "      <td>19674</td>\n",
       "    </tr>\n",
       "    <tr>\n",
       "      <th>511</th>\n",
       "      <td>Remains of the Day, The (1993)</td>\n",
       "      <td>Drama|Romance</td>\n",
       "      <td>10661</td>\n",
       "    </tr>\n",
       "    <tr>\n",
       "      <th>1176</th>\n",
       "      <td>Good, the Bad and the Ugly, The (Buono, il bru...</td>\n",
       "      <td>Action|Adventure|Western</td>\n",
       "      <td>14496</td>\n",
       "    </tr>\n",
       "    <tr>\n",
       "      <th>2204</th>\n",
       "      <td>Player, The (1992)</td>\n",
       "      <td>Comedy|Crime|Drama</td>\n",
       "      <td>7846</td>\n",
       "    </tr>\n",
       "    <tr>\n",
       "      <th>1913</th>\n",
       "      <td>Exorcist, The (1973)</td>\n",
       "      <td>Horror|Mystery</td>\n",
       "      <td>13359</td>\n",
       "    </tr>\n",
       "    <tr>\n",
       "      <th>12121</th>\n",
       "      <td>Into the Wild (2007)</td>\n",
       "      <td>Action|Adventure|Drama</td>\n",
       "      <td>4945</td>\n",
       "    </tr>\n",
       "    <tr>\n",
       "      <th>3818</th>\n",
       "      <td>Best in Show (2000)</td>\n",
       "      <td>Comedy</td>\n",
       "      <td>10246</td>\n",
       "    </tr>\n",
       "    <tr>\n",
       "      <th>1363</th>\n",
       "      <td>Raising Arizona (1987)</td>\n",
       "      <td>Comedy</td>\n",
       "      <td>15483</td>\n",
       "    </tr>\n",
       "    <tr>\n",
       "      <th>547</th>\n",
       "      <td>Nightmare Before Christmas, The (1993)</td>\n",
       "      <td>Animation|Children|Fantasy|Musical</td>\n",
       "      <td>20509</td>\n",
       "    </tr>\n",
       "    <tr>\n",
       "      <th>...</th>\n",
       "      <td>...</td>\n",
       "      <td>...</td>\n",
       "      <td>...</td>\n",
       "    </tr>\n",
       "    <tr>\n",
       "      <th>18304</th>\n",
       "      <td>New Year's Eve (2011)</td>\n",
       "      <td>Comedy|Romance</td>\n",
       "      <td>153</td>\n",
       "    </tr>\n",
       "    <tr>\n",
       "      <th>11531</th>\n",
       "      <td>Black Christmas (2006)</td>\n",
       "      <td>Action|Horror|Thriller</td>\n",
       "      <td>151</td>\n",
       "    </tr>\n",
       "    <tr>\n",
       "      <th>797</th>\n",
       "      <td>Kazaam (1996)</td>\n",
       "      <td>Children|Comedy|Fantasy</td>\n",
       "      <td>1882</td>\n",
       "    </tr>\n",
       "    <tr>\n",
       "      <th>5404</th>\n",
       "      <td>Master of Disguise, The (2002)</td>\n",
       "      <td>Comedy|Mystery</td>\n",
       "      <td>717</td>\n",
       "    </tr>\n",
       "    <tr>\n",
       "      <th>7147</th>\n",
       "      <td>You Got Served (2004)</td>\n",
       "      <td>Drama|Musical</td>\n",
       "      <td>283</td>\n",
       "    </tr>\n",
       "    <tr>\n",
       "      <th>7983</th>\n",
       "      <td>Catwoman (2004)</td>\n",
       "      <td>Action|Crime|Fantasy</td>\n",
       "      <td>1425</td>\n",
       "    </tr>\n",
       "    <tr>\n",
       "      <th>5914</th>\n",
       "      <td>Kangaroo Jack (2003)</td>\n",
       "      <td>Action|Comedy</td>\n",
       "      <td>687</td>\n",
       "    </tr>\n",
       "    <tr>\n",
       "      <th>14450</th>\n",
       "      <td>Twilight Saga: New Moon, The (2009)</td>\n",
       "      <td>Drama|Fantasy|Horror|Romance|Thriller</td>\n",
       "      <td>1135</td>\n",
       "    </tr>\n",
       "    <tr>\n",
       "      <th>13471</th>\n",
       "      <td>Street Fighter: The Legend of Chun-Li (2009)</td>\n",
       "      <td>Action|Adventure|Sci-Fi|Thriller</td>\n",
       "      <td>133</td>\n",
       "    </tr>\n",
       "    <tr>\n",
       "      <th>3302</th>\n",
       "      <td>Shanghai Surprise (1986)</td>\n",
       "      <td>Adventure|Crime|Drama|Romance</td>\n",
       "      <td>231</td>\n",
       "    </tr>\n",
       "    <tr>\n",
       "      <th>3819</th>\n",
       "      <td>Beautiful (2000)</td>\n",
       "      <td>Comedy|Drama</td>\n",
       "      <td>265</td>\n",
       "    </tr>\n",
       "    <tr>\n",
       "      <th>1622</th>\n",
       "      <td>Chairman of the Board (1998)</td>\n",
       "      <td>Comedy</td>\n",
       "      <td>180</td>\n",
       "    </tr>\n",
       "    <tr>\n",
       "      <th>2297</th>\n",
       "      <td>Police Academy 5: Assignment: Miami Beach (1988)</td>\n",
       "      <td>Comedy|Crime</td>\n",
       "      <td>2292</td>\n",
       "    </tr>\n",
       "    <tr>\n",
       "      <th>9721</th>\n",
       "      <td>Double Dragon (1994)</td>\n",
       "      <td>Action|Adventure|Sci-Fi</td>\n",
       "      <td>129</td>\n",
       "    </tr>\n",
       "    <tr>\n",
       "      <th>10501</th>\n",
       "      <td>Fog, The (2005)</td>\n",
       "      <td>Action|Horror|Mystery|Thriller</td>\n",
       "      <td>359</td>\n",
       "    </tr>\n",
       "    <tr>\n",
       "      <th>4654</th>\n",
       "      <td>3 Ninjas Knuckle Up (1995)</td>\n",
       "      <td>Action|Children</td>\n",
       "      <td>471</td>\n",
       "    </tr>\n",
       "    <tr>\n",
       "      <th>5742</th>\n",
       "      <td>Return to the Blue Lagoon (1991)</td>\n",
       "      <td>Adventure|Romance</td>\n",
       "      <td>494</td>\n",
       "    </tr>\n",
       "    <tr>\n",
       "      <th>11728</th>\n",
       "      <td>Hills Have Eyes II, The (2007)</td>\n",
       "      <td>Horror|Thriller</td>\n",
       "      <td>334</td>\n",
       "    </tr>\n",
       "    <tr>\n",
       "      <th>10298</th>\n",
       "      <td>Deuce Bigalow: European Gigolo (2005)</td>\n",
       "      <td>Comedy</td>\n",
       "      <td>592</td>\n",
       "    </tr>\n",
       "    <tr>\n",
       "      <th>6762</th>\n",
       "      <td>House of the Dead, The (2003)</td>\n",
       "      <td>Action|Horror</td>\n",
       "      <td>447</td>\n",
       "    </tr>\n",
       "    <tr>\n",
       "      <th>7787</th>\n",
       "      <td>Police Academy: Mission to Moscow (1994)</td>\n",
       "      <td>Comedy|Crime</td>\n",
       "      <td>927</td>\n",
       "    </tr>\n",
       "    <tr>\n",
       "      <th>12474</th>\n",
       "      <td>College Road Trip (2008)</td>\n",
       "      <td>Comedy</td>\n",
       "      <td>109</td>\n",
       "    </tr>\n",
       "    <tr>\n",
       "      <th>10739</th>\n",
       "      <td>BloodRayne (2005)</td>\n",
       "      <td>Action|Fantasy</td>\n",
       "      <td>388</td>\n",
       "    </tr>\n",
       "    <tr>\n",
       "      <th>12942</th>\n",
       "      <td>Disaster Movie (2008)</td>\n",
       "      <td>Comedy</td>\n",
       "      <td>397</td>\n",
       "    </tr>\n",
       "    <tr>\n",
       "      <th>11140</th>\n",
       "      <td>Little Man (2006)</td>\n",
       "      <td>Comedy</td>\n",
       "      <td>276</td>\n",
       "    </tr>\n",
       "    <tr>\n",
       "      <th>10930</th>\n",
       "      <td>Stay Alive (2006)</td>\n",
       "      <td>Horror|Sci-Fi|Thriller</td>\n",
       "      <td>203</td>\n",
       "    </tr>\n",
       "    <tr>\n",
       "      <th>14584</th>\n",
       "      <td>Alvin and the Chipmunks: The Squeakquel (2009)</td>\n",
       "      <td>Animation|Children|Comedy|Musical</td>\n",
       "      <td>232</td>\n",
       "    </tr>\n",
       "    <tr>\n",
       "      <th>11416</th>\n",
       "      <td>Santa Clause 3: The Escape Clause, The (2006)</td>\n",
       "      <td>Comedy|Fantasy</td>\n",
       "      <td>233</td>\n",
       "    </tr>\n",
       "    <tr>\n",
       "      <th>12617</th>\n",
       "      <td>Expelled: No Intelligence Allowed (2008)</td>\n",
       "      <td>Documentary</td>\n",
       "      <td>127</td>\n",
       "    </tr>\n",
       "    <tr>\n",
       "      <th>10847</th>\n",
       "      <td>Date Movie (2006)</td>\n",
       "      <td>Comedy|Romance</td>\n",
       "      <td>769</td>\n",
       "    </tr>\n",
       "  </tbody>\n",
       "</table>\n",
       "<p>8531 rows × 3 columns</p>\n",
       "</div>"
      ],
      "text/plain": [
       "                                                      title  \\\n",
       "item_cat                                                      \n",
       "24                                 Leaving Las Vegas (1995)   \n",
       "1188                                           Alien (1979)   \n",
       "2606                       Run Lola Run (Lola rennt) (1998)   \n",
       "505                                       Piano, The (1993)   \n",
       "2873                                      Fight Club (1999)   \n",
       "537                                     Blade Runner (1982)   \n",
       "84                                Angels and Insects (1995)   \n",
       "1187                                      Goodfellas (1990)   \n",
       "1260                              This Is Spinal Tap (1984)   \n",
       "7249           Eternal Sunshine of the Spotless Mind (2004)   \n",
       "1868                                 Midnight Cowboy (1969)   \n",
       "1058                    Monty Python's Life of Brian (1979)   \n",
       "602                                            Fargo (1996)   \n",
       "2772                                 American Beauty (1999)   \n",
       "1113                 Monty Python and the Holy Grail (1975)   \n",
       "316                                    Shallow Grave (1994)   \n",
       "1201                     Once Upon a Time in America (1984)   \n",
       "1067                                  Reservoir Dogs (1992)   \n",
       "290       Léon: The Professional (a.k.a. The Professiona...   \n",
       "46                              Seven (a.k.a. Se7en) (1995)   \n",
       "1206                           Boot, Das (Boat, The) (1981)   \n",
       "1057                            Fish Called Wanda, A (1988)   \n",
       "511                          Remains of the Day, The (1993)   \n",
       "1176      Good, the Bad and the Ugly, The (Buono, il bru...   \n",
       "2204                                     Player, The (1992)   \n",
       "1913                                   Exorcist, The (1973)   \n",
       "12121                                  Into the Wild (2007)   \n",
       "3818                                    Best in Show (2000)   \n",
       "1363                                 Raising Arizona (1987)   \n",
       "547                  Nightmare Before Christmas, The (1993)   \n",
       "...                                                     ...   \n",
       "18304                                 New Year's Eve (2011)   \n",
       "11531                                Black Christmas (2006)   \n",
       "797                                           Kazaam (1996)   \n",
       "5404                         Master of Disguise, The (2002)   \n",
       "7147                                  You Got Served (2004)   \n",
       "7983                                        Catwoman (2004)   \n",
       "5914                                   Kangaroo Jack (2003)   \n",
       "14450                   Twilight Saga: New Moon, The (2009)   \n",
       "13471          Street Fighter: The Legend of Chun-Li (2009)   \n",
       "3302                               Shanghai Surprise (1986)   \n",
       "3819                                       Beautiful (2000)   \n",
       "1622                           Chairman of the Board (1998)   \n",
       "2297       Police Academy 5: Assignment: Miami Beach (1988)   \n",
       "9721                                   Double Dragon (1994)   \n",
       "10501                                       Fog, The (2005)   \n",
       "4654                             3 Ninjas Knuckle Up (1995)   \n",
       "5742                       Return to the Blue Lagoon (1991)   \n",
       "11728                        Hills Have Eyes II, The (2007)   \n",
       "10298                 Deuce Bigalow: European Gigolo (2005)   \n",
       "6762                          House of the Dead, The (2003)   \n",
       "7787               Police Academy: Mission to Moscow (1994)   \n",
       "12474                              College Road Trip (2008)   \n",
       "10739                                     BloodRayne (2005)   \n",
       "12942                                 Disaster Movie (2008)   \n",
       "11140                                     Little Man (2006)   \n",
       "10930                                     Stay Alive (2006)   \n",
       "14584        Alvin and the Chipmunks: The Squeakquel (2009)   \n",
       "11416         Santa Clause 3: The Escape Clause, The (2006)   \n",
       "12617              Expelled: No Intelligence Allowed (2008)   \n",
       "10847                                     Date Movie (2006)   \n",
       "\n",
       "                                         genres   user  \n",
       "item_cat                                                \n",
       "24                                Drama|Romance  21553  \n",
       "1188                              Horror|Sci-Fi  30933  \n",
       "2606                               Action|Crime  17029  \n",
       "505                               Drama|Romance  17068  \n",
       "2873                Action|Crime|Drama|Thriller  40106  \n",
       "537                      Action|Sci-Fi|Thriller  30526  \n",
       "84                                Drama|Romance   2714  \n",
       "1187                                Crime|Drama  26406  \n",
       "1260                                     Comedy  16054  \n",
       "7249                       Drama|Romance|Sci-Fi  22352  \n",
       "1868                                      Drama   6302  \n",
       "1058                                     Comedy  20557  \n",
       "602                 Comedy|Crime|Drama|Thriller  43272  \n",
       "2772                               Comedy|Drama  44987  \n",
       "1113                   Adventure|Comedy|Fantasy  33024  \n",
       "316                       Comedy|Drama|Thriller   7180  \n",
       "1201                                Crime|Drama   4288  \n",
       "1067                     Crime|Mystery|Thriller  27635  \n",
       "290                 Action|Crime|Drama|Thriller  25804  \n",
       "46                             Mystery|Thriller  43249  \n",
       "1206                           Action|Drama|War  13612  \n",
       "1057                               Comedy|Crime  19674  \n",
       "511                               Drama|Romance  10661  \n",
       "1176                   Action|Adventure|Western  14496  \n",
       "2204                         Comedy|Crime|Drama   7846  \n",
       "1913                             Horror|Mystery  13359  \n",
       "12121                    Action|Adventure|Drama   4945  \n",
       "3818                                     Comedy  10246  \n",
       "1363                                     Comedy  15483  \n",
       "547          Animation|Children|Fantasy|Musical  20509  \n",
       "...                                         ...    ...  \n",
       "18304                            Comedy|Romance    153  \n",
       "11531                    Action|Horror|Thriller    151  \n",
       "797                     Children|Comedy|Fantasy   1882  \n",
       "5404                             Comedy|Mystery    717  \n",
       "7147                              Drama|Musical    283  \n",
       "7983                       Action|Crime|Fantasy   1425  \n",
       "5914                              Action|Comedy    687  \n",
       "14450     Drama|Fantasy|Horror|Romance|Thriller   1135  \n",
       "13471          Action|Adventure|Sci-Fi|Thriller    133  \n",
       "3302              Adventure|Crime|Drama|Romance    231  \n",
       "3819                               Comedy|Drama    265  \n",
       "1622                                     Comedy    180  \n",
       "2297                               Comedy|Crime   2292  \n",
       "9721                    Action|Adventure|Sci-Fi    129  \n",
       "10501            Action|Horror|Mystery|Thriller    359  \n",
       "4654                            Action|Children    471  \n",
       "5742                          Adventure|Romance    494  \n",
       "11728                           Horror|Thriller    334  \n",
       "10298                                    Comedy    592  \n",
       "6762                              Action|Horror    447  \n",
       "7787                               Comedy|Crime    927  \n",
       "12474                                    Comedy    109  \n",
       "10739                            Action|Fantasy    388  \n",
       "12942                                    Comedy    397  \n",
       "11140                                    Comedy    276  \n",
       "10930                    Horror|Sci-Fi|Thriller    203  \n",
       "14584         Animation|Children|Comedy|Musical    232  \n",
       "11416                            Comedy|Fantasy    233  \n",
       "12617                               Documentary    127  \n",
       "10847                            Comedy|Romance    769  \n",
       "\n",
       "[8531 rows x 3 columns]"
      ]
     },
     "execution_count": 45,
     "metadata": {},
     "output_type": "execute_result"
    }
   ],
   "source": [
    "md = d.fetch_md(a).merge(d.stats, right_index=True, left_on='item_cat')\n",
    "md[md['user'] > 100]"
   ]
  },
  {
   "cell_type": "code",
   "execution_count": null,
   "metadata": {},
   "outputs": [],
   "source": []
  }
 ],
 "metadata": {
  "kernelspec": {
   "display_name": "Python 3",
   "language": "python",
   "name": "python3"
  },
  "language_info": {
   "codemirror_mode": {
    "name": "ipython",
    "version": 3
   },
   "file_extension": ".py",
   "mimetype": "text/x-python",
   "name": "python",
   "nbconvert_exporter": "python",
   "pygments_lexer": "ipython3",
   "version": "3.5.4"
  }
 },
 "nbformat": 4,
 "nbformat_minor": 1
}
