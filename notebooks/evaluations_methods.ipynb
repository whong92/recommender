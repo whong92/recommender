{
 "cells": [
  {
   "cell_type": "code",
   "execution_count": 1,
   "metadata": {},
   "outputs": [
    {
     "name": "stderr",
     "output_type": "stream",
     "text": [
      "D:\\python\\Python35\\lib\\site-packages\\numpy\\core\\__init__.py:29: UserWarning: loaded more than 1 DLL from .libs:\n",
      "D:\\python\\Python35\\lib\\site-packages\\numpy\\.libs\\libopenblas.BNVRK7633HSX7YVO2TADGR4A5KEKXJAW.gfortran-win_amd64.dll\n",
      "D:\\python\\Python35\\lib\\site-packages\\numpy\\.libs\\libopenblas.IPBC74C7KURV7CB2PKT5Z5FNR3SIBV4J.gfortran-win_amd64.dll\n",
      "  stacklevel=1)\n",
      "D:\\python\\Python35\\lib\\site-packages\\h5py\\__init__.py:36: FutureWarning: Conversion of the second argument of issubdtype from `float` to `np.floating` is deprecated. In future, it will be treated as `np.float64 == np.dtype(float).type`.\n",
      "  from ._conv import register_converters as _register_converters\n"
     ]
    }
   ],
   "source": [
    "import os, sys\n",
    "os.sys.path.append('..')\n",
    "from recommender.utils import mongodbutils as mdb\n",
    "from recommender.utils.utils import csv2df\n",
    "from recommender.utils.eval_utils import compute_auc, compute_ap\n",
    "from recommender.recommender.recommenderMF import RecommenderMF\n",
    "import pandas as pd\n",
    "import numpy as np\n",
    "import matplotlib.pyplot as plt"
   ]
  },
  {
   "cell_type": "code",
   "execution_count": 2,
   "metadata": {},
   "outputs": [],
   "source": [
    "df_train = pd.read_csv('D:/PycharmProjects/recommender/data/ml-latest-small/ratings_train.csv')\n",
    "df_test = pd.read_csv('D:/PycharmProjects/recommender/data/ml-latest-small/ratings_test.csv')"
   ]
  },
  {
   "cell_type": "code",
   "execution_count": 3,
   "metadata": {},
   "outputs": [
    {
     "name": "stdout",
     "output_type": "stream",
     "text": [
      "INFO:tensorflow:Restoring parameters from D:/PycharmProjects/recommender/recommender/models/model/06201922232424/variables\\variables\n"
     ]
    }
   ],
   "source": [
    "model_path = 'D:/PycharmProjects/recommender/recommender/models/model/06201922232424/'\n",
    "rmf = RecommenderMF(mode='predict', model_path=model_path)"
   ]
  },
  {
   "cell_type": "code",
   "execution_count": 4,
   "metadata": {},
   "outputs": [
    {
     "data": {
      "text/html": [
       "<div>\n",
       "<style scoped>\n",
       "    .dataframe tbody tr th:only-of-type {\n",
       "        vertical-align: middle;\n",
       "    }\n",
       "\n",
       "    .dataframe tbody tr th {\n",
       "        vertical-align: top;\n",
       "    }\n",
       "\n",
       "    .dataframe thead th {\n",
       "        text-align: right;\n",
       "    }\n",
       "</style>\n",
       "<table border=\"1\" class=\"dataframe\">\n",
       "  <thead>\n",
       "    <tr style=\"text-align: right;\">\n",
       "      <th></th>\n",
       "      <th>Unnamed: 0</th>\n",
       "      <th>user</th>\n",
       "      <th>item</th>\n",
       "      <th>rating</th>\n",
       "      <th>item_cat</th>\n",
       "      <th>user_cat</th>\n",
       "    </tr>\n",
       "  </thead>\n",
       "  <tbody>\n",
       "    <tr>\n",
       "      <th>3</th>\n",
       "      <td>48709</td>\n",
       "      <td>314</td>\n",
       "      <td>127</td>\n",
       "      <td>4.0</td>\n",
       "      <td>127</td>\n",
       "      <td>314</td>\n",
       "    </tr>\n",
       "    <tr>\n",
       "      <th>6</th>\n",
       "      <td>63051</td>\n",
       "      <td>413</td>\n",
       "      <td>1644</td>\n",
       "      <td>4.0</td>\n",
       "      <td>1644</td>\n",
       "      <td>413</td>\n",
       "    </tr>\n",
       "    <tr>\n",
       "      <th>8</th>\n",
       "      <td>51171</td>\n",
       "      <td>329</td>\n",
       "      <td>4328</td>\n",
       "      <td>4.0</td>\n",
       "      <td>4328</td>\n",
       "      <td>329</td>\n",
       "    </tr>\n",
       "    <tr>\n",
       "      <th>10</th>\n",
       "      <td>15330</td>\n",
       "      <td>99</td>\n",
       "      <td>485</td>\n",
       "      <td>4.5</td>\n",
       "      <td>485</td>\n",
       "      <td>99</td>\n",
       "    </tr>\n",
       "    <tr>\n",
       "      <th>11</th>\n",
       "      <td>57650</td>\n",
       "      <td>379</td>\n",
       "      <td>5856</td>\n",
       "      <td>4.0</td>\n",
       "      <td>5856</td>\n",
       "      <td>379</td>\n",
       "    </tr>\n",
       "  </tbody>\n",
       "</table>\n",
       "</div>"
      ],
      "text/plain": [
       "    Unnamed: 0  user  item  rating  item_cat  user_cat\n",
       "3        48709   314   127     4.0       127       314\n",
       "6        63051   413  1644     4.0      1644       413\n",
       "8        51171   329  4328     4.0      4328       329\n",
       "10       15330    99   485     4.5       485        99\n",
       "11       57650   379  5856     4.0      5856       379"
      ]
     },
     "execution_count": 4,
     "metadata": {},
     "output_type": "execute_result"
    }
   ],
   "source": [
    "df_test_rel = df_test[df_test['rating']>3.0]\n",
    "df_test_rel.head()"
   ]
  },
  {
   "cell_type": "code",
   "execution_count": 5,
   "metadata": {},
   "outputs": [
    {
     "data": {
      "image/png": "[encoded data removed]",
      "text/plain": [
       "<Figure size 432x288 with 1 Axes>"
      ]
     },
     "metadata": {},
     "output_type": "display_data"
    }
   ],
   "source": [
    "plt.hist(df_test_rel['rating'])\n",
    "plt.show()"
   ]
  },
  {
   "cell_type": "code",
   "execution_count": 6,
   "metadata": {},
   "outputs": [
    {
     "name": "stdout",
     "output_type": "stream",
     "text": [
      "9724 9650\n"
     ]
    }
   ],
   "source": [
    "# remove train info from testing\n",
    "user = 33\n",
    "df_test_excl = df_train.loc[df_train.user==user]\n",
    "\n",
    "rec = rmf.recommend(user)[0]\n",
    "rec_filt = pd.DataFrame({'item': rec}, )\n",
    "rec_filt = pd.merge(rec_filt, df_test_excl ,on=\"item\", how=\"outer\",indicator=True)\n",
    "rec_filt = rec_filt.loc[rec_filt._merge=='left_only']['item']\n",
    "print(len(rec), len(rec_filt))"
   ]
  },
  {
   "cell_type": "code",
   "execution_count": 7,
   "metadata": {},
   "outputs": [
    {
     "name": "stdout",
     "output_type": "stream",
     "text": [
      "9650 9\n"
     ]
    },
    {
     "data": {
      "image/png": "[encoded data removed]",
      "text/plain": [
       "<Figure size 432x288 with 2 Axes>"
      ]
     },
     "metadata": {},
     "output_type": "display_data"
    }
   ],
   "source": [
    "pos = df_test_rel[df_test_rel['user']==user]['item']\n",
    "\n",
    "pos = set(pos)\n",
    "n = len(rec_filt)\n",
    "p = len(pos)\n",
    "\n",
    "print(n, p)\n",
    "\n",
    "f = n - p\n",
    "tp = 0\n",
    "fp = 0\n",
    "prec = []\n",
    "sens = []\n",
    "fpr = []\n",
    "tp_pos = []\n",
    "\n",
    "for i, r in enumerate(rec_filt):\n",
    "    if r in pos:\n",
    "        tp += 1\n",
    "        tp_pos.append(i)\n",
    "    else:\n",
    "        fp += 1\n",
    "    prec.append(tp/(i+1))\n",
    "    sens.append(tp/p)\n",
    "    fpr.append(fp/f)\n",
    "\n",
    "plt.subplot(121)\n",
    "plt.plot(sens, prec, 'o')\n",
    "plt.subplot(122)\n",
    "plt.plot(fpr, sens, 'o')\n",
    "plt.plot([0,1], [0,1], 'r:')\n",
    "plt.show()"
   ]
  },
  {
   "cell_type": "code",
   "execution_count": 8,
   "metadata": {},
   "outputs": [
    {
     "name": "stdout",
     "output_type": "stream",
     "text": [
      "0.01703755308998961\n",
      "0.8280837626341205\n"
     ]
    }
   ],
   "source": [
    "prec = np.array(prec)\n",
    "sens = np.array(sens)\n",
    "fpr = np.array(fpr)\n",
    "dsens = sens[1:] - sens[:-1]\n",
    "dfpr = fpr[1:] - fpr[:-1]\n",
    "print(np.sum(prec[1:]*dsens))\n",
    "print(np.sum(sens[1:]*dfpr))"
   ]
  },
  {
   "cell_type": "code",
   "execution_count": 9,
   "metadata": {},
   "outputs": [
    {
     "data": {
      "text/plain": [
       "0.8280837626341204"
      ]
     },
     "execution_count": 9,
     "metadata": {},
     "output_type": "execute_result"
    }
   ],
   "source": [
    "compute_auc(rmf, user, df_test_rel, df_train)"
   ]
  },
  {
   "cell_type": "code",
   "execution_count": 10,
   "metadata": {},
   "outputs": [
    {
     "data": {
      "text/plain": [
       "0.017037553089989613"
      ]
     },
     "execution_count": 10,
     "metadata": {},
     "output_type": "execute_result"
    }
   ],
   "source": [
    "compute_ap(rmf, user, df_test_rel, df_train)"
   ]
  },
  {
   "cell_type": "code",
   "execution_count": 11,
   "metadata": {},
   "outputs": [
    {
     "name": "stdout",
     "output_type": "stream",
     "text": [
      "(9724, 10) (10,)\n"
     ]
    }
   ],
   "source": [
    "a,s = rmf.similar_to(3)"
   ]
  },
  {
   "cell_type": "code",
   "execution_count": 18,
   "metadata": {},
   "outputs": [
    {
     "name": "stdout",
     "output_type": "stream",
     "text": [
      "          movieId                               title  \\\n",
      "item_cat                                                \n",
      "0               1                    Toy Story (1995)   \n",
      "481             2                      Jumanji (1995)   \n",
      "1               3             Grumpier Old Men (1995)   \n",
      "482             4            Waiting to Exhale (1995)   \n",
      "483             5  Father of the Bride Part II (1995)   \n",
      "\n",
      "                                               genres  idx  \n",
      "item_cat                                                    \n",
      "0         Adventure|Animation|Children|Comedy|Fantasy    1  \n",
      "481                        Adventure|Children|Fantasy    2  \n",
      "1                                      Comedy|Romance    3  \n",
      "482                              Comedy|Drama|Romance    4  \n",
      "483                                            Comedy    5  \n"
     ]
    }
   ],
   "source": [
    "from recommender.utils.ItemMetadata import ItemMetadataFromCSV\n",
    "md = ItemMetadataFromCSV('D:/PycharmProjects/recommender/data/tmp/item_map_df.csv',\n",
    "                        'D:/PycharmProjects/recommender/data/ml-latest-small/movies.csv',\n",
    "                         'idx', 'movieId', 'item_cat', ['title']\n",
    "                        )"
   ]
  },
  {
   "cell_type": "code",
   "execution_count": 21,
   "metadata": {},
   "outputs": [
    {
     "data": {
      "text/html": [
       "<div>\n",
       "<style scoped>\n",
       "    .dataframe tbody tr th:only-of-type {\n",
       "        vertical-align: middle;\n",
       "    }\n",
       "\n",
       "    .dataframe tbody tr th {\n",
       "        vertical-align: top;\n",
       "    }\n",
       "\n",
       "    .dataframe thead th {\n",
       "        text-align: right;\n",
       "    }\n",
       "</style>\n",
       "<table border=\"1\" class=\"dataframe\">\n",
       "  <thead>\n",
       "    <tr style=\"text-align: right;\">\n",
       "      <th></th>\n",
       "      <th>title</th>\n",
       "    </tr>\n",
       "    <tr>\n",
       "      <th>item_cat</th>\n",
       "      <th></th>\n",
       "    </tr>\n",
       "  </thead>\n",
       "  <tbody>\n",
       "    <tr>\n",
       "      <th>6700</th>\n",
       "      <td>Caddyshack II (1988)</td>\n",
       "    </tr>\n",
       "    <tr>\n",
       "      <th>6336</th>\n",
       "      <td>Frankie and Johnny (1991)</td>\n",
       "    </tr>\n",
       "    <tr>\n",
       "      <th>5496</th>\n",
       "      <td>Blackbeard's Ghost (1968)</td>\n",
       "    </tr>\n",
       "    <tr>\n",
       "      <th>7623</th>\n",
       "      <td>Paradise Now (2005)</td>\n",
       "    </tr>\n",
       "    <tr>\n",
       "      <th>6741</th>\n",
       "      <td>Pauline at the Beach (Pauline à la Plage) (1983)</td>\n",
       "    </tr>\n",
       "    <tr>\n",
       "      <th>7513</th>\n",
       "      <td>Running Scared (1980)</td>\n",
       "    </tr>\n",
       "    <tr>\n",
       "      <th>9307</th>\n",
       "      <td>Idaho Transfer (1973)</td>\n",
       "    </tr>\n",
       "    <tr>\n",
       "      <th>6355</th>\n",
       "      <td>Taking Woodstock (2009)</td>\n",
       "    </tr>\n",
       "    <tr>\n",
       "      <th>8230</th>\n",
       "      <td>Eddie and the Cruisers (1983)</td>\n",
       "    </tr>\n",
       "    <tr>\n",
       "      <th>2461</th>\n",
       "      <td>Suicide Kings (1997)</td>\n",
       "    </tr>\n",
       "    <tr>\n",
       "      <th>3398</th>\n",
       "      <td>Seven Up! (1964)</td>\n",
       "    </tr>\n",
       "    <tr>\n",
       "      <th>5748</th>\n",
       "      <td>Club Dread (2004)</td>\n",
       "    </tr>\n",
       "    <tr>\n",
       "      <th>2233</th>\n",
       "      <td>Two Mules for Sister Sara (1970)</td>\n",
       "    </tr>\n",
       "    <tr>\n",
       "      <th>4924</th>\n",
       "      <td>Proof of Life (2000)</td>\n",
       "    </tr>\n",
       "    <tr>\n",
       "      <th>8725</th>\n",
       "      <td>Stalingrad (2013)</td>\n",
       "    </tr>\n",
       "    <tr>\n",
       "      <th>7668</th>\n",
       "      <td>Universal Soldier: The Return (1999)</td>\n",
       "    </tr>\n",
       "    <tr>\n",
       "      <th>8017</th>\n",
       "      <td>Mojave (2015)</td>\n",
       "    </tr>\n",
       "    <tr>\n",
       "      <th>3857</th>\n",
       "      <td>Tower Heist (2011)</td>\n",
       "    </tr>\n",
       "    <tr>\n",
       "      <th>6725</th>\n",
       "      <td>We Could Be King (2014)</td>\n",
       "    </tr>\n",
       "    <tr>\n",
       "      <th>4613</th>\n",
       "      <td>Jim Jefferies: Freedumb (2016)</td>\n",
       "    </tr>\n",
       "    <tr>\n",
       "      <th>7717</th>\n",
       "      <td>Swept Away (2002)</td>\n",
       "    </tr>\n",
       "    <tr>\n",
       "      <th>7210</th>\n",
       "      <td>Cyborg (1989)</td>\n",
       "    </tr>\n",
       "    <tr>\n",
       "      <th>8951</th>\n",
       "      <td>Mambo Italiano (2003)</td>\n",
       "    </tr>\n",
       "    <tr>\n",
       "      <th>3062</th>\n",
       "      <td>Odessa File, The (1974)</td>\n",
       "    </tr>\n",
       "    <tr>\n",
       "      <th>6777</th>\n",
       "      <td>When the Levees Broke: A Requiem in Four Acts ...</td>\n",
       "    </tr>\n",
       "    <tr>\n",
       "      <th>3813</th>\n",
       "      <td>Cottage, The (2008)</td>\n",
       "    </tr>\n",
       "    <tr>\n",
       "      <th>8716</th>\n",
       "      <td>Sword of the Stranger (Sutorejia: Mukô hadan) ...</td>\n",
       "    </tr>\n",
       "    <tr>\n",
       "      <th>5446</th>\n",
       "      <td>Non-Stop (2014)</td>\n",
       "    </tr>\n",
       "    <tr>\n",
       "      <th>5676</th>\n",
       "      <td>Beauty and the Beast (2017)</td>\n",
       "    </tr>\n",
       "    <tr>\n",
       "      <th>2365</th>\n",
       "      <td>Waltz with Bashir (Vals im Bashir) (2008)</td>\n",
       "    </tr>\n",
       "    <tr>\n",
       "      <th>...</th>\n",
       "      <td>...</td>\n",
       "    </tr>\n",
       "    <tr>\n",
       "      <th>8257</th>\n",
       "      <td>Mostly Martha (Bella Martha) (2001)</td>\n",
       "    </tr>\n",
       "    <tr>\n",
       "      <th>8307</th>\n",
       "      <td>Double Life, A (1947)</td>\n",
       "    </tr>\n",
       "    <tr>\n",
       "      <th>1365</th>\n",
       "      <td>Avengers: Age of Ultron (2015)</td>\n",
       "    </tr>\n",
       "    <tr>\n",
       "      <th>5687</th>\n",
       "      <td>Once Upon a Time... When We Were Colored (1995)</td>\n",
       "    </tr>\n",
       "    <tr>\n",
       "      <th>9349</th>\n",
       "      <td>Catwalk (1996)</td>\n",
       "    </tr>\n",
       "    <tr>\n",
       "      <th>2363</th>\n",
       "      <td>Henry Poole is Here (2008)</td>\n",
       "    </tr>\n",
       "    <tr>\n",
       "      <th>8360</th>\n",
       "      <td>Reckoning, The (2004)</td>\n",
       "    </tr>\n",
       "    <tr>\n",
       "      <th>9555</th>\n",
       "      <td>Assassination (1987)</td>\n",
       "    </tr>\n",
       "    <tr>\n",
       "      <th>2862</th>\n",
       "      <td>Er ist wieder da (2015)</td>\n",
       "    </tr>\n",
       "    <tr>\n",
       "      <th>4296</th>\n",
       "      <td>White Sun of the Desert, The (Beloe solntse pu...</td>\n",
       "    </tr>\n",
       "    <tr>\n",
       "      <th>9259</th>\n",
       "      <td>Much Ado About Nothing (2012)</td>\n",
       "    </tr>\n",
       "    <tr>\n",
       "      <th>5286</th>\n",
       "      <td>Great White Hype, The (1996)</td>\n",
       "    </tr>\n",
       "    <tr>\n",
       "      <th>5797</th>\n",
       "      <td>Nobody Knows (Dare mo shiranai) (2004)</td>\n",
       "    </tr>\n",
       "    <tr>\n",
       "      <th>7435</th>\n",
       "      <td>Strike! (a.k.a. All I Wanna Do, The Hairy Bird...</td>\n",
       "    </tr>\n",
       "    <tr>\n",
       "      <th>2985</th>\n",
       "      <td>Blades of Glory (2007)</td>\n",
       "    </tr>\n",
       "    <tr>\n",
       "      <th>604</th>\n",
       "      <td>While You Were Sleeping (1995)</td>\n",
       "    </tr>\n",
       "    <tr>\n",
       "      <th>3361</th>\n",
       "      <td>Undertaking Betty (Plots with a View) (2002)</td>\n",
       "    </tr>\n",
       "    <tr>\n",
       "      <th>5830</th>\n",
       "      <td>Mummy, The (1932)</td>\n",
       "    </tr>\n",
       "    <tr>\n",
       "      <th>6019</th>\n",
       "      <td>Chungking Express (Chung Hing sam lam) (1994)</td>\n",
       "    </tr>\n",
       "    <tr>\n",
       "      <th>1535</th>\n",
       "      <td>Pi (1998)</td>\n",
       "    </tr>\n",
       "    <tr>\n",
       "      <th>2089</th>\n",
       "      <td>Taste of Cherry (Ta'm e guilass) (1997)</td>\n",
       "    </tr>\n",
       "    <tr>\n",
       "      <th>6961</th>\n",
       "      <td>Liquid Truth (2017)</td>\n",
       "    </tr>\n",
       "    <tr>\n",
       "      <th>8241</th>\n",
       "      <td>Defiant Ones, The (1958)</td>\n",
       "    </tr>\n",
       "    <tr>\n",
       "      <th>5029</th>\n",
       "      <td>Oh Boy (A Coffee in Berlin) (2012)</td>\n",
       "    </tr>\n",
       "    <tr>\n",
       "      <th>2382</th>\n",
       "      <td>Seven Pounds (2008)</td>\n",
       "    </tr>\n",
       "    <tr>\n",
       "      <th>7622</th>\n",
       "      <td>Pretty Persuasion (2005)</td>\n",
       "    </tr>\n",
       "    <tr>\n",
       "      <th>3453</th>\n",
       "      <td>Fanboys (2009)</td>\n",
       "    </tr>\n",
       "    <tr>\n",
       "      <th>4754</th>\n",
       "      <td>Thursday (1998)</td>\n",
       "    </tr>\n",
       "    <tr>\n",
       "      <th>1830</th>\n",
       "      <td>Spy Game (2001)</td>\n",
       "    </tr>\n",
       "    <tr>\n",
       "      <th>6139</th>\n",
       "      <td>Blob, The (1988)</td>\n",
       "    </tr>\n",
       "  </tbody>\n",
       "</table>\n",
       "<p>9723 rows × 1 columns</p>\n",
       "</div>"
      ],
      "text/plain": [
       "                                                      title\n",
       "item_cat                                                   \n",
       "6700                                   Caddyshack II (1988)\n",
       "6336                              Frankie and Johnny (1991)\n",
       "5496                              Blackbeard's Ghost (1968)\n",
       "7623                                    Paradise Now (2005)\n",
       "6741       Pauline at the Beach (Pauline à la Plage) (1983)\n",
       "7513                                  Running Scared (1980)\n",
       "9307                                  Idaho Transfer (1973)\n",
       "6355                                Taking Woodstock (2009)\n",
       "8230                          Eddie and the Cruisers (1983)\n",
       "2461                                   Suicide Kings (1997)\n",
       "3398                                       Seven Up! (1964)\n",
       "5748                                      Club Dread (2004)\n",
       "2233                       Two Mules for Sister Sara (1970)\n",
       "4924                                   Proof of Life (2000)\n",
       "8725                                      Stalingrad (2013)\n",
       "7668                   Universal Soldier: The Return (1999)\n",
       "8017                                          Mojave (2015)\n",
       "3857                                     Tower Heist (2011)\n",
       "6725                                We Could Be King (2014)\n",
       "4613                         Jim Jefferies: Freedumb (2016)\n",
       "7717                                      Swept Away (2002)\n",
       "7210                                          Cyborg (1989)\n",
       "8951                                  Mambo Italiano (2003)\n",
       "3062                                Odessa File, The (1974)\n",
       "6777      When the Levees Broke: A Requiem in Four Acts ...\n",
       "3813                                    Cottage, The (2008)\n",
       "8716      Sword of the Stranger (Sutorejia: Mukô hadan) ...\n",
       "5446                                        Non-Stop (2014)\n",
       "5676                            Beauty and the Beast (2017)\n",
       "2365              Waltz with Bashir (Vals im Bashir) (2008)\n",
       "...                                                     ...\n",
       "8257                    Mostly Martha (Bella Martha) (2001)\n",
       "8307                                  Double Life, A (1947)\n",
       "1365                         Avengers: Age of Ultron (2015)\n",
       "5687        Once Upon a Time... When We Were Colored (1995)\n",
       "9349                                         Catwalk (1996)\n",
       "2363                             Henry Poole is Here (2008)\n",
       "8360                                  Reckoning, The (2004)\n",
       "9555                                   Assassination (1987)\n",
       "2862                                Er ist wieder da (2015)\n",
       "4296      White Sun of the Desert, The (Beloe solntse pu...\n",
       "9259                          Much Ado About Nothing (2012)\n",
       "5286                           Great White Hype, The (1996)\n",
       "5797                 Nobody Knows (Dare mo shiranai) (2004)\n",
       "7435      Strike! (a.k.a. All I Wanna Do, The Hairy Bird...\n",
       "2985                                 Blades of Glory (2007)\n",
       "604                          While You Were Sleeping (1995)\n",
       "3361           Undertaking Betty (Plots with a View) (2002)\n",
       "5830                                      Mummy, The (1932)\n",
       "6019          Chungking Express (Chung Hing sam lam) (1994)\n",
       "1535                                              Pi (1998)\n",
       "2089                Taste of Cherry (Ta'm e guilass) (1997)\n",
       "6961                                    Liquid Truth (2017)\n",
       "8241                               Defiant Ones, The (1958)\n",
       "5029                     Oh Boy (A Coffee in Berlin) (2012)\n",
       "2382                                    Seven Pounds (2008)\n",
       "7622                               Pretty Persuasion (2005)\n",
       "3453                                         Fanboys (2009)\n",
       "4754                                        Thursday (1998)\n",
       "1830                                        Spy Game (2001)\n",
       "6139                                       Blob, The (1988)\n",
       "\n",
       "[9723 rows x 1 columns]"
      ]
     },
     "execution_count": 21,
     "metadata": {},
     "output_type": "execute_result"
    }
   ],
   "source": [
    "md.fetch_md(a)"
   ]
  },
  {
   "cell_type": "code",
   "execution_count": null,
   "metadata": {},
   "outputs": [],
   "source": []
  }
 ],
 "metadata": {
  "kernelspec": {
   "display_name": "Python 3",
   "language": "python",
   "name": "python3"
  },
  "language_info": {
   "codemirror_mode": {
    "name": "ipython",
    "version": 3
   },
   "file_extension": ".py",
   "mimetype": "text/x-python",
   "name": "python",
   "nbconvert_exporter": "python",
   "pygments_lexer": "ipython3",
   "version": "3.5.4"
  }
 },
 "nbformat": 4,
 "nbformat_minor": 2
}
