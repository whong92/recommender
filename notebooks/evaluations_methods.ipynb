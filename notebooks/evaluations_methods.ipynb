{
 "cells": [
  {
   "cell_type": "code",
   "execution_count": 1,
   "metadata": {},
   "outputs": [],
   "source": [
    "import os, sys\n",
    "os.sys.path.append('..')\n",
    "# from recommender.utils import mongodbutils as mdb\n",
    "from recommender.utils.ItemMetadata import ExplicitDataFromCSV\n",
    "from recommender.utils.eval_utils import compute_auc, compute_ap\n",
    "# from recommender.recommender.recommenderMF import RecommenderMF\n",
    "from recommender.recommender.recommenderALS import RecommenderALS\n",
    "import pandas as pd\n",
    "import numpy as np\n",
    "import matplotlib.pyplot as plt"
   ]
  },
  {
   "cell_type": "code",
   "execution_count": 2,
   "metadata": {},
   "outputs": [],
   "source": [
    "data_folder = 'D:\\\\PycharmProjects\\\\recommender\\\\data\\\\ml-latest-small'\n",
    "ratings_csv = os.path.join(data_folder, 'ratings_sanitized.csv')\n",
    "user_map_csv = os.path.join(data_folder, 'user_map.csv')\n",
    "item_map_csv = os.path.join(data_folder, 'item_map.csv')\n",
    "md_csv = os.path.join(data_folder, 'metadata.csv')\n",
    "stats_csv = os.path.join(data_folder, 'stats.csv')\n",
    "df_train = os.path.join(data_folder, 'ratings_train.csv')\n",
    "df_test = os.path.join(data_folder, 'ratings_test.csv')\n",
    "d = ExplicitDataFromCSV(True,\n",
    "                        ratings_csv=ratings_csv,\n",
    "                        user_map_csv=user_map_csv,\n",
    "                        item_map_csv=item_map_csv,\n",
    "                        md_csv=md_csv,\n",
    "                        stats_csv=stats_csv,\n",
    "                        ratings_train_csv=df_train,\n",
    "                        ratings_test_csv=df_test\n",
    "                        )"
   ]
  },
  {
   "cell_type": "code",
   "execution_count": 3,
   "metadata": {},
   "outputs": [],
   "source": [
    "# ratings_csv = 'D:/PycharmProjects/recommender/data/ml-latest-small/ratings.csv'\n",
    "# movies_csv = 'D:/PycharmProjects/recommender/data/ml-latest-small/movies.csv'\n",
    "# d = ExplicitDataFromCSV(False,\n",
    "#                         ratings_csv=ratings_csv, r_item_col='movieId', r_user_col='userId',\n",
    "#                         r_rating_col='rating',\n",
    "#                         metadata_csv=movies_csv, m_item_col='movieId')\n",
    "# d.save('D:\\\\PycharmProjects\\\\recommender\\\\data\\\\ml-latest-small')"
   ]
  },
  {
   "cell_type": "code",
   "execution_count": 4,
   "metadata": {},
   "outputs": [],
   "source": [
    "# model_path = 'D:/PycharmProjects/recommender/recommender/models/model/07201914185949/'\n",
    "# rmf = RecommenderMF(mode='predict', model_path=model_path)"
   ]
  },
  {
   "cell_type": "code",
   "execution_count": 6,
   "metadata": {},
   "outputs": [],
   "source": [
    "model_folder = 'D:\\\\PycharmProjects\\\\recommender\\\\models'\n",
    "model_path = os.path.join(model_folder, 'ALS_01202018225751')\n",
    "rmf = RecommenderALS(mode='predict', model_path=model_path)"
   ]
  },
  {
   "cell_type": "code",
   "execution_count": 8,
   "metadata": {},
   "outputs": [
    {
     "data": {
      "text/plain": [
       "2.9068446998538664"
      ]
     },
     "execution_count": 8,
     "metadata": {},
     "output_type": "execute_result"
    }
   ],
   "source": [
    "F = rmf.predict(np.array(d.df_test['user']), np.array(d.df_test['item']))\n",
    "np.sqrt(np.mean(np.power(F['rhat'] - d.df_test['rating'],2)))"
   ]
  },
  {
   "cell_type": "code",
   "execution_count": 9,
   "metadata": {},
   "outputs": [
    {
     "data": {
      "text/html": [
       "<div>\n",
       "<style scoped>\n",
       "    .dataframe tbody tr th:only-of-type {\n",
       "        vertical-align: middle;\n",
       "    }\n",
       "\n",
       "    .dataframe tbody tr th {\n",
       "        vertical-align: top;\n",
       "    }\n",
       "\n",
       "    .dataframe thead th {\n",
       "        text-align: right;\n",
       "    }\n",
       "</style>\n",
       "<table border=\"1\" class=\"dataframe\">\n",
       "  <thead>\n",
       "    <tr style=\"text-align: right;\">\n",
       "      <th></th>\n",
       "      <th>item</th>\n",
       "      <th>user_x</th>\n",
       "      <th>rating</th>\n",
       "      <th>user_y</th>\n",
       "    </tr>\n",
       "  </thead>\n",
       "  <tbody>\n",
       "    <tr>\n",
       "      <th>0</th>\n",
       "      <td>0</td>\n",
       "      <td>303.455056</td>\n",
       "      <td>3.938202</td>\n",
       "      <td>215</td>\n",
       "    </tr>\n",
       "    <tr>\n",
       "      <th>1</th>\n",
       "      <td>1</td>\n",
       "      <td>329.701149</td>\n",
       "      <td>3.442529</td>\n",
       "      <td>110</td>\n",
       "    </tr>\n",
       "    <tr>\n",
       "      <th>2</th>\n",
       "      <td>2</td>\n",
       "      <td>271.204545</td>\n",
       "      <td>3.329545</td>\n",
       "      <td>52</td>\n",
       "    </tr>\n",
       "    <tr>\n",
       "      <th>4</th>\n",
       "      <td>4</td>\n",
       "      <td>300.209302</td>\n",
       "      <td>3.058140</td>\n",
       "      <td>49</td>\n",
       "    </tr>\n",
       "    <tr>\n",
       "      <th>5</th>\n",
       "      <td>5</td>\n",
       "      <td>300.405405</td>\n",
       "      <td>3.918919</td>\n",
       "      <td>102</td>\n",
       "    </tr>\n",
       "  </tbody>\n",
       "</table>\n",
       "</div>"
      ],
      "text/plain": [
       "   item      user_x    rating  user_y\n",
       "0     0  303.455056  3.938202     215\n",
       "1     1  329.701149  3.442529     110\n",
       "2     2  271.204545  3.329545      52\n",
       "4     4  300.209302  3.058140      49\n",
       "5     5  300.405405  3.918919     102"
      ]
     },
     "execution_count": 9,
     "metadata": {},
     "output_type": "execute_result"
    }
   ],
   "source": [
    "A = d.df_train[['user', 'item', 'rating']]\n",
    "A = d.df_train[['user', 'item', 'rating']].groupby('item', as_index=False).agg('mean')\n",
    "A = A.merge(d.stats, on='item')\n",
    "A = A[A['user_y']>10]\n",
    "A.head()"
   ]
  },
  {
   "cell_type": "code",
   "execution_count": 10,
   "metadata": {},
   "outputs": [
    {
     "data": {
      "text/html": [
       "<div>\n",
       "<style scoped>\n",
       "    .dataframe tbody tr th:only-of-type {\n",
       "        vertical-align: middle;\n",
       "    }\n",
       "\n",
       "    .dataframe tbody tr th {\n",
       "        vertical-align: top;\n",
       "    }\n",
       "\n",
       "    .dataframe thead th {\n",
       "        text-align: right;\n",
       "    }\n",
       "</style>\n",
       "<table border=\"1\" class=\"dataframe\">\n",
       "  <thead>\n",
       "    <tr style=\"text-align: right;\">\n",
       "      <th></th>\n",
       "      <th>user</th>\n",
       "      <th>item</th>\n",
       "      <th>rating</th>\n",
       "    </tr>\n",
       "  </thead>\n",
       "  <tbody>\n",
       "    <tr>\n",
       "      <th>0</th>\n",
       "      <td>327</td>\n",
       "      <td>8421</td>\n",
       "      <td>3.5</td>\n",
       "    </tr>\n",
       "    <tr>\n",
       "      <th>1</th>\n",
       "      <td>589</td>\n",
       "      <td>506</td>\n",
       "      <td>4.0</td>\n",
       "    </tr>\n",
       "    <tr>\n",
       "      <th>2</th>\n",
       "      <td>602</td>\n",
       "      <td>419</td>\n",
       "      <td>4.0</td>\n",
       "    </tr>\n",
       "    <tr>\n",
       "      <th>3</th>\n",
       "      <td>605</td>\n",
       "      <td>902</td>\n",
       "      <td>4.0</td>\n",
       "    </tr>\n",
       "    <tr>\n",
       "      <th>4</th>\n",
       "      <td>215</td>\n",
       "      <td>2143</td>\n",
       "      <td>4.0</td>\n",
       "    </tr>\n",
       "  </tbody>\n",
       "</table>\n",
       "</div>"
      ],
      "text/plain": [
       "   user  item  rating\n",
       "0   327  8421     3.5\n",
       "1   589   506     4.0\n",
       "2   602   419     4.0\n",
       "3   605   902     4.0\n",
       "4   215  2143     4.0"
      ]
     },
     "execution_count": 10,
     "metadata": {},
     "output_type": "execute_result"
    }
   ],
   "source": [
    "df_test_rel = d.df_test[d.df_test['rating']>3.0]\n",
    "df_test_rel.head()"
   ]
  },
  {
   "cell_type": "code",
   "execution_count": 11,
   "metadata": {},
   "outputs": [
    {
     "data": {
      "image/png": "[encoded data removed]",
      "text/plain": [
       "<Figure size 432x288 with 1 Axes>"
      ]
     },
     "metadata": {
      "needs_background": "light"
     },
     "output_type": "display_data"
    }
   ],
   "source": [
    "plt.hist(df_test_rel['rating'])\n",
    "plt.show()"
   ]
  },
  {
   "cell_type": "code",
   "execution_count": 13,
   "metadata": {},
   "outputs": [
    {
     "name": "stdout",
     "output_type": "stream",
     "text": [
      "9724 9686\n"
     ]
    }
   ],
   "source": [
    "# remove train info from testing\n",
    "user = 500\n",
    "df_test_excl = d.df_train.loc[d.df_train.user==user]\n",
    "\n",
    "rec = rmf.recommend(user)[0]\n",
    "rec_filt = pd.DataFrame({'item': rec}, )\n",
    "rec_filt = pd.merge(rec_filt, df_test_excl ,on=\"item\", how=\"outer\",indicator=True)\n",
    "rec_filt = rec_filt.loc[rec_filt._merge=='left_only']['item']\n",
    "print(len(rec), len(rec_filt))"
   ]
  },
  {
   "cell_type": "code",
   "execution_count": 14,
   "metadata": {},
   "outputs": [
    {
     "name": "stdout",
     "output_type": "stream",
     "text": [
      "9686 2\n"
     ]
    },
    {
     "data": {
      "image/png": "[encoded data removed]",
      "text/plain": [
       "<Figure size 432x288 with 2 Axes>"
      ]
     },
     "metadata": {
      "needs_background": "light"
     },
     "output_type": "display_data"
    }
   ],
   "source": [
    "pos = df_test_rel[df_test_rel['user']==user]['item']\n",
    "\n",
    "pos = set(pos)\n",
    "n = len(rec_filt)\n",
    "p = len(pos)\n",
    "\n",
    "print(n, p)\n",
    "\n",
    "f = n - p\n",
    "tp = 0\n",
    "fp = 0\n",
    "prec = []\n",
    "sens = []\n",
    "fpr = []\n",
    "tp_pos = []\n",
    "\n",
    "for i, r in enumerate(rec_filt):\n",
    "    if r in pos:\n",
    "        tp += 1\n",
    "        tp_pos.append(i)\n",
    "    else:\n",
    "        fp += 1\n",
    "    prec.append(tp/(i+1))\n",
    "    sens.append(tp/p)\n",
    "    fpr.append(fp/f)\n",
    "\n",
    "plt.subplot(121)\n",
    "plt.plot(sens, prec, 'o')\n",
    "plt.subplot(122)\n",
    "plt.plot(fpr, sens, 'o')\n",
    "plt.plot([0,1], [0,1], 'r:')\n",
    "plt.show()"
   ]
  },
  {
   "cell_type": "code",
   "execution_count": 15,
   "metadata": {},
   "outputs": [
    {
     "name": "stdout",
     "output_type": "stream",
     "text": [
      "0.030748139443791615\n",
      "0.9932362660057827\n"
     ]
    }
   ],
   "source": [
    "prec = np.array(prec)\n",
    "sens = np.array(sens)\n",
    "fpr = np.array(fpr)\n",
    "dsens = sens[1:] - sens[:-1]\n",
    "dfpr = fpr[1:] - fpr[:-1]\n",
    "print(np.sum(prec[1:]*dsens))\n",
    "print(np.sum(sens[1:]*dfpr))"
   ]
  },
  {
   "cell_type": "code",
   "execution_count": 18,
   "metadata": {},
   "outputs": [
    {
     "data": {
      "text/plain": [
       "0.9932362660057827"
      ]
     },
     "execution_count": 18,
     "metadata": {},
     "output_type": "execute_result"
    }
   ],
   "source": [
    "compute_auc(rmf, user, df_test_rel, d.df_train)"
   ]
  },
  {
   "cell_type": "code",
   "execution_count": 19,
   "metadata": {},
   "outputs": [
    {
     "data": {
      "text/plain": [
       "0.030748139443791615"
      ]
     },
     "execution_count": 19,
     "metadata": {},
     "output_type": "execute_result"
    }
   ],
   "source": [
    "compute_ap(rmf, user, df_test_rel, d.df_train)"
   ]
  },
  {
   "cell_type": "code",
   "execution_count": 20,
   "metadata": {},
   "outputs": [],
   "source": [
    "item = 293"
   ]
  },
  {
   "cell_type": "code",
   "execution_count": 33,
   "metadata": {},
   "outputs": [
    {
     "name": "stdout",
     "output_type": "stream",
     "text": [
      "                        title                       genres\n",
      "item_cat                                                  \n",
      "257       Pulp Fiction (1994)  Comedy|Crime|Drama|Thriller\n"
     ]
    }
   ],
   "source": [
    "r = d.md_df.loc[d.md_df['title'].map(lambda t: t.startswith('Pulp Fiction'))]\n",
    "print(r)"
   ]
  },
  {
   "cell_type": "code",
   "execution_count": 34,
   "metadata": {},
   "outputs": [],
   "source": [
    "item = r.index[0]\n",
    "a,s = rmf.similar_to(item)"
   ]
  },
  {
   "cell_type": "code",
   "execution_count": 35,
   "metadata": {},
   "outputs": [
    {
     "data": {
      "text/html": [
       "<div>\n",
       "<style scoped>\n",
       "    .dataframe tbody tr th:only-of-type {\n",
       "        vertical-align: middle;\n",
       "    }\n",
       "\n",
       "    .dataframe tbody tr th {\n",
       "        vertical-align: top;\n",
       "    }\n",
       "\n",
       "    .dataframe thead th {\n",
       "        text-align: right;\n",
       "    }\n",
       "</style>\n",
       "<table border=\"1\" class=\"dataframe\">\n",
       "  <thead>\n",
       "    <tr style=\"text-align: right;\">\n",
       "      <th></th>\n",
       "      <th>title</th>\n",
       "      <th>genres</th>\n",
       "      <th>user</th>\n",
       "    </tr>\n",
       "    <tr>\n",
       "      <th>item_cat</th>\n",
       "      <th></th>\n",
       "      <th></th>\n",
       "      <th></th>\n",
       "    </tr>\n",
       "  </thead>\n",
       "  <tbody>\n",
       "    <tr>\n",
       "      <th>314</th>\n",
       "      <td>Forrest Gump (1994)</td>\n",
       "      <td>Comedy|Drama|Romance|War</td>\n",
       "      <td>329</td>\n",
       "    </tr>\n",
       "    <tr>\n",
       "      <th>43</th>\n",
       "      <td>Seven (a.k.a. Se7en) (1995)</td>\n",
       "      <td>Mystery|Thriller</td>\n",
       "      <td>203</td>\n",
       "    </tr>\n",
       "    <tr>\n",
       "      <th>510</th>\n",
       "      <td>Silence of the Lambs, The (1991)</td>\n",
       "      <td>Crime|Horror|Thriller</td>\n",
       "      <td>279</td>\n",
       "    </tr>\n",
       "    <tr>\n",
       "      <th>461</th>\n",
       "      <td>Schindler's List (1993)</td>\n",
       "      <td>Drama|War</td>\n",
       "      <td>220</td>\n",
       "    </tr>\n",
       "    <tr>\n",
       "      <th>31</th>\n",
       "      <td>Twelve Monkeys (a.k.a. 12 Monkeys) (1995)</td>\n",
       "      <td>Mystery|Sci-Fi|Thriller</td>\n",
       "      <td>177</td>\n",
       "    </tr>\n",
       "    <tr>\n",
       "      <th>...</th>\n",
       "      <td>...</td>\n",
       "      <td>...</td>\n",
       "      <td>...</td>\n",
       "    </tr>\n",
       "    <tr>\n",
       "      <th>1857</th>\n",
       "      <td>Crocodile Dundee (1986)</td>\n",
       "      <td>Adventure|Comedy</td>\n",
       "      <td>57</td>\n",
       "    </tr>\n",
       "    <tr>\n",
       "      <th>6743</th>\n",
       "      <td>Kung Fu Panda (2008)</td>\n",
       "      <td>Action|Animation|Children|Comedy|IMAX</td>\n",
       "      <td>54</td>\n",
       "    </tr>\n",
       "    <tr>\n",
       "      <th>6520</th>\n",
       "      <td>Superbad (2007)</td>\n",
       "      <td>Comedy</td>\n",
       "      <td>55</td>\n",
       "    </tr>\n",
       "    <tr>\n",
       "      <th>8457</th>\n",
       "      <td>Guardians of the Galaxy (2014)</td>\n",
       "      <td>Action|Adventure|Sci-Fi</td>\n",
       "      <td>59</td>\n",
       "    </tr>\n",
       "    <tr>\n",
       "      <th>6464</th>\n",
       "      <td>Knocked Up (2007)</td>\n",
       "      <td>Comedy|Drama|Romance</td>\n",
       "      <td>52</td>\n",
       "    </tr>\n",
       "  </tbody>\n",
       "</table>\n",
       "<p>435 rows × 3 columns</p>\n",
       "</div>"
      ],
      "text/plain": [
       "                                              title  \\\n",
       "item_cat                                              \n",
       "314                             Forrest Gump (1994)   \n",
       "43                      Seven (a.k.a. Se7en) (1995)   \n",
       "510                Silence of the Lambs, The (1991)   \n",
       "461                         Schindler's List (1993)   \n",
       "31        Twelve Monkeys (a.k.a. 12 Monkeys) (1995)   \n",
       "...                                             ...   \n",
       "1857                        Crocodile Dundee (1986)   \n",
       "6743                           Kung Fu Panda (2008)   \n",
       "6520                                Superbad (2007)   \n",
       "8457                 Guardians of the Galaxy (2014)   \n",
       "6464                              Knocked Up (2007)   \n",
       "\n",
       "                                         genres  user  \n",
       "item_cat                                               \n",
       "314                    Comedy|Drama|Romance|War   329  \n",
       "43                             Mystery|Thriller   203  \n",
       "510                       Crime|Horror|Thriller   279  \n",
       "461                                   Drama|War   220  \n",
       "31                      Mystery|Sci-Fi|Thriller   177  \n",
       "...                                         ...   ...  \n",
       "1857                           Adventure|Comedy    57  \n",
       "6743      Action|Animation|Children|Comedy|IMAX    54  \n",
       "6520                                     Comedy    55  \n",
       "8457                    Action|Adventure|Sci-Fi    59  \n",
       "6464                       Comedy|Drama|Romance    52  \n",
       "\n",
       "[435 rows x 3 columns]"
      ]
     },
     "execution_count": 35,
     "metadata": {},
     "output_type": "execute_result"
    }
   ],
   "source": [
    "md = d.fetch_md(a).merge(d.stats, right_index=True, left_on='item_cat')\n",
    "md[md['user'] > 50]"
   ]
  },
  {
   "cell_type": "code",
   "execution_count": null,
   "metadata": {},
   "outputs": [],
   "source": []
  }
 ],
 "metadata": {
  "kernelspec": {
   "display_name": "Python 3",
   "language": "python",
   "name": "python3"
  },
  "language_info": {
   "codemirror_mode": {
    "name": "ipython",
    "version": 3
   },
   "file_extension": ".py",
   "mimetype": "text/x-python",
   "name": "python",
   "nbconvert_exporter": "python",
   "pygments_lexer": "ipython3",
   "version": "3.7.5"
  }
 },
 "nbformat": 4,
 "nbformat_minor": 1
}
